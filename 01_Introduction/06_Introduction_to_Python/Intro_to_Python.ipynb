{
 "cells": [
  {
   "cell_type": "markdown",
   "metadata": {},
   "source": [
    "# Introduction to Python\n",
    "\n",
    "Welcome! The purpose of this module is to give a brief introduction to Python 3 syntax. Please make sure you have followed the \"02_Installing_Python\" module before beginning this one.\n",
    "\n",
    "Note: Different versions of Python may have different syntax and behavior for certain commands. This module explains syntax for Python version 3.7. "
   ]
  },
  {
   "cell_type": "markdown",
   "metadata": {},
   "source": [
    "<b> What is Python?</b>\n",
    "\n",
    "Python is a highly readable programming language that comes with an extensive standard library for working with a wide range of data types, including text, numeric, and sequences (lists) of data. The Python community has extended this standard library for many tasks including visualization, data analysis, and artificial intelligence. Learning Python will give you access to all of these tools and help you make sense of your data."
   ]
  },
  {
   "cell_type": "markdown",
   "metadata": {},
   "source": [
    "# Python basics"
   ]
  },
  {
   "cell_type": "markdown",
   "metadata": {},
   "source": [
    "## Print statements\n",
    "Print statements are used to output values. Try typing the following in a new Jupyter notebook, then hitting <kbd>Shift</kbd>+<kbd>return</kbd> to run the cell:"
   ]
  },
  {
   "cell_type": "code",
   "execution_count": 1,
   "metadata": {},
   "outputs": [
    {
     "name": "stdout",
     "output_type": "stream",
     "text": [
      "Hello world!\n"
     ]
    }
   ],
   "source": [
    "print('Hello world!')"
   ]
  },
  {
   "cell_type": "markdown",
   "metadata": {},
   "source": [
    "## Variables"
   ]
  },
  {
   "cell_type": "markdown",
   "metadata": {},
   "source": [
    "Variables are used to store values. These values can be of various **data types** or **data structures**, such as the following:"
   ]
  },
  {
   "cell_type": "markdown",
   "metadata": {},
   "source": [
    "### Data types\n",
    "* <b>strings (str): </b>\n",
    "    * Definition: a sequence of characters\n",
    "    * Syntax: single or double quotes\n",
    "    * Example: \n",
    "    ```python\n",
    "    var = 'Hello world!'\n",
    "     ```"
   ]
  },
  {
   "cell_type": "markdown",
   "metadata": {},
   "source": [
    "* <b>int, float: </b>\n",
    "    * Definition: integer or floating point number (i.e. written with decimal point)\n",
    "    * Syntax: number (with decimal point for float)\n",
    "    * Example: \n",
    " "
   ]
  },
  {
   "cell_type": "code",
   "execution_count": 7,
   "metadata": {
    "scrolled": true
   },
   "outputs": [
    {
     "name": "stdout",
     "output_type": "stream",
     "text": [
      "<class 'int'> <class 'float'>\n"
     ]
    }
   ],
   "source": [
    "var1 = 2\n",
    "var2 = 2.0\n",
    "\n",
    "print(type(var1), type(var2))\n"
   ]
  },
  {
   "cell_type": "markdown",
   "metadata": {},
   "source": [
    "* <b>bool: </b>\n",
    "    * Definition: data type with values 'True', which is interpreted as 1, or 'False', which is interpreted as 0\n",
    "    * Syntax: True or False\n",
    "    * Example: "
   ]
  },
  {
   "cell_type": "code",
   "execution_count": 28,
   "metadata": {},
   "outputs": [
    {
     "name": "stdout",
     "output_type": "stream",
     "text": [
      "Bool variable is True\n",
      "Bool variable is False\n",
      "2\n"
     ]
    }
   ],
   "source": [
    "bool_var = True\n",
    "if bool_var:\n",
    "    print('Bool variable is True')\n",
    "\n",
    "# True = 1, False = 0\n",
    "bool_var_2 = 0\n",
    "if not bool_var_2:\n",
    "    print('Bool variable is False')\n",
    "else: \n",
    "    print('Bool variable is True')\n",
    "\n",
    "print(True + True)"
   ]
  },
  {
   "cell_type": "markdown",
   "metadata": {},
   "source": [
    "### Data structures"
   ]
  },
  {
   "cell_type": "markdown",
   "metadata": {},
   "source": [
    "* <b>Tuples: </b>\n",
    "    * Definition: data structures that store multiple values in a single variable that is ordered and unchangeable; allow duplicates\n",
    "    * Syntax: parentheses around the tuple with commas to separate each element\n",
    "    * Example: "
   ]
  },
  {
   "cell_type": "code",
   "execution_count": 16,
   "metadata": {},
   "outputs": [],
   "source": [
    "tuple_example = (1, 2.0, 3, 'a', 'b', 'c')"
   ]
  },
  {
   "cell_type": "markdown",
   "metadata": {},
   "source": [
    "* <b>List:</b> \n",
    "    * Definition: data structure that stores multiple values in a single variable; allows duplicates\n",
    "    * Syntax: square brackets around the list with commas to separate each element\n",
    "    * Example: "
   ]
  },
  {
   "cell_type": "code",
   "execution_count": 8,
   "metadata": {},
   "outputs": [],
   "source": [
    "list_example = [1, 2.0, 3, 'a', 'b', 'c']"
   ]
  },
  {
   "cell_type": "markdown",
   "metadata": {},
   "source": [
    "* <b>Sets:</b> \n",
    "    * Definition: data structure that stores multiple values in a single variable; unordered, unindexed, duplicates ignored\n",
    "    * Syntax: curly brackets around the set with commas to separate each element\n",
    "    * Example: "
   ]
  },
  {
   "cell_type": "code",
   "execution_count": 17,
   "metadata": {},
   "outputs": [
    {
     "name": "stdout",
     "output_type": "stream",
     "text": [
      "{1, 2.0, 3, 'c', 'b', 'a'}\n"
     ]
    }
   ],
   "source": [
    "set_example = {1, 2.0, 3, 'a', 'b', 'c', 'c'}\n",
    "print(set_example)"
   ]
  },
  {
   "cell_type": "markdown",
   "metadata": {},
   "source": [
    "* <b>Dictionaries: </b>\n",
    "    * Definition: data structure that maps keys (strings) to values (any data type); unordered, no duplicates\n",
    "    * Syntax: curly brackets around the dictionary with commas to separate each element, where each element consists of a key-value pair separated by a colon\n",
    "    * A dictionary's can be accessed by the following functions:\n",
    "        * to get value at specified key: \\[dictionary_name\\]\\[key\\]\n",
    "        * to get keys: \\[dictionary_name\\].keys()\n",
    "        * to get values: \\[dictionary_name\\].values()\n",
    "        * to get keys and values: \\[dictionary_name\\].items()\n",
    "        \n",
    "    * Example: "
   ]
  },
  {
   "cell_type": "code",
   "execution_count": 25,
   "metadata": {},
   "outputs": [
    {
     "name": "stdout",
     "output_type": "stream",
     "text": [
      "1\n",
      "dict_keys(['a', 'b', 'c'])\n",
      "dict_values([1, 2.0, 'three'])\n",
      "dict_items([('a', 1), ('b', 2.0), ('c', 'three')])\n"
     ]
    }
   ],
   "source": [
    "dictionary = {'a': 1, 'b': 2.0, 'c': 'three'}\n",
    "print(dictionary['a'])\n",
    "print(dictionary.keys())\n",
    "print(dictionary.values())\n",
    "print(dictionary.items())"
   ]
  },
  {
   "cell_type": "markdown",
   "metadata": {},
   "source": [
    "<b>Summary:</b>\n",
    "\n",
    "| Data Structure | Syntax | Ordered?     |Changeable?|Duplicates?|\n",
    "| :---:          | :----: |        :---: |  :----:   |  :----:   |\n",
    "| Tuple      | ('a', 'b', 'c') | yes     |no         |yes        |\n",
    "| List      | \\['a', 'b', 'c'\\] | yes     |yes         |yes        |\n",
    "| Set      | {'a', 'b', 'c'} | no     |no         |no        |\n",
    "| Dictionary     | {'a':1, 'b':2, 'c':3} | yes*     |yes         |no        |\n",
    "\n",
    "\\*as of Python 3.7"
   ]
  },
  {
   "cell_type": "markdown",
   "metadata": {},
   "source": [
    "## Indentation\n",
    "\n",
    "Indentation is essential in Python to specify blocks of code. If a section of code is not correctly indented, it may throw an error, or result in an unintended output. In some other programming languages code blocks may be indicated using {}. \n",
    "\n",
    "<b>Tip:</b> In Jupyter notebooks, there are keyboard shortcuts to indent blocks of code: \n",
    "* right indent: <kbd>command</kbd>+<kbd>]</kbd>\n",
    "* left indent: <kbd>command</kbd>+<kbd>[</kbd>\n",
    "\n",
    "Check out the Jupyter_Notebooks_shortcuts_tips module in the 04_Jupyter_Notebooks section for more shortcuts"
   ]
  },
  {
   "cell_type": "code",
   "execution_count": 5,
   "metadata": {},
   "outputs": [
    {
     "name": "stdout",
     "output_type": "stream",
     "text": [
      "5 is odd\n"
     ]
    }
   ],
   "source": [
    "x = 5\n",
    "if x % 2 != 0: # check if remainder when dividing by 2 is 0\n",
    "    print(\"5 is odd\")"
   ]
  },
  {
   "cell_type": "markdown",
   "metadata": {},
   "source": [
    "## If-else statements"
   ]
  },
  {
   "cell_type": "markdown",
   "metadata": {},
   "source": [
    "* Definition: \"if\" statements indicate blocks of code that should only be run if a certain condition is met\n",
    "* Syntax: \"if\" followed by condition followed by a colon \n",
    "    * Condition syntax:\n",
    "        * equal to: ==\n",
    "        * not equal to: !=\n",
    "        * greater than: >\n",
    "        * greater than or equal to: >=\n",
    "        * less than: <\n",
    "        * less than or equal to: <=\n",
    "* Example: "
   ]
  },
  {
   "cell_type": "code",
   "execution_count": 12,
   "metadata": {},
   "outputs": [
    {
     "name": "stdout",
     "output_type": "stream",
     "text": [
      "a is greater than b\n"
     ]
    }
   ],
   "source": [
    "a = 5\n",
    "b = 2\n",
    "\n",
    "if a > b:\n",
    "    print('a is greater than b')\n",
    "if b > a:\n",
    "    print('b is greater than a')"
   ]
  },
  {
   "cell_type": "markdown",
   "metadata": {},
   "source": [
    "## Loops"
   ]
  },
  {
   "cell_type": "markdown",
   "metadata": {},
   "source": [
    "### While loops"
   ]
  },
  {
   "cell_type": "markdown",
   "metadata": {},
   "source": [
    "* Definition: \"while\" loops indicate block of code that should be repeatedly run while a certain condition is met\n",
    "* Syntax: \"while\" followed by condition followed by a colon \n",
    "* <b> Beware infinite loops!</b> Make sure the \"while\" condition has a finite end point, otherwise your code will be stuck in the loop and you will have to force quit your code. \n",
    "* Example:"
   ]
  },
  {
   "cell_type": "code",
   "execution_count": 15,
   "metadata": {},
   "outputs": [
    {
     "name": "stdout",
     "output_type": "stream",
     "text": [
      "1 is less than 3\n",
      "2 is less than 3\n"
     ]
    }
   ],
   "source": [
    "x=1\n",
    "while x < 3:\n",
    "    print(x, 'is less than 3')\n",
    "    x+=1 # increase the value of x by an increment of 1"
   ]
  },
  {
   "cell_type": "markdown",
   "metadata": {},
   "source": [
    "### For loops"
   ]
  },
  {
   "cell_type": "markdown",
   "metadata": {},
   "source": [
    "* Definition: \"for\" loops iterate a block of code over a sequence (e.g. string, list, dictionary, tuple, set)\n",
    "* Syntax: \"for\" followed by condition followed by a colon \n",
    "* Example:"
   ]
  },
  {
   "cell_type": "code",
   "execution_count": 21,
   "metadata": {},
   "outputs": [
    {
     "name": "stdout",
     "output_type": "stream",
     "text": [
      "0\n",
      "1\n",
      "2\n",
      "1\n",
      "2.0\n",
      "3\n",
      "a\n",
      "b\n",
      "c\n"
     ]
    }
   ],
   "source": [
    "for element in list_example:\n",
    "    print(element)\n",
    "\n",
    "for element in dictionary:\n",
    "    print(element)\n"
   ]
  },
  {
   "cell_type": "markdown",
   "metadata": {},
   "source": [
    "## Comments"
   ]
  },
  {
   "cell_type": "markdown",
   "metadata": {},
   "source": [
    "* Definition: Comments are annotations of code that will not be run. They can be used to explain code or to skip a line of code that you don't want to run\n",
    "* Syntax: \"#\" before any line of code will comment it out; a comment can also be its own line\n",
    "* <b>Tip:</b> <kbd>command</kbd>+<kbd>/</kbd> will comment out the line that the cursor is on, or any highlighted text\n",
    "* Example:"
   ]
  },
  {
   "cell_type": "code",
   "execution_count": 19,
   "metadata": {},
   "outputs": [
    {
     "name": "stdout",
     "output_type": "stream",
     "text": [
      "This line is not a comment\n"
     ]
    }
   ],
   "source": [
    "# This line is a comment\n",
    "# print('This line is commented out')\n",
    "print('This line is not a comment')"
   ]
  },
  {
   "cell_type": "markdown",
   "metadata": {},
   "source": [
    "## Functions"
   ]
  },
  {
   "cell_type": "markdown",
   "metadata": {},
   "source": [
    "* Definition: functions are chunks of code that are run when called; they often have input parameters and may return an output value \n",
    "* Syntax: \"def\" followed by the name of the function followed by parentheses containing any parameters followed by a colon; the contents of the function must be indented and return output\n",
    "* <b>Tip:</b> Functions are a useful tool for organizing code. If you find yourself copying and pasting the same chunk of code multiple times, that may be a sign that you can turn that code into a function that you can call throughout the program. \n",
    "* Example (from poola):"
   ]
  },
  {
   "cell_type": "code",
   "execution_count": 10,
   "metadata": {},
   "outputs": [
    {
     "data": {
      "text/html": [
       "<div>\n",
       "<style scoped>\n",
       "    .dataframe tbody tr th:only-of-type {\n",
       "        vertical-align: middle;\n",
       "    }\n",
       "\n",
       "    .dataframe tbody tr th {\n",
       "        vertical-align: top;\n",
       "    }\n",
       "\n",
       "    .dataframe thead th {\n",
       "        text-align: right;\n",
       "    }\n",
       "</style>\n",
       "<table border=\"1\" class=\"dataframe\">\n",
       "  <thead>\n",
       "    <tr style=\"text-align: right;\">\n",
       "      <th></th>\n",
       "      <th>sgRNA Sequence</th>\n",
       "      <th>pDNA</th>\n",
       "      <th>pDNA_lognorm</th>\n",
       "    </tr>\n",
       "  </thead>\n",
       "  <tbody>\n",
       "    <tr>\n",
       "      <th>0</th>\n",
       "      <td>AAAAAAAATCCGGACAATGG</td>\n",
       "      <td>522</td>\n",
       "      <td>18.946853</td>\n",
       "    </tr>\n",
       "    <tr>\n",
       "      <th>1</th>\n",
       "      <td>AAAAAAAGGATGGTGATCAA</td>\n",
       "      <td>511</td>\n",
       "      <td>18.916126</td>\n",
       "    </tr>\n",
       "  </tbody>\n",
       "</table>\n",
       "</div>"
      ],
      "text/plain": [
       "         sgRNA Sequence  pDNA  pDNA_lognorm\n",
       "0  AAAAAAAATCCGGACAATGG   522     18.946853\n",
       "1  AAAAAAAGGATGGTGATCAA   511     18.916126"
      ]
     },
     "execution_count": 10,
     "metadata": {},
     "output_type": "execute_result"
    }
   ],
   "source": [
    "import pandas as pd \n",
    "import numpy as np\n",
    "\n",
    "def lognorm(reads):\n",
    "    \"\"\"\n",
    "    Standardize read counts by calculating reads per million,\n",
    "    adding a pseudo-count of one, and taking the log2\n",
    "    reads: numpy or pandas array |\n",
    "    returns: numpy or pandas array\n",
    "    \"\"\"\n",
    "    reads_per_million = (reads/reads.sum())*(10**6)\n",
    "    lognormed_reads = np.log2(reads_per_million + 1)\n",
    "    return lognormed_reads\n",
    "\n",
    "reads = {'sgRNA Sequence':['AAAAAAAATCCGGACAATGG', 'AAAAAAAGGATGGTGATCAA'], 'pDNA':[522, 511]}\n",
    "sample_reads_df = pd.DataFrame(reads)\n",
    "sample_reads_df['pDNA_lognorm'] = lognorm(sample_reads_df['pDNA'])\n",
    "sample_reads_df"
   ]
  },
  {
   "cell_type": "markdown",
   "metadata": {},
   "source": [
    "## Where can I learn more?\n",
    "\n",
    "Please note that this module is by no means intended to be a comprehensive introduction. There are lots of great Python courses available designed for beginners on websites such as:\n",
    "* [DataCamp](https://www.datacamp.com/courses/intro-to-python-for-data-science)\n",
    "* [Codecademy](https://www.codecademy.com/learn/learn-python-3)\n",
    "* [LearnPython](https://www.learnpython.org/)\n",
    "* etc.\n",
    "\n",
    "If you're not sure about a course, please feel free to reach out to one of the computationalists to take a look. If you're particularly happy with a course that isn't listed, do let us know and we'll add it to the list."
   ]
  },
  {
   "cell_type": "markdown",
   "metadata": {},
   "source": [
    "## I'm stuck. Where can I get help?\n",
    "\n",
    "If you're feeling overwhelmed from all this information, don't worry! You're not alone. Programming takes a lot of practice, and no one is expected to memorize everything. Programmers of all levels constantly look up syntax and ways to improve their code. It's also important to note that there's usually more than one way to write code, so if your approach is different from someone else's, it doesn't mean it's wrong! \n",
    "\n",
    "Fortunately, Python is a very well-documented programming language. In addition to this module, there are many additional resources you can reference if you ever get stuck. Here are some of our recommendations:\n",
    "\n",
    "* [Stack Overflow](https://stackoverflow.com/): If you're getting an error in your code that you don't understand, or you're having trouble figuring out the right commands to execute a task, chances are, someone else has tried to do something similar. Stack Overflow is a question and answer forum that usually has the answers you're looking for in this situation.\n",
    "\n",
    "* [W3Schools](https://www.w3schools.com/python/default.asp): If you have a syntax question, W3Schools is a good reference because it's clearly organized with basic examples. You can also go to [python.org](https://docs.python.org/3/) for a more detailed breakdown of Python functions, classes, and terms.\n",
    "\n",
    "* If you're still stuck, now's a good time to ask anyone in R&D to take a look at your code with fresh eyes. It can be  difficult to catch bugs in your own code after staring at it for a while. "
   ]
  }
 ],
 "metadata": {
  "kernelspec": {
   "display_name": "Python 3",
   "language": "python",
   "name": "python3"
  },
  "language_info": {
   "codemirror_mode": {
    "name": "ipython",
    "version": 3
   },
   "file_extension": ".py",
   "mimetype": "text/x-python",
   "name": "python",
   "nbconvert_exporter": "python",
   "pygments_lexer": "ipython3",
   "version": "3.7.6"
  },
  "toc": {
   "base_numbering": 1,
   "nav_menu": {},
   "number_sections": true,
   "sideBar": true,
   "skip_h1_title": false,
   "title_cell": "Table of Contents",
   "title_sidebar": "Contents",
   "toc_cell": false,
   "toc_position": {},
   "toc_section_display": true,
   "toc_window_display": false
  }
 },
 "nbformat": 4,
 "nbformat_minor": 4
}