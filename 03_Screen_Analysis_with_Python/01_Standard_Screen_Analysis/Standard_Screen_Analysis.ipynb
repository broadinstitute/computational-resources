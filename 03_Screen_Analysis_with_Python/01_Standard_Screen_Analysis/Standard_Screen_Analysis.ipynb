{
 "cells": [
  {
   "cell_type": "markdown",
   "metadata": {
    "pycharm": {
     "name": "#%% md\n"
    }
   },
   "source": [
    "# Standard Screen Analysis\n",
    "\n",
    "In this module go over how to analyze a standard pooled screen (e.g. viability or flow screens) using\n",
    "Python. As an example, we analyze data from [Sanson et al. 2018](https://www.nature.com/articles/s41467-018-07901-8#Sec26),\n",
    "comparing the activity of two tracrRNA variants using the Brunello genomewide library."
   ]
  },
  {
   "cell_type": "markdown",
   "metadata": {
    "pycharm": {
     "name": "#%% md\n"
    }
   },
   "source": [
    "## Set up\n",
    "\n",
    "To set up the analysis we first load all of the Python packages we need."
   ]
  },
  {
   "cell_type": "code",
   "execution_count": 1,
   "metadata": {
    "collapsed": false,
    "jupyter": {
     "outputs_hidden": false
    },
    "pycharm": {
     "name": "#%%\n"
    }
   },
   "outputs": [],
   "source": [
    "import pandas as pd\n",
    "import numpy as np\n",
    "import seaborn as sns\n",
    "import scipy\n",
    "from statsmodels.stats.multitest import multipletests\n",
    "from sklearn.metrics import roc_curve, auc\n",
    "import matplotlib.pyplot as plt"
   ]
  },
  {
   "cell_type": "markdown",
   "metadata": {
    "pycharm": {
     "name": "#%% md\n"
    }
   },
   "source": [
    "Next we load the data, reading the counts matrix and annotations from a local\n",
    "repository, and fetching the list of essential and non-essential genes from a remote\n",
    "repository on [GitHub](https://github.com/gpp-rnd/genesets)"
   ]
  },
  {
   "cell_type": "code",
   "execution_count": 2,
   "metadata": {
    "collapsed": false,
    "jupyter": {
     "outputs_hidden": false
    },
    "pycharm": {
     "name": "#%%\n"
    }
   },
   "outputs": [],
   "source": [
    "reads_df = pd.read_csv('data/Sanson2018_Brunello_reads.csv')\n",
    "annotation_file = pd.read_table('data/CP0041_GRCh38_NCBI_strict_gene_20210113.chip')\n",
    "essential_genes = pd.read_table('https://raw.githubusercontent.com/gpp-rnd/genesets/master/human/essential-genes-Hart2015.txt',\n",
    "                                names=['gene']).gene\n",
    "nonessential_genes = pd.read_table('https://raw.githubusercontent.com/gpp-rnd/genesets/master/human/non-essential-genes-Hart2014.txt',\n",
    "                                   names=['gene']).gene"
   ]
  },
  {
   "cell_type": "markdown",
   "metadata": {
    "pycharm": {
     "name": "#%% md\n"
    }
   },
   "source": [
    "Here is what the read counts file looks like"
   ]
  },
  {
   "cell_type": "code",
   "execution_count": 3,
   "metadata": {
    "collapsed": false,
    "jupyter": {
     "outputs_hidden": false
    },
    "pycharm": {
     "name": "#%%\n"
    }
   },
   "outputs": [
    {
     "data": {
      "text/html": [
       "<div>\n",
       "<style scoped>\n",
       "    .dataframe tbody tr th:only-of-type {\n",
       "        vertical-align: middle;\n",
       "    }\n",
       "\n",
       "    .dataframe tbody tr th {\n",
       "        vertical-align: top;\n",
       "    }\n",
       "\n",
       "    .dataframe thead th {\n",
       "        text-align: right;\n",
       "    }\n",
       "</style>\n",
       "<table border=\"1\" class=\"dataframe\">\n",
       "  <thead>\n",
       "    <tr style=\"text-align: right;\">\n",
       "      <th></th>\n",
       "      <th>sgRNA Sequence</th>\n",
       "      <th>pDNA_HsuTracr</th>\n",
       "      <th>A375_HsuTracr_RepA</th>\n",
       "      <th>A375_HsuTracr_RepB</th>\n",
       "      <th>pDNA_tracrV2</th>\n",
       "      <th>A375_tracrV2_RepA</th>\n",
       "      <th>A375_tracrV2_RepB</th>\n",
       "      <th>A375_tracrV2_RepC</th>\n",
       "    </tr>\n",
       "  </thead>\n",
       "  <tbody>\n",
       "    <tr>\n",
       "      <th>0</th>\n",
       "      <td>AAAAAAAATCCGGACAATGG</td>\n",
       "      <td>522</td>\n",
       "      <td>729</td>\n",
       "      <td>774</td>\n",
       "      <td>247</td>\n",
       "      <td>358</td>\n",
       "      <td>1146</td>\n",
       "      <td>623</td>\n",
       "    </tr>\n",
       "    <tr>\n",
       "      <th>1</th>\n",
       "      <td>AAAAAAAGGATGGTGATCAA</td>\n",
       "      <td>511</td>\n",
       "      <td>1484</td>\n",
       "      <td>1393</td>\n",
       "      <td>119</td>\n",
       "      <td>1313</td>\n",
       "      <td>431</td>\n",
       "      <td>1078</td>\n",
       "    </tr>\n",
       "    <tr>\n",
       "      <th>2</th>\n",
       "      <td>AAAAAAATGACATTACTGCA</td>\n",
       "      <td>467</td>\n",
       "      <td>375</td>\n",
       "      <td>603</td>\n",
       "      <td>139</td>\n",
       "      <td>117</td>\n",
       "      <td>163</td>\n",
       "      <td>82</td>\n",
       "    </tr>\n",
       "    <tr>\n",
       "      <th>3</th>\n",
       "      <td>AAAAAAATGTCAGTCGAGTG</td>\n",
       "      <td>200</td>\n",
       "      <td>737</td>\n",
       "      <td>506</td>\n",
       "      <td>76</td>\n",
       "      <td>970</td>\n",
       "      <td>984</td>\n",
       "      <td>681</td>\n",
       "    </tr>\n",
       "    <tr>\n",
       "      <th>4</th>\n",
       "      <td>AAAAAACACAAGCAAGACCG</td>\n",
       "      <td>286</td>\n",
       "      <td>672</td>\n",
       "      <td>352</td>\n",
       "      <td>62</td>\n",
       "      <td>681</td>\n",
       "      <td>435</td>\n",
       "      <td>961</td>\n",
       "    </tr>\n",
       "    <tr>\n",
       "      <th>...</th>\n",
       "      <td>...</td>\n",
       "      <td>...</td>\n",
       "      <td>...</td>\n",
       "      <td>...</td>\n",
       "      <td>...</td>\n",
       "      <td>...</td>\n",
       "      <td>...</td>\n",
       "      <td>...</td>\n",
       "    </tr>\n",
       "    <tr>\n",
       "      <th>77436</th>\n",
       "      <td>TTTGTTTGGATTGCTTCAAG</td>\n",
       "      <td>514</td>\n",
       "      <td>2878</td>\n",
       "      <td>303</td>\n",
       "      <td>226</td>\n",
       "      <td>207</td>\n",
       "      <td>94</td>\n",
       "      <td>165</td>\n",
       "    </tr>\n",
       "    <tr>\n",
       "      <th>77437</th>\n",
       "      <td>TTTTACCTTGTTCACATGGA</td>\n",
       "      <td>828</td>\n",
       "      <td>3896</td>\n",
       "      <td>3367</td>\n",
       "      <td>262</td>\n",
       "      <td>2406</td>\n",
       "      <td>2728</td>\n",
       "      <td>2472</td>\n",
       "    </tr>\n",
       "    <tr>\n",
       "      <th>77438</th>\n",
       "      <td>TTTTGACTCTAATCACCGGT</td>\n",
       "      <td>588</td>\n",
       "      <td>2725</td>\n",
       "      <td>2498</td>\n",
       "      <td>151</td>\n",
       "      <td>2654</td>\n",
       "      <td>2586</td>\n",
       "      <td>3860</td>\n",
       "    </tr>\n",
       "    <tr>\n",
       "      <th>77439</th>\n",
       "      <td>TTTTTAATACAAGGTAATCT</td>\n",
       "      <td>503</td>\n",
       "      <td>2209</td>\n",
       "      <td>1785</td>\n",
       "      <td>105</td>\n",
       "      <td>690</td>\n",
       "      <td>424</td>\n",
       "      <td>213</td>\n",
       "    </tr>\n",
       "    <tr>\n",
       "      <th>77440</th>\n",
       "      <td>TTTTTCTCACCCGATGAATC</td>\n",
       "      <td>661</td>\n",
       "      <td>3198</td>\n",
       "      <td>3189</td>\n",
       "      <td>208</td>\n",
       "      <td>1849</td>\n",
       "      <td>1654</td>\n",
       "      <td>1207</td>\n",
       "    </tr>\n",
       "  </tbody>\n",
       "</table>\n",
       "<p>77441 rows × 8 columns</p>\n",
       "</div>"
      ],
      "text/plain": [
       "             sgRNA Sequence  pDNA_HsuTracr  A375_HsuTracr_RepA  \\\n",
       "0      AAAAAAAATCCGGACAATGG            522                 729   \n",
       "1      AAAAAAAGGATGGTGATCAA            511                1484   \n",
       "2      AAAAAAATGACATTACTGCA            467                 375   \n",
       "3      AAAAAAATGTCAGTCGAGTG            200                 737   \n",
       "4      AAAAAACACAAGCAAGACCG            286                 672   \n",
       "...                     ...            ...                 ...   \n",
       "77436  TTTGTTTGGATTGCTTCAAG            514                2878   \n",
       "77437  TTTTACCTTGTTCACATGGA            828                3896   \n",
       "77438  TTTTGACTCTAATCACCGGT            588                2725   \n",
       "77439  TTTTTAATACAAGGTAATCT            503                2209   \n",
       "77440  TTTTTCTCACCCGATGAATC            661                3198   \n",
       "\n",
       "       A375_HsuTracr_RepB  pDNA_tracrV2  A375_tracrV2_RepA  A375_tracrV2_RepB  \\\n",
       "0                     774           247                358               1146   \n",
       "1                    1393           119               1313                431   \n",
       "2                     603           139                117                163   \n",
       "3                     506            76                970                984   \n",
       "4                     352            62                681                435   \n",
       "...                   ...           ...                ...                ...   \n",
       "77436                 303           226                207                 94   \n",
       "77437                3367           262               2406               2728   \n",
       "77438                2498           151               2654               2586   \n",
       "77439                1785           105                690                424   \n",
       "77440                3189           208               1849               1654   \n",
       "\n",
       "       A375_tracrV2_RepC  \n",
       "0                    623  \n",
       "1                   1078  \n",
       "2                     82  \n",
       "3                    681  \n",
       "4                    961  \n",
       "...                  ...  \n",
       "77436                165  \n",
       "77437               2472  \n",
       "77438               3860  \n",
       "77439                213  \n",
       "77440               1207  \n",
       "\n",
       "[77441 rows x 8 columns]"
      ]
     },
     "execution_count": 3,
     "metadata": {},
     "output_type": "execute_result"
    }
   ],
   "source": [
    "reads_df"
   ]
  },
  {
   "cell_type": "markdown",
   "metadata": {
    "pycharm": {
     "name": "#%% md\n"
    }
   },
   "source": [
    "And the annotations file"
   ]
  },
  {
   "cell_type": "code",
   "execution_count": 4,
   "metadata": {
    "collapsed": false,
    "jupyter": {
     "outputs_hidden": false
    },
    "pycharm": {
     "name": "#%%\n"
    }
   },
   "outputs": [
    {
     "data": {
      "text/html": [
       "<div>\n",
       "<style scoped>\n",
       "    .dataframe tbody tr th:only-of-type {\n",
       "        vertical-align: middle;\n",
       "    }\n",
       "\n",
       "    .dataframe tbody tr th {\n",
       "        vertical-align: top;\n",
       "    }\n",
       "\n",
       "    .dataframe thead th {\n",
       "        text-align: right;\n",
       "    }\n",
       "</style>\n",
       "<table border=\"1\" class=\"dataframe\">\n",
       "  <thead>\n",
       "    <tr style=\"text-align: right;\">\n",
       "      <th></th>\n",
       "      <th>Barcode Sequence</th>\n",
       "      <th>Gene Symbol</th>\n",
       "      <th>Gene ID</th>\n",
       "    </tr>\n",
       "  </thead>\n",
       "  <tbody>\n",
       "    <tr>\n",
       "      <th>0</th>\n",
       "      <td>AAAAAAAATCCGGACAATGG</td>\n",
       "      <td>SLC25A24</td>\n",
       "      <td>29957</td>\n",
       "    </tr>\n",
       "    <tr>\n",
       "      <th>1</th>\n",
       "      <td>AAAAAAAGGATGGTGATCAA</td>\n",
       "      <td>FASTKD3</td>\n",
       "      <td>79072</td>\n",
       "    </tr>\n",
       "    <tr>\n",
       "      <th>2</th>\n",
       "      <td>AAAAAAATGACATTACTGCA</td>\n",
       "      <td>BCAS2</td>\n",
       "      <td>10286</td>\n",
       "    </tr>\n",
       "    <tr>\n",
       "      <th>3</th>\n",
       "      <td>AAAAAAATGTCAGTCGAGTG</td>\n",
       "      <td>GPR18</td>\n",
       "      <td>2841</td>\n",
       "    </tr>\n",
       "    <tr>\n",
       "      <th>4</th>\n",
       "      <td>AAAAAACACAAGCAAGACCG</td>\n",
       "      <td>ZNF470</td>\n",
       "      <td>388566</td>\n",
       "    </tr>\n",
       "    <tr>\n",
       "      <th>...</th>\n",
       "      <td>...</td>\n",
       "      <td>...</td>\n",
       "      <td>...</td>\n",
       "    </tr>\n",
       "    <tr>\n",
       "      <th>86978</th>\n",
       "      <td>TTTTGACTCTAATCACCGGT</td>\n",
       "      <td>INACTIVE_4T_54</td>\n",
       "      <td>INACTIVE_4T_54</td>\n",
       "    </tr>\n",
       "    <tr>\n",
       "      <th>86979</th>\n",
       "      <td>TTTTTAATACAAGGTAATCT</td>\n",
       "      <td>NO_SITE_940</td>\n",
       "      <td>NO_SITE_940</td>\n",
       "    </tr>\n",
       "    <tr>\n",
       "      <th>86980</th>\n",
       "      <td>TTTTTAATACAAGGTAATCT</td>\n",
       "      <td>INACTIVE_5T_55</td>\n",
       "      <td>INACTIVE_5T_55</td>\n",
       "    </tr>\n",
       "    <tr>\n",
       "      <th>86981</th>\n",
       "      <td>TTTTTCTCACCCGATGAATC</td>\n",
       "      <td>NO_SITE_941</td>\n",
       "      <td>NO_SITE_941</td>\n",
       "    </tr>\n",
       "    <tr>\n",
       "      <th>86982</th>\n",
       "      <td>TTTTTCTCACCCGATGAATC</td>\n",
       "      <td>INACTIVE_5T_56</td>\n",
       "      <td>INACTIVE_5T_56</td>\n",
       "    </tr>\n",
       "  </tbody>\n",
       "</table>\n",
       "<p>86983 rows × 3 columns</p>\n",
       "</div>"
      ],
      "text/plain": [
       "           Barcode Sequence     Gene Symbol         Gene ID\n",
       "0      AAAAAAAATCCGGACAATGG        SLC25A24           29957\n",
       "1      AAAAAAAGGATGGTGATCAA         FASTKD3           79072\n",
       "2      AAAAAAATGACATTACTGCA           BCAS2           10286\n",
       "3      AAAAAAATGTCAGTCGAGTG           GPR18            2841\n",
       "4      AAAAAACACAAGCAAGACCG          ZNF470          388566\n",
       "...                     ...             ...             ...\n",
       "86978  TTTTGACTCTAATCACCGGT  INACTIVE_4T_54  INACTIVE_4T_54\n",
       "86979  TTTTTAATACAAGGTAATCT     NO_SITE_940     NO_SITE_940\n",
       "86980  TTTTTAATACAAGGTAATCT  INACTIVE_5T_55  INACTIVE_5T_55\n",
       "86981  TTTTTCTCACCCGATGAATC     NO_SITE_941     NO_SITE_941\n",
       "86982  TTTTTCTCACCCGATGAATC  INACTIVE_5T_56  INACTIVE_5T_56\n",
       "\n",
       "[86983 rows x 3 columns]"
      ]
     },
     "execution_count": 4,
     "metadata": {},
     "output_type": "execute_result"
    }
   ],
   "source": [
    "annotation_file"
   ]
  },
  {
   "cell_type": "markdown",
   "metadata": {
    "pycharm": {
     "name": "#%% md\n"
    }
   },
   "source": [
    "## Calculating log-normalized read counts\n",
    "\n",
    "Due to differences between sequencing runs and sgRNA representation,\n",
    "we log-normalize the read counts. First,\n",
    "for each sgRNA we take the number of reads divided by the total number of reads in a given condition\n",
    "$$\\frac{\\text{reads}}{\\text{total reads in condition}}.$$\n",
    "\n",
    "Since read counts tend to have a right skew, we also want to take the $\\log_2$ of\n",
    "these fractional abundances. Finally, since it is possible to have 0 reads and $\\log_2(0)$ is undefined,\n",
    "we multiply the fractional abundance by $1e6$ and add a pseudocount of 1 for our final equation\n",
    "\n",
    "$$ \\text{lognorm} = \\log2\\bigg(\\frac{\\text{reads}}{\\text{total reads in condition}} \\times 1e6 + 1 \\bigg).$$\n",
    "\n",
    "We can this equation as a function."
   ]
  },
  {
   "cell_type": "code",
   "execution_count": 5,
   "metadata": {
    "collapsed": false,
    "jupyter": {
     "outputs_hidden": false
    },
    "pycharm": {
     "name": "#%%\n"
    }
   },
   "outputs": [],
   "source": [
    "def lognorm(reads):\n",
    "    \"\"\"\n",
    "    Standardize read counts by calculating reads per million,\n",
    "    adding a pseudo-count of one, and taking the log2\n",
    "\n",
    "    :param reads: numpy or pandas array\n",
    "    :returns: numpy or pandas array\n",
    "    \"\"\"\n",
    "    reads_per_million = (reads/reads.sum())*(10**6)\n",
    "    lognormed_reads = np.log2(reads_per_million + 1)\n",
    "    return lognormed_reads"
   ]
  },
  {
   "cell_type": "markdown",
   "metadata": {
    "pycharm": {
     "name": "#%% md\n"
    }
   },
   "source": [
    "We then apply this function to all of the read counts."
   ]
  },
  {
   "cell_type": "code",
   "execution_count": 6,
   "metadata": {
    "collapsed": false,
    "jupyter": {
     "outputs_hidden": false
    },
    "pycharm": {
     "name": "#%%\n"
    }
   },
   "outputs": [
    {
     "data": {
      "text/html": [
       "<div>\n",
       "<style scoped>\n",
       "    .dataframe tbody tr th:only-of-type {\n",
       "        vertical-align: middle;\n",
       "    }\n",
       "\n",
       "    .dataframe tbody tr th {\n",
       "        vertical-align: top;\n",
       "    }\n",
       "\n",
       "    .dataframe thead th {\n",
       "        text-align: right;\n",
       "    }\n",
       "</style>\n",
       "<table border=\"1\" class=\"dataframe\">\n",
       "  <thead>\n",
       "    <tr style=\"text-align: right;\">\n",
       "      <th></th>\n",
       "      <th>sgRNA Sequence</th>\n",
       "      <th>pDNA_HsuTracr</th>\n",
       "      <th>A375_HsuTracr_RepA</th>\n",
       "      <th>A375_HsuTracr_RepB</th>\n",
       "      <th>pDNA_tracrV2</th>\n",
       "      <th>A375_tracrV2_RepA</th>\n",
       "      <th>A375_tracrV2_RepB</th>\n",
       "      <th>A375_tracrV2_RepC</th>\n",
       "    </tr>\n",
       "  </thead>\n",
       "  <tbody>\n",
       "    <tr>\n",
       "      <th>0</th>\n",
       "      <td>AAAAAAAATCCGGACAATGG</td>\n",
       "      <td>4.192756</td>\n",
       "      <td>3.373924</td>\n",
       "      <td>3.521755</td>\n",
       "      <td>4.890963</td>\n",
       "      <td>2.736833</td>\n",
       "      <td>4.131168</td>\n",
       "      <td>3.454210</td>\n",
       "    </tr>\n",
       "    <tr>\n",
       "      <th>1</th>\n",
       "      <td>AAAAAAAGGATGGTGATCAA</td>\n",
       "      <td>4.163726</td>\n",
       "      <td>4.326828</td>\n",
       "      <td>4.312620</td>\n",
       "      <td>3.888789</td>\n",
       "      <td>4.444986</td>\n",
       "      <td>2.850820</td>\n",
       "      <td>4.188607</td>\n",
       "    </tr>\n",
       "    <tr>\n",
       "      <th>2</th>\n",
       "      <td>AAAAAAATGACATTACTGCA</td>\n",
       "      <td>4.041390</td>\n",
       "      <td>2.540624</td>\n",
       "      <td>3.196767</td>\n",
       "      <td>4.098830</td>\n",
       "      <td>1.511850</td>\n",
       "      <td>1.744210</td>\n",
       "      <td>1.208506</td>\n",
       "    </tr>\n",
       "    <tr>\n",
       "      <th>3</th>\n",
       "      <td>AAAAAAATGTCAGTCGAGTG</td>\n",
       "      <td>2.930437</td>\n",
       "      <td>3.388159</td>\n",
       "      <td>2.973599</td>\n",
       "      <td>3.295977</td>\n",
       "      <td>4.031409</td>\n",
       "      <td>3.924783</td>\n",
       "      <td>3.571378</td>\n",
       "    </tr>\n",
       "    <tr>\n",
       "      <th>4</th>\n",
       "      <td>AAAAAACACAAGCAAGACCG</td>\n",
       "      <td>3.388394</td>\n",
       "      <td>3.268222</td>\n",
       "      <td>2.528233</td>\n",
       "      <td>3.035039</td>\n",
       "      <td>3.558043</td>\n",
       "      <td>2.862307</td>\n",
       "      <td>4.032459</td>\n",
       "    </tr>\n",
       "    <tr>\n",
       "      <th>...</th>\n",
       "      <td>...</td>\n",
       "      <td>...</td>\n",
       "      <td>...</td>\n",
       "      <td>...</td>\n",
       "      <td>...</td>\n",
       "      <td>...</td>\n",
       "      <td>...</td>\n",
       "      <td>...</td>\n",
       "    </tr>\n",
       "    <tr>\n",
       "      <th>77436</th>\n",
       "      <td>TTTGTTTGGATTGCTTCAAG</td>\n",
       "      <td>4.171701</td>\n",
       "      <td>5.247155</td>\n",
       "      <td>2.351863</td>\n",
       "      <td>4.767286</td>\n",
       "      <td>2.096324</td>\n",
       "      <td>1.235899</td>\n",
       "      <td>1.863126</td>\n",
       "    </tr>\n",
       "    <tr>\n",
       "      <th>77437</th>\n",
       "      <td>TTTTACCTTGTTCACATGGA</td>\n",
       "      <td>4.828882</td>\n",
       "      <td>5.674123</td>\n",
       "      <td>5.542684</td>\n",
       "      <td>4.973232</td>\n",
       "      <td>5.288347</td>\n",
       "      <td>5.333851</td>\n",
       "      <td>5.340608</td>\n",
       "    </tr>\n",
       "    <tr>\n",
       "      <th>77438</th>\n",
       "      <td>TTTTGACTCTAATCACCGGT</td>\n",
       "      <td>4.355639</td>\n",
       "      <td>5.170476</td>\n",
       "      <td>5.122720</td>\n",
       "      <td>4.211587</td>\n",
       "      <td>5.426425</td>\n",
       "      <td>5.258693</td>\n",
       "      <td>5.970671</td>\n",
       "    </tr>\n",
       "    <tr>\n",
       "      <th>77439</th>\n",
       "      <td>TTTTTAATACAAGGTAATCT</td>\n",
       "      <td>4.142241</td>\n",
       "      <td>4.876941</td>\n",
       "      <td>4.654317</td>\n",
       "      <td>3.721145</td>\n",
       "      <td>3.575386</td>\n",
       "      <td>2.830494</td>\n",
       "      <td>2.139258</td>\n",
       "    </tr>\n",
       "    <tr>\n",
       "      <th>77440</th>\n",
       "      <td>TTTTTCTCACCCGATGAATC</td>\n",
       "      <td>4.516670</td>\n",
       "      <td>5.395453</td>\n",
       "      <td>5.466050</td>\n",
       "      <td>4.652124</td>\n",
       "      <td>4.919534</td>\n",
       "      <td>4.635009</td>\n",
       "      <td>4.343195</td>\n",
       "    </tr>\n",
       "  </tbody>\n",
       "</table>\n",
       "<p>77441 rows × 8 columns</p>\n",
       "</div>"
      ],
      "text/plain": [
       "             sgRNA Sequence  pDNA_HsuTracr  A375_HsuTracr_RepA  \\\n",
       "0      AAAAAAAATCCGGACAATGG       4.192756            3.373924   \n",
       "1      AAAAAAAGGATGGTGATCAA       4.163726            4.326828   \n",
       "2      AAAAAAATGACATTACTGCA       4.041390            2.540624   \n",
       "3      AAAAAAATGTCAGTCGAGTG       2.930437            3.388159   \n",
       "4      AAAAAACACAAGCAAGACCG       3.388394            3.268222   \n",
       "...                     ...            ...                 ...   \n",
       "77436  TTTGTTTGGATTGCTTCAAG       4.171701            5.247155   \n",
       "77437  TTTTACCTTGTTCACATGGA       4.828882            5.674123   \n",
       "77438  TTTTGACTCTAATCACCGGT       4.355639            5.170476   \n",
       "77439  TTTTTAATACAAGGTAATCT       4.142241            4.876941   \n",
       "77440  TTTTTCTCACCCGATGAATC       4.516670            5.395453   \n",
       "\n",
       "       A375_HsuTracr_RepB  pDNA_tracrV2  A375_tracrV2_RepA  A375_tracrV2_RepB  \\\n",
       "0                3.521755      4.890963           2.736833           4.131168   \n",
       "1                4.312620      3.888789           4.444986           2.850820   \n",
       "2                3.196767      4.098830           1.511850           1.744210   \n",
       "3                2.973599      3.295977           4.031409           3.924783   \n",
       "4                2.528233      3.035039           3.558043           2.862307   \n",
       "...                   ...           ...                ...                ...   \n",
       "77436            2.351863      4.767286           2.096324           1.235899   \n",
       "77437            5.542684      4.973232           5.288347           5.333851   \n",
       "77438            5.122720      4.211587           5.426425           5.258693   \n",
       "77439            4.654317      3.721145           3.575386           2.830494   \n",
       "77440            5.466050      4.652124           4.919534           4.635009   \n",
       "\n",
       "       A375_tracrV2_RepC  \n",
       "0               3.454210  \n",
       "1               4.188607  \n",
       "2               1.208506  \n",
       "3               3.571378  \n",
       "4               4.032459  \n",
       "...                  ...  \n",
       "77436           1.863126  \n",
       "77437           5.340608  \n",
       "77438           5.970671  \n",
       "77439           2.139258  \n",
       "77440           4.343195  \n",
       "\n",
       "[77441 rows x 8 columns]"
      ]
     },
     "execution_count": 6,
     "metadata": {},
     "output_type": "execute_result"
    }
   ],
   "source": [
    "condition_columns = ['pDNA_HsuTracr', 'A375_HsuTracr_RepA', 'A375_HsuTracr_RepB',\n",
    "                     'pDNA_tracrV2', 'A375_tracrV2_RepA', 'A375_tracrV2_RepB', 'A375_tracrV2_RepC']\n",
    "lognorm_df = reads_df.copy()\n",
    "lognorm_df[condition_columns] = lognorm_df[condition_columns].apply(lognorm)\n",
    "lognorm_df"
   ]
  },
  {
   "cell_type": "markdown",
   "metadata": {
    "pycharm": {
     "name": "#%% md\n"
    }
   },
   "source": [
    "## Filtering the reference condition\n",
    "\n",
    "Sometimes the cloning process can fail to capture an sgRNA sequence in the plasmid pool, so we remove plasmids that are not\n",
    "well represented in the pool.\n",
    "\n",
    "To decide which sgRNAs are underrepresented, we z-score the pDNA log-norms and remove\n",
    "any sgRNAs with a z-score less than -3."
   ]
  },
  {
   "cell_type": "code",
   "execution_count": 7,
   "metadata": {
    "collapsed": false,
    "jupyter": {
     "outputs_hidden": false
    },
    "pycharm": {
     "name": "#%%\n"
    }
   },
   "outputs": [
    {
     "data": {
      "text/html": [
       "<div>\n",
       "<style scoped>\n",
       "    .dataframe tbody tr th:only-of-type {\n",
       "        vertical-align: middle;\n",
       "    }\n",
       "\n",
       "    .dataframe tbody tr th {\n",
       "        vertical-align: top;\n",
       "    }\n",
       "\n",
       "    .dataframe thead th {\n",
       "        text-align: right;\n",
       "    }\n",
       "</style>\n",
       "<table border=\"1\" class=\"dataframe\">\n",
       "  <thead>\n",
       "    <tr style=\"text-align: right;\">\n",
       "      <th></th>\n",
       "      <th>sgRNA Sequence</th>\n",
       "      <th>pDNA_HsuTracr</th>\n",
       "      <th>A375_HsuTracr_RepA</th>\n",
       "      <th>A375_HsuTracr_RepB</th>\n",
       "      <th>pDNA_tracrV2</th>\n",
       "      <th>A375_tracrV2_RepA</th>\n",
       "      <th>A375_tracrV2_RepB</th>\n",
       "      <th>A375_tracrV2_RepC</th>\n",
       "    </tr>\n",
       "  </thead>\n",
       "  <tbody>\n",
       "    <tr>\n",
       "      <th>0</th>\n",
       "      <td>AAAAAAAATCCGGACAATGG</td>\n",
       "      <td>4.192756</td>\n",
       "      <td>3.373924</td>\n",
       "      <td>3.521755</td>\n",
       "      <td>4.890963</td>\n",
       "      <td>2.736833</td>\n",
       "      <td>4.131168</td>\n",
       "      <td>3.454210</td>\n",
       "    </tr>\n",
       "    <tr>\n",
       "      <th>1</th>\n",
       "      <td>AAAAAAAGGATGGTGATCAA</td>\n",
       "      <td>4.163726</td>\n",
       "      <td>4.326828</td>\n",
       "      <td>4.312620</td>\n",
       "      <td>3.888789</td>\n",
       "      <td>4.444986</td>\n",
       "      <td>2.850820</td>\n",
       "      <td>4.188607</td>\n",
       "    </tr>\n",
       "    <tr>\n",
       "      <th>2</th>\n",
       "      <td>AAAAAAATGACATTACTGCA</td>\n",
       "      <td>4.041390</td>\n",
       "      <td>2.540624</td>\n",
       "      <td>3.196767</td>\n",
       "      <td>4.098830</td>\n",
       "      <td>1.511850</td>\n",
       "      <td>1.744210</td>\n",
       "      <td>1.208506</td>\n",
       "    </tr>\n",
       "    <tr>\n",
       "      <th>3</th>\n",
       "      <td>AAAAAAATGTCAGTCGAGTG</td>\n",
       "      <td>2.930437</td>\n",
       "      <td>3.388159</td>\n",
       "      <td>2.973599</td>\n",
       "      <td>3.295977</td>\n",
       "      <td>4.031409</td>\n",
       "      <td>3.924783</td>\n",
       "      <td>3.571378</td>\n",
       "    </tr>\n",
       "    <tr>\n",
       "      <th>4</th>\n",
       "      <td>AAAAAACACAAGCAAGACCG</td>\n",
       "      <td>3.388394</td>\n",
       "      <td>3.268222</td>\n",
       "      <td>2.528233</td>\n",
       "      <td>3.035039</td>\n",
       "      <td>3.558043</td>\n",
       "      <td>2.862307</td>\n",
       "      <td>4.032459</td>\n",
       "    </tr>\n",
       "    <tr>\n",
       "      <th>...</th>\n",
       "      <td>...</td>\n",
       "      <td>...</td>\n",
       "      <td>...</td>\n",
       "      <td>...</td>\n",
       "      <td>...</td>\n",
       "      <td>...</td>\n",
       "      <td>...</td>\n",
       "      <td>...</td>\n",
       "    </tr>\n",
       "    <tr>\n",
       "      <th>77436</th>\n",
       "      <td>TTTGTTTGGATTGCTTCAAG</td>\n",
       "      <td>4.171701</td>\n",
       "      <td>5.247155</td>\n",
       "      <td>2.351863</td>\n",
       "      <td>4.767286</td>\n",
       "      <td>2.096324</td>\n",
       "      <td>1.235899</td>\n",
       "      <td>1.863126</td>\n",
       "    </tr>\n",
       "    <tr>\n",
       "      <th>77437</th>\n",
       "      <td>TTTTACCTTGTTCACATGGA</td>\n",
       "      <td>4.828882</td>\n",
       "      <td>5.674123</td>\n",
       "      <td>5.542684</td>\n",
       "      <td>4.973232</td>\n",
       "      <td>5.288347</td>\n",
       "      <td>5.333851</td>\n",
       "      <td>5.340608</td>\n",
       "    </tr>\n",
       "    <tr>\n",
       "      <th>77438</th>\n",
       "      <td>TTTTGACTCTAATCACCGGT</td>\n",
       "      <td>4.355639</td>\n",
       "      <td>5.170476</td>\n",
       "      <td>5.122720</td>\n",
       "      <td>4.211587</td>\n",
       "      <td>5.426425</td>\n",
       "      <td>5.258693</td>\n",
       "      <td>5.970671</td>\n",
       "    </tr>\n",
       "    <tr>\n",
       "      <th>77439</th>\n",
       "      <td>TTTTTAATACAAGGTAATCT</td>\n",
       "      <td>4.142241</td>\n",
       "      <td>4.876941</td>\n",
       "      <td>4.654317</td>\n",
       "      <td>3.721145</td>\n",
       "      <td>3.575386</td>\n",
       "      <td>2.830494</td>\n",
       "      <td>2.139258</td>\n",
       "    </tr>\n",
       "    <tr>\n",
       "      <th>77440</th>\n",
       "      <td>TTTTTCTCACCCGATGAATC</td>\n",
       "      <td>4.516670</td>\n",
       "      <td>5.395453</td>\n",
       "      <td>5.466050</td>\n",
       "      <td>4.652124</td>\n",
       "      <td>4.919534</td>\n",
       "      <td>4.635009</td>\n",
       "      <td>4.343195</td>\n",
       "    </tr>\n",
       "  </tbody>\n",
       "</table>\n",
       "<p>76839 rows × 8 columns</p>\n",
       "</div>"
      ],
      "text/plain": [
       "             sgRNA Sequence  pDNA_HsuTracr  A375_HsuTracr_RepA  \\\n",
       "0      AAAAAAAATCCGGACAATGG       4.192756            3.373924   \n",
       "1      AAAAAAAGGATGGTGATCAA       4.163726            4.326828   \n",
       "2      AAAAAAATGACATTACTGCA       4.041390            2.540624   \n",
       "3      AAAAAAATGTCAGTCGAGTG       2.930437            3.388159   \n",
       "4      AAAAAACACAAGCAAGACCG       3.388394            3.268222   \n",
       "...                     ...            ...                 ...   \n",
       "77436  TTTGTTTGGATTGCTTCAAG       4.171701            5.247155   \n",
       "77437  TTTTACCTTGTTCACATGGA       4.828882            5.674123   \n",
       "77438  TTTTGACTCTAATCACCGGT       4.355639            5.170476   \n",
       "77439  TTTTTAATACAAGGTAATCT       4.142241            4.876941   \n",
       "77440  TTTTTCTCACCCGATGAATC       4.516670            5.395453   \n",
       "\n",
       "       A375_HsuTracr_RepB  pDNA_tracrV2  A375_tracrV2_RepA  A375_tracrV2_RepB  \\\n",
       "0                3.521755      4.890963           2.736833           4.131168   \n",
       "1                4.312620      3.888789           4.444986           2.850820   \n",
       "2                3.196767      4.098830           1.511850           1.744210   \n",
       "3                2.973599      3.295977           4.031409           3.924783   \n",
       "4                2.528233      3.035039           3.558043           2.862307   \n",
       "...                   ...           ...                ...                ...   \n",
       "77436            2.351863      4.767286           2.096324           1.235899   \n",
       "77437            5.542684      4.973232           5.288347           5.333851   \n",
       "77438            5.122720      4.211587           5.426425           5.258693   \n",
       "77439            4.654317      3.721145           3.575386           2.830494   \n",
       "77440            5.466050      4.652124           4.919534           4.635009   \n",
       "\n",
       "       A375_tracrV2_RepC  \n",
       "0               3.454210  \n",
       "1               4.188607  \n",
       "2               1.208506  \n",
       "3               3.571378  \n",
       "4               4.032459  \n",
       "...                  ...  \n",
       "77436           1.863126  \n",
       "77437           5.340608  \n",
       "77438           5.970671  \n",
       "77439           2.139258  \n",
       "77440           4.343195  \n",
       "\n",
       "[76839 rows x 8 columns]"
      ]
     },
     "execution_count": 7,
     "metadata": {},
     "output_type": "execute_result"
    }
   ],
   "source": [
    "filtered_lognorms = lognorm_df.copy()\n",
    "pdna_cols = ['pDNA_HsuTracr', 'pDNA_tracrV2']\n",
    "z_low = -3  # minimum z-score\n",
    "# Z-score the pDNA columns\n",
    "z_scored_cols = []\n",
    "for pdna in pdna_cols:\n",
    "    z_col = pdna + '_z'\n",
    "    filtered_lognorms[z_col] = (filtered_lognorms[pdna] - filtered_lognorms[pdna].mean())/filtered_lognorms[pdna].std()\n",
    "    z_scored_cols.append(z_col)\n",
    "# Filter by z-score\n",
    "filtered_lognorms = filtered_lognorms[filtered_lognorms[z_scored_cols].min(axis = 1) > z_low]\n",
    "# Drop z-scored columns\n",
    "filtered_lognorms = filtered_lognorms.drop(z_scored_cols, axis=1)\n",
    "filtered_lognorms"
   ]
  },
  {
   "cell_type": "code",
   "execution_count": 8,
   "metadata": {
    "collapsed": false,
    "jupyter": {
     "outputs_hidden": false
    },
    "pycharm": {
     "name": "#%%\n"
    }
   },
   "outputs": [
    {
     "name": "stdout",
     "output_type": "stream",
     "text": [
      "Filtered 602 sgRNAs with low pDNA\n"
     ]
    }
   ],
   "source": [
    "print('Filtered ' + str(lognorm_df.shape[0] - filtered_lognorms.shape[0]) + ' sgRNAs with low pDNA')"
   ]
  },
  {
   "cell_type": "markdown",
   "metadata": {
    "pycharm": {
     "name": "#%% md\n"
    }
   },
   "source": [
    "## Calculating log-fold changes\n",
    "\n",
    "To understand how sgRNA abundance has changed over the course of the screen, we take \n",
    "\n",
    "$$\\text{log-fold change} = \\text{final time point lognorm} - \\text{pDNA lognorm}.$$\n",
    "\n",
    "We define a reference map to match final time points with their pDNA condition."
   ]
  },
  {
   "cell_type": "code",
   "execution_count": 10,
   "metadata": {
    "collapsed": false,
    "jupyter": {
     "outputs_hidden": false
    },
    "pycharm": {
     "name": "#%%\n"
    }
   },
   "outputs": [],
   "source": [
    "ref_map = {'A375_HsuTracr_RepA': 'pDNA_HsuTracr',\n",
    "           'A375_HsuTracr_RepB': 'pDNA_HsuTracr',\n",
    "           'A375_tracrV2_RepA': 'pDNA_tracrV2',\n",
    "           'A375_tracrV2_RepB': 'pDNA_tracrV2',\n",
    "           'A375_tracrV2_RepC': 'pDNA_tracrV2'}"
   ]
  },
  {
   "cell_type": "markdown",
   "metadata": {
    "pycharm": {
     "name": "#%% md\n"
    }
   },
   "source": [
    "We can then iterate over the reference map to calculate log-fold changes"
   ]
  },
  {
   "cell_type": "code",
   "execution_count": 11,
   "metadata": {
    "collapsed": false,
    "jupyter": {
     "outputs_hidden": false
    },
    "pycharm": {
     "name": "#%%\n"
    }
   },
   "outputs": [
    {
     "data": {
      "text/html": [
       "<div>\n",
       "<style scoped>\n",
       "    .dataframe tbody tr th:only-of-type {\n",
       "        vertical-align: middle;\n",
       "    }\n",
       "\n",
       "    .dataframe tbody tr th {\n",
       "        vertical-align: top;\n",
       "    }\n",
       "\n",
       "    .dataframe thead th {\n",
       "        text-align: right;\n",
       "    }\n",
       "</style>\n",
       "<table border=\"1\" class=\"dataframe\">\n",
       "  <thead>\n",
       "    <tr style=\"text-align: right;\">\n",
       "      <th></th>\n",
       "      <th>sgRNA Sequence</th>\n",
       "      <th>A375_HsuTracr_RepA</th>\n",
       "      <th>A375_HsuTracr_RepB</th>\n",
       "      <th>A375_tracrV2_RepA</th>\n",
       "      <th>A375_tracrV2_RepB</th>\n",
       "      <th>A375_tracrV2_RepC</th>\n",
       "    </tr>\n",
       "  </thead>\n",
       "  <tbody>\n",
       "    <tr>\n",
       "      <th>0</th>\n",
       "      <td>AAAAAAAATCCGGACAATGG</td>\n",
       "      <td>-0.818831</td>\n",
       "      <td>-0.671000</td>\n",
       "      <td>-2.154130</td>\n",
       "      <td>-0.759795</td>\n",
       "      <td>-1.436753</td>\n",
       "    </tr>\n",
       "    <tr>\n",
       "      <th>1</th>\n",
       "      <td>AAAAAAAGGATGGTGATCAA</td>\n",
       "      <td>0.163102</td>\n",
       "      <td>0.148894</td>\n",
       "      <td>0.556197</td>\n",
       "      <td>-1.037969</td>\n",
       "      <td>0.299818</td>\n",
       "    </tr>\n",
       "    <tr>\n",
       "      <th>2</th>\n",
       "      <td>AAAAAAATGACATTACTGCA</td>\n",
       "      <td>-1.500766</td>\n",
       "      <td>-0.844622</td>\n",
       "      <td>-2.586980</td>\n",
       "      <td>-2.354621</td>\n",
       "      <td>-2.890325</td>\n",
       "    </tr>\n",
       "    <tr>\n",
       "      <th>3</th>\n",
       "      <td>AAAAAAATGTCAGTCGAGTG</td>\n",
       "      <td>0.457721</td>\n",
       "      <td>0.043161</td>\n",
       "      <td>0.735432</td>\n",
       "      <td>0.628806</td>\n",
       "      <td>0.275401</td>\n",
       "    </tr>\n",
       "    <tr>\n",
       "      <th>4</th>\n",
       "      <td>AAAAAACACAAGCAAGACCG</td>\n",
       "      <td>-0.120172</td>\n",
       "      <td>-0.860161</td>\n",
       "      <td>0.523004</td>\n",
       "      <td>-0.172731</td>\n",
       "      <td>0.997420</td>\n",
       "    </tr>\n",
       "    <tr>\n",
       "      <th>...</th>\n",
       "      <td>...</td>\n",
       "      <td>...</td>\n",
       "      <td>...</td>\n",
       "      <td>...</td>\n",
       "      <td>...</td>\n",
       "      <td>...</td>\n",
       "    </tr>\n",
       "    <tr>\n",
       "      <th>77436</th>\n",
       "      <td>TTTGTTTGGATTGCTTCAAG</td>\n",
       "      <td>1.075454</td>\n",
       "      <td>-1.819838</td>\n",
       "      <td>-2.670962</td>\n",
       "      <td>-3.531387</td>\n",
       "      <td>-2.904160</td>\n",
       "    </tr>\n",
       "    <tr>\n",
       "      <th>77437</th>\n",
       "      <td>TTTTACCTTGTTCACATGGA</td>\n",
       "      <td>0.845240</td>\n",
       "      <td>0.713801</td>\n",
       "      <td>0.315115</td>\n",
       "      <td>0.360619</td>\n",
       "      <td>0.367376</td>\n",
       "    </tr>\n",
       "    <tr>\n",
       "      <th>77438</th>\n",
       "      <td>TTTTGACTCTAATCACCGGT</td>\n",
       "      <td>0.814837</td>\n",
       "      <td>0.767081</td>\n",
       "      <td>1.214838</td>\n",
       "      <td>1.047106</td>\n",
       "      <td>1.759083</td>\n",
       "    </tr>\n",
       "    <tr>\n",
       "      <th>77439</th>\n",
       "      <td>TTTTTAATACAAGGTAATCT</td>\n",
       "      <td>0.734700</td>\n",
       "      <td>0.512076</td>\n",
       "      <td>-0.145759</td>\n",
       "      <td>-0.890650</td>\n",
       "      <td>-1.581887</td>\n",
       "    </tr>\n",
       "    <tr>\n",
       "      <th>77440</th>\n",
       "      <td>TTTTTCTCACCCGATGAATC</td>\n",
       "      <td>0.878783</td>\n",
       "      <td>0.949380</td>\n",
       "      <td>0.267410</td>\n",
       "      <td>-0.017115</td>\n",
       "      <td>-0.308929</td>\n",
       "    </tr>\n",
       "  </tbody>\n",
       "</table>\n",
       "<p>76839 rows × 6 columns</p>\n",
       "</div>"
      ],
      "text/plain": [
       "             sgRNA Sequence  A375_HsuTracr_RepA  A375_HsuTracr_RepB  \\\n",
       "0      AAAAAAAATCCGGACAATGG           -0.818831           -0.671000   \n",
       "1      AAAAAAAGGATGGTGATCAA            0.163102            0.148894   \n",
       "2      AAAAAAATGACATTACTGCA           -1.500766           -0.844622   \n",
       "3      AAAAAAATGTCAGTCGAGTG            0.457721            0.043161   \n",
       "4      AAAAAACACAAGCAAGACCG           -0.120172           -0.860161   \n",
       "...                     ...                 ...                 ...   \n",
       "77436  TTTGTTTGGATTGCTTCAAG            1.075454           -1.819838   \n",
       "77437  TTTTACCTTGTTCACATGGA            0.845240            0.713801   \n",
       "77438  TTTTGACTCTAATCACCGGT            0.814837            0.767081   \n",
       "77439  TTTTTAATACAAGGTAATCT            0.734700            0.512076   \n",
       "77440  TTTTTCTCACCCGATGAATC            0.878783            0.949380   \n",
       "\n",
       "       A375_tracrV2_RepA  A375_tracrV2_RepB  A375_tracrV2_RepC  \n",
       "0              -2.154130          -0.759795          -1.436753  \n",
       "1               0.556197          -1.037969           0.299818  \n",
       "2              -2.586980          -2.354621          -2.890325  \n",
       "3               0.735432           0.628806           0.275401  \n",
       "4               0.523004          -0.172731           0.997420  \n",
       "...                  ...                ...                ...  \n",
       "77436          -2.670962          -3.531387          -2.904160  \n",
       "77437           0.315115           0.360619           0.367376  \n",
       "77438           1.214838           1.047106           1.759083  \n",
       "77439          -0.145759          -0.890650          -1.581887  \n",
       "77440           0.267410          -0.017115          -0.308929  \n",
       "\n",
       "[76839 rows x 6 columns]"
      ]
     },
     "execution_count": 11,
     "metadata": {},
     "output_type": "execute_result"
    }
   ],
   "source": [
    "lfc_df = filtered_lognorms.copy()\n",
    "for target_col, ref_col in ref_map.items():\n",
    "    # use lognorm df in case columns double as target and ref\n",
    "    lfc_df[target_col] = filtered_lognorms[target_col] - filtered_lognorms[ref_col]\n",
    "\n",
    "# Remove reference columns\n",
    "for ref_col in set(ref_map.values()):\n",
    "    if ref_col not in ref_map.keys(): # not a target condition as well\n",
    "        lfc_df = lfc_df.drop(ref_col, axis=1)\n",
    "lfc_df"
   ]
  },
  {
   "cell_type": "markdown",
   "metadata": {
    "pycharm": {
     "name": "#%% md\n"
    }
   },
   "source": [
    "## Combining samples\n",
    "\n",
    "When we calculate the Pearson correlation between the log-fold change from all conditions, we see that replicates group nicely together."
   ]
  },
  {
   "cell_type": "code",
   "execution_count": 12,
   "metadata": {
    "collapsed": false,
    "jupyter": {
     "outputs_hidden": false
    },
    "pycharm": {
     "name": "#%%\n"
    }
   },
   "outputs": [
    {
     "data": {
      "text/plain": [
       "<seaborn.matrix.ClusterGrid at 0x7f8303f607b8>"
      ]
     },
     "execution_count": 12,
     "metadata": {},
     "output_type": "execute_result"
    },
    {
     "data": {
      "image/png": "[encoded data removed]",
      "text/plain": [
       "<Figure size 720x720 with 4 Axes>"
      ]
     },
     "metadata": {
      "needs_background": "light"
     },
     "output_type": "display_data"
    }
   ],
   "source": [
    "lfc_correlations = lfc_df.corr()\n",
    "sns.clustermap(lfc_correlations, cmap='RdBu_r',\n",
    "               vmin=-1, vmax=1, annot=True)"
   ]
  },
  {
   "cell_type": "markdown",
   "metadata": {
    "pycharm": {
     "name": "#%% md\n"
    }
   },
   "source": [
    "Due to this strong correlation, we average log-fold changes\n",
    "across replicates. To do so, we create a condition map between replicates and their\n",
    "condition name."
   ]
  },
  {
   "cell_type": "code",
   "execution_count": 15,
   "metadata": {
    "collapsed": false,
    "jupyter": {
     "outputs_hidden": false
    },
    "pycharm": {
     "name": "#%%\n"
    }
   },
   "outputs": [],
   "source": [
    "condition_map = {'A375_HsuTracr_RepA': 'A375_HsuTracr',\n",
    "                 'A375_HsuTracr_RepB': 'A375_HsuTracr',\n",
    "                 'A375_tracrV2_RepA': 'A375_tracrV2',\n",
    "                 'A375_tracrV2_RepB': 'A375_tracrV2',\n",
    "                 'A375_tracrV2_RepC': 'A375_tracrV2'}"
   ]
  },
  {
   "cell_type": "markdown",
   "metadata": {
    "pycharm": {
     "name": "#%% md\n"
    }
   },
   "source": [
    "We melt the log-fold change dataframe to its [long form](https://en.wikipedia.org/wiki/Tidy_data) for easier data manipulation"
   ]
  },
  {
   "cell_type": "code",
   "execution_count": 13,
   "metadata": {
    "collapsed": false,
    "jupyter": {
     "outputs_hidden": false
    },
    "pycharm": {
     "name": "#%%\n"
    }
   },
   "outputs": [
    {
     "data": {
      "text/html": [
       "<div>\n",
       "<style scoped>\n",
       "    .dataframe tbody tr th:only-of-type {\n",
       "        vertical-align: middle;\n",
       "    }\n",
       "\n",
       "    .dataframe tbody tr th {\n",
       "        vertical-align: top;\n",
       "    }\n",
       "\n",
       "    .dataframe thead th {\n",
       "        text-align: right;\n",
       "    }\n",
       "</style>\n",
       "<table border=\"1\" class=\"dataframe\">\n",
       "  <thead>\n",
       "    <tr style=\"text-align: right;\">\n",
       "      <th></th>\n",
       "      <th>sgRNA Sequence</th>\n",
       "      <th>condition</th>\n",
       "      <th>lfc</th>\n",
       "    </tr>\n",
       "  </thead>\n",
       "  <tbody>\n",
       "    <tr>\n",
       "      <th>0</th>\n",
       "      <td>AAAAAAAATCCGGACAATGG</td>\n",
       "      <td>A375_HsuTracr_RepA</td>\n",
       "      <td>-0.818831</td>\n",
       "    </tr>\n",
       "    <tr>\n",
       "      <th>1</th>\n",
       "      <td>AAAAAAAGGATGGTGATCAA</td>\n",
       "      <td>A375_HsuTracr_RepA</td>\n",
       "      <td>0.163102</td>\n",
       "    </tr>\n",
       "    <tr>\n",
       "      <th>2</th>\n",
       "      <td>AAAAAAATGACATTACTGCA</td>\n",
       "      <td>A375_HsuTracr_RepA</td>\n",
       "      <td>-1.500766</td>\n",
       "    </tr>\n",
       "    <tr>\n",
       "      <th>3</th>\n",
       "      <td>AAAAAAATGTCAGTCGAGTG</td>\n",
       "      <td>A375_HsuTracr_RepA</td>\n",
       "      <td>0.457721</td>\n",
       "    </tr>\n",
       "    <tr>\n",
       "      <th>4</th>\n",
       "      <td>AAAAAACACAAGCAAGACCG</td>\n",
       "      <td>A375_HsuTracr_RepA</td>\n",
       "      <td>-0.120172</td>\n",
       "    </tr>\n",
       "    <tr>\n",
       "      <th>...</th>\n",
       "      <td>...</td>\n",
       "      <td>...</td>\n",
       "      <td>...</td>\n",
       "    </tr>\n",
       "    <tr>\n",
       "      <th>384190</th>\n",
       "      <td>TTTGTTTGGATTGCTTCAAG</td>\n",
       "      <td>A375_tracrV2_RepC</td>\n",
       "      <td>-2.904160</td>\n",
       "    </tr>\n",
       "    <tr>\n",
       "      <th>384191</th>\n",
       "      <td>TTTTACCTTGTTCACATGGA</td>\n",
       "      <td>A375_tracrV2_RepC</td>\n",
       "      <td>0.367376</td>\n",
       "    </tr>\n",
       "    <tr>\n",
       "      <th>384192</th>\n",
       "      <td>TTTTGACTCTAATCACCGGT</td>\n",
       "      <td>A375_tracrV2_RepC</td>\n",
       "      <td>1.759083</td>\n",
       "    </tr>\n",
       "    <tr>\n",
       "      <th>384193</th>\n",
       "      <td>TTTTTAATACAAGGTAATCT</td>\n",
       "      <td>A375_tracrV2_RepC</td>\n",
       "      <td>-1.581887</td>\n",
       "    </tr>\n",
       "    <tr>\n",
       "      <th>384194</th>\n",
       "      <td>TTTTTCTCACCCGATGAATC</td>\n",
       "      <td>A375_tracrV2_RepC</td>\n",
       "      <td>-0.308929</td>\n",
       "    </tr>\n",
       "  </tbody>\n",
       "</table>\n",
       "<p>384195 rows × 3 columns</p>\n",
       "</div>"
      ],
      "text/plain": [
       "              sgRNA Sequence           condition       lfc\n",
       "0       AAAAAAAATCCGGACAATGG  A375_HsuTracr_RepA -0.818831\n",
       "1       AAAAAAAGGATGGTGATCAA  A375_HsuTracr_RepA  0.163102\n",
       "2       AAAAAAATGACATTACTGCA  A375_HsuTracr_RepA -1.500766\n",
       "3       AAAAAAATGTCAGTCGAGTG  A375_HsuTracr_RepA  0.457721\n",
       "4       AAAAAACACAAGCAAGACCG  A375_HsuTracr_RepA -0.120172\n",
       "...                      ...                 ...       ...\n",
       "384190  TTTGTTTGGATTGCTTCAAG   A375_tracrV2_RepC -2.904160\n",
       "384191  TTTTACCTTGTTCACATGGA   A375_tracrV2_RepC  0.367376\n",
       "384192  TTTTGACTCTAATCACCGGT   A375_tracrV2_RepC  1.759083\n",
       "384193  TTTTTAATACAAGGTAATCT   A375_tracrV2_RepC -1.581887\n",
       "384194  TTTTTCTCACCCGATGAATC   A375_tracrV2_RepC -0.308929\n",
       "\n",
       "[384195 rows x 3 columns]"
      ]
     },
     "execution_count": 13,
     "metadata": {},
     "output_type": "execute_result"
    }
   ],
   "source": [
    "long_lfcs = (lfc_df.melt(id_vars='sgRNA Sequence',\n",
    "                         var_name='condition', value_name='lfc'))\n",
    "long_lfcs"
   ]
  },
  {
   "cell_type": "markdown",
   "metadata": {
    "pycharm": {
     "name": "#%% md\n"
    }
   },
   "source": [
    "We remap the condition names and average log-fold changes by replicate."
   ]
  },
  {
   "cell_type": "code",
   "execution_count": 16,
   "metadata": {
    "collapsed": false,
    "jupyter": {
     "outputs_hidden": false
    },
    "pycharm": {
     "name": "#%%\n"
    }
   },
   "outputs": [
    {
     "data": {
      "text/html": [
       "<div>\n",
       "<style scoped>\n",
       "    .dataframe tbody tr th:only-of-type {\n",
       "        vertical-align: middle;\n",
       "    }\n",
       "\n",
       "    .dataframe tbody tr th {\n",
       "        vertical-align: top;\n",
       "    }\n",
       "\n",
       "    .dataframe thead th {\n",
       "        text-align: right;\n",
       "    }\n",
       "</style>\n",
       "<table border=\"1\" class=\"dataframe\">\n",
       "  <thead>\n",
       "    <tr style=\"text-align: right;\">\n",
       "      <th></th>\n",
       "      <th>sgRNA Sequence</th>\n",
       "      <th>condition</th>\n",
       "      <th>avg_lfc</th>\n",
       "      <th>n_obs</th>\n",
       "    </tr>\n",
       "  </thead>\n",
       "  <tbody>\n",
       "    <tr>\n",
       "      <th>0</th>\n",
       "      <td>AAAAAAAATCCGGACAATGG</td>\n",
       "      <td>A375_HsuTracr</td>\n",
       "      <td>-0.744916</td>\n",
       "      <td>2</td>\n",
       "    </tr>\n",
       "    <tr>\n",
       "      <th>1</th>\n",
       "      <td>AAAAAAAATCCGGACAATGG</td>\n",
       "      <td>A375_tracrV2</td>\n",
       "      <td>-1.450226</td>\n",
       "      <td>3</td>\n",
       "    </tr>\n",
       "    <tr>\n",
       "      <th>2</th>\n",
       "      <td>AAAAAAAGGATGGTGATCAA</td>\n",
       "      <td>A375_HsuTracr</td>\n",
       "      <td>0.155998</td>\n",
       "      <td>2</td>\n",
       "    </tr>\n",
       "    <tr>\n",
       "      <th>3</th>\n",
       "      <td>AAAAAAAGGATGGTGATCAA</td>\n",
       "      <td>A375_tracrV2</td>\n",
       "      <td>-0.060651</td>\n",
       "      <td>3</td>\n",
       "    </tr>\n",
       "    <tr>\n",
       "      <th>4</th>\n",
       "      <td>AAAAAAATGACATTACTGCA</td>\n",
       "      <td>A375_HsuTracr</td>\n",
       "      <td>-1.172694</td>\n",
       "      <td>2</td>\n",
       "    </tr>\n",
       "    <tr>\n",
       "      <th>...</th>\n",
       "      <td>...</td>\n",
       "      <td>...</td>\n",
       "      <td>...</td>\n",
       "      <td>...</td>\n",
       "    </tr>\n",
       "    <tr>\n",
       "      <th>153673</th>\n",
       "      <td>TTTTGACTCTAATCACCGGT</td>\n",
       "      <td>A375_tracrV2</td>\n",
       "      <td>1.340342</td>\n",
       "      <td>3</td>\n",
       "    </tr>\n",
       "    <tr>\n",
       "      <th>153674</th>\n",
       "      <td>TTTTTAATACAAGGTAATCT</td>\n",
       "      <td>A375_HsuTracr</td>\n",
       "      <td>0.623388</td>\n",
       "      <td>2</td>\n",
       "    </tr>\n",
       "    <tr>\n",
       "      <th>153675</th>\n",
       "      <td>TTTTTAATACAAGGTAATCT</td>\n",
       "      <td>A375_tracrV2</td>\n",
       "      <td>-0.872765</td>\n",
       "      <td>3</td>\n",
       "    </tr>\n",
       "    <tr>\n",
       "      <th>153676</th>\n",
       "      <td>TTTTTCTCACCCGATGAATC</td>\n",
       "      <td>A375_HsuTracr</td>\n",
       "      <td>0.914082</td>\n",
       "      <td>2</td>\n",
       "    </tr>\n",
       "    <tr>\n",
       "      <th>153677</th>\n",
       "      <td>TTTTTCTCACCCGATGAATC</td>\n",
       "      <td>A375_tracrV2</td>\n",
       "      <td>-0.019545</td>\n",
       "      <td>3</td>\n",
       "    </tr>\n",
       "  </tbody>\n",
       "</table>\n",
       "<p>153678 rows × 4 columns</p>\n",
       "</div>"
      ],
      "text/plain": [
       "              sgRNA Sequence      condition   avg_lfc  n_obs\n",
       "0       AAAAAAAATCCGGACAATGG  A375_HsuTracr -0.744916      2\n",
       "1       AAAAAAAATCCGGACAATGG   A375_tracrV2 -1.450226      3\n",
       "2       AAAAAAAGGATGGTGATCAA  A375_HsuTracr  0.155998      2\n",
       "3       AAAAAAAGGATGGTGATCAA   A375_tracrV2 -0.060651      3\n",
       "4       AAAAAAATGACATTACTGCA  A375_HsuTracr -1.172694      2\n",
       "...                      ...            ...       ...    ...\n",
       "153673  TTTTGACTCTAATCACCGGT   A375_tracrV2  1.340342      3\n",
       "153674  TTTTTAATACAAGGTAATCT  A375_HsuTracr  0.623388      2\n",
       "153675  TTTTTAATACAAGGTAATCT   A375_tracrV2 -0.872765      3\n",
       "153676  TTTTTCTCACCCGATGAATC  A375_HsuTracr  0.914082      2\n",
       "153677  TTTTTCTCACCCGATGAATC   A375_tracrV2 -0.019545      3\n",
       "\n",
       "[153678 rows x 4 columns]"
      ]
     },
     "execution_count": 16,
     "metadata": {},
     "output_type": "execute_result"
    }
   ],
   "source": [
    "long_lfcs['condition'] = long_lfcs['condition'].map(condition_map)\n",
    "avg_lfcs = (long_lfcs.groupby(['sgRNA Sequence', 'condition'])\n",
    "            .agg(avg_lfc = ('lfc', 'mean'),\n",
    "                 n_obs = ('lfc', 'count'))\n",
    "            .reset_index())\n",
    "avg_lfcs"
   ]
  },
  {
   "cell_type": "markdown",
   "metadata": {
    "pycharm": {
     "name": "#%% md\n"
    }
   },
   "source": [
    "## Merging with annotations\n",
    "\n",
    "To interpret the log-fold changes we merge with our annotations file,\n",
    "mapping sgRNAs to genes."
   ]
  },
  {
   "cell_type": "code",
   "execution_count": 17,
   "metadata": {
    "collapsed": false,
    "jupyter": {
     "outputs_hidden": false
    },
    "pycharm": {
     "name": "#%%\n"
    }
   },
   "outputs": [
    {
     "data": {
      "text/html": [
       "<div>\n",
       "<style scoped>\n",
       "    .dataframe tbody tr th:only-of-type {\n",
       "        vertical-align: middle;\n",
       "    }\n",
       "\n",
       "    .dataframe tbody tr th {\n",
       "        vertical-align: top;\n",
       "    }\n",
       "\n",
       "    .dataframe thead th {\n",
       "        text-align: right;\n",
       "    }\n",
       "</style>\n",
       "<table border=\"1\" class=\"dataframe\">\n",
       "  <thead>\n",
       "    <tr style=\"text-align: right;\">\n",
       "      <th></th>\n",
       "      <th>sgRNA Sequence</th>\n",
       "      <th>condition</th>\n",
       "      <th>avg_lfc</th>\n",
       "      <th>n_obs</th>\n",
       "      <th>Gene Symbol</th>\n",
       "      <th>Gene ID</th>\n",
       "    </tr>\n",
       "  </thead>\n",
       "  <tbody>\n",
       "    <tr>\n",
       "      <th>0</th>\n",
       "      <td>AAAAAAAATCCGGACAATGG</td>\n",
       "      <td>A375_HsuTracr</td>\n",
       "      <td>-0.744916</td>\n",
       "      <td>2</td>\n",
       "      <td>SLC25A24</td>\n",
       "      <td>29957</td>\n",
       "    </tr>\n",
       "    <tr>\n",
       "      <th>1</th>\n",
       "      <td>AAAAAAAATCCGGACAATGG</td>\n",
       "      <td>A375_tracrV2</td>\n",
       "      <td>-1.450226</td>\n",
       "      <td>3</td>\n",
       "      <td>SLC25A24</td>\n",
       "      <td>29957</td>\n",
       "    </tr>\n",
       "    <tr>\n",
       "      <th>2</th>\n",
       "      <td>AAAAAAAGGATGGTGATCAA</td>\n",
       "      <td>A375_HsuTracr</td>\n",
       "      <td>0.155998</td>\n",
       "      <td>2</td>\n",
       "      <td>FASTKD3</td>\n",
       "      <td>79072</td>\n",
       "    </tr>\n",
       "    <tr>\n",
       "      <th>3</th>\n",
       "      <td>AAAAAAAGGATGGTGATCAA</td>\n",
       "      <td>A375_tracrV2</td>\n",
       "      <td>-0.060651</td>\n",
       "      <td>3</td>\n",
       "      <td>FASTKD3</td>\n",
       "      <td>79072</td>\n",
       "    </tr>\n",
       "    <tr>\n",
       "      <th>4</th>\n",
       "      <td>AAAAAAATGACATTACTGCA</td>\n",
       "      <td>A375_HsuTracr</td>\n",
       "      <td>-1.172694</td>\n",
       "      <td>2</td>\n",
       "      <td>BCAS2</td>\n",
       "      <td>10286</td>\n",
       "    </tr>\n",
       "    <tr>\n",
       "      <th>...</th>\n",
       "      <td>...</td>\n",
       "      <td>...</td>\n",
       "      <td>...</td>\n",
       "      <td>...</td>\n",
       "      <td>...</td>\n",
       "      <td>...</td>\n",
       "    </tr>\n",
       "    <tr>\n",
       "      <th>172567</th>\n",
       "      <td>TTTTTAATACAAGGTAATCT</td>\n",
       "      <td>A375_tracrV2</td>\n",
       "      <td>-0.872765</td>\n",
       "      <td>3</td>\n",
       "      <td>INACTIVE_5T_55</td>\n",
       "      <td>INACTIVE_5T_55</td>\n",
       "    </tr>\n",
       "    <tr>\n",
       "      <th>172568</th>\n",
       "      <td>TTTTTCTCACCCGATGAATC</td>\n",
       "      <td>A375_HsuTracr</td>\n",
       "      <td>0.914082</td>\n",
       "      <td>2</td>\n",
       "      <td>NO_SITE_941</td>\n",
       "      <td>NO_SITE_941</td>\n",
       "    </tr>\n",
       "    <tr>\n",
       "      <th>172569</th>\n",
       "      <td>TTTTTCTCACCCGATGAATC</td>\n",
       "      <td>A375_HsuTracr</td>\n",
       "      <td>0.914082</td>\n",
       "      <td>2</td>\n",
       "      <td>INACTIVE_5T_56</td>\n",
       "      <td>INACTIVE_5T_56</td>\n",
       "    </tr>\n",
       "    <tr>\n",
       "      <th>172570</th>\n",
       "      <td>TTTTTCTCACCCGATGAATC</td>\n",
       "      <td>A375_tracrV2</td>\n",
       "      <td>-0.019545</td>\n",
       "      <td>3</td>\n",
       "      <td>NO_SITE_941</td>\n",
       "      <td>NO_SITE_941</td>\n",
       "    </tr>\n",
       "    <tr>\n",
       "      <th>172571</th>\n",
       "      <td>TTTTTCTCACCCGATGAATC</td>\n",
       "      <td>A375_tracrV2</td>\n",
       "      <td>-0.019545</td>\n",
       "      <td>3</td>\n",
       "      <td>INACTIVE_5T_56</td>\n",
       "      <td>INACTIVE_5T_56</td>\n",
       "    </tr>\n",
       "  </tbody>\n",
       "</table>\n",
       "<p>172572 rows × 6 columns</p>\n",
       "</div>"
      ],
      "text/plain": [
       "              sgRNA Sequence      condition   avg_lfc  n_obs     Gene Symbol  \\\n",
       "0       AAAAAAAATCCGGACAATGG  A375_HsuTracr -0.744916      2        SLC25A24   \n",
       "1       AAAAAAAATCCGGACAATGG   A375_tracrV2 -1.450226      3        SLC25A24   \n",
       "2       AAAAAAAGGATGGTGATCAA  A375_HsuTracr  0.155998      2         FASTKD3   \n",
       "3       AAAAAAAGGATGGTGATCAA   A375_tracrV2 -0.060651      3         FASTKD3   \n",
       "4       AAAAAAATGACATTACTGCA  A375_HsuTracr -1.172694      2           BCAS2   \n",
       "...                      ...            ...       ...    ...             ...   \n",
       "172567  TTTTTAATACAAGGTAATCT   A375_tracrV2 -0.872765      3  INACTIVE_5T_55   \n",
       "172568  TTTTTCTCACCCGATGAATC  A375_HsuTracr  0.914082      2     NO_SITE_941   \n",
       "172569  TTTTTCTCACCCGATGAATC  A375_HsuTracr  0.914082      2  INACTIVE_5T_56   \n",
       "172570  TTTTTCTCACCCGATGAATC   A375_tracrV2 -0.019545      3     NO_SITE_941   \n",
       "172571  TTTTTCTCACCCGATGAATC   A375_tracrV2 -0.019545      3  INACTIVE_5T_56   \n",
       "\n",
       "               Gene ID  \n",
       "0                29957  \n",
       "1                29957  \n",
       "2                79072  \n",
       "3                79072  \n",
       "4                10286  \n",
       "...                ...  \n",
       "172567  INACTIVE_5T_55  \n",
       "172568     NO_SITE_941  \n",
       "172569  INACTIVE_5T_56  \n",
       "172570     NO_SITE_941  \n",
       "172571  INACTIVE_5T_56  \n",
       "\n",
       "[172572 rows x 6 columns]"
      ]
     },
     "execution_count": 17,
     "metadata": {},
     "output_type": "execute_result"
    }
   ],
   "source": [
    "annotated_sgrna_lfcs = (avg_lfcs.merge(annotation_file.rename({'Barcode Sequence': 'sgRNA Sequence'}, axis=1),\n",
    "                                       how='inner',\n",
    "                                       on='sgRNA Sequence'))\n",
    "annotated_sgrna_lfcs"
   ]
  },
  {
   "cell_type": "markdown",
   "metadata": {
    "pycharm": {
     "name": "#%% md\n"
    }
   },
   "source": [
    "## Calculating sgRNA level z-scores\n",
    "\n",
    "To evaluate the effect size of knockout, we scale\n",
    "log-fold changes by the NO_SITE controls"
   ]
  },
  {
   "cell_type": "code",
   "execution_count": 18,
   "metadata": {
    "collapsed": false,
    "jupyter": {
     "outputs_hidden": false
    },
    "pycharm": {
     "name": "#%%\n"
    }
   },
   "outputs": [
    {
     "data": {
      "text/html": [
       "<div>\n",
       "<style scoped>\n",
       "    .dataframe tbody tr th:only-of-type {\n",
       "        vertical-align: middle;\n",
       "    }\n",
       "\n",
       "    .dataframe tbody tr th {\n",
       "        vertical-align: top;\n",
       "    }\n",
       "\n",
       "    .dataframe thead th {\n",
       "        text-align: right;\n",
       "    }\n",
       "</style>\n",
       "<table border=\"1\" class=\"dataframe\">\n",
       "  <thead>\n",
       "    <tr style=\"text-align: right;\">\n",
       "      <th></th>\n",
       "      <th>sgRNA Sequence</th>\n",
       "      <th>condition</th>\n",
       "      <th>avg_lfc</th>\n",
       "      <th>n_obs</th>\n",
       "      <th>Gene Symbol</th>\n",
       "      <th>Gene ID</th>\n",
       "    </tr>\n",
       "  </thead>\n",
       "  <tbody>\n",
       "    <tr>\n",
       "      <th>0</th>\n",
       "      <td>AAAAAGCTTCCGCCTGATGG</td>\n",
       "      <td>A375_HsuTracr</td>\n",
       "      <td>0.717411</td>\n",
       "      <td>2</td>\n",
       "      <td>NO_SITE_1</td>\n",
       "      <td>NO_SITE_1</td>\n",
       "    </tr>\n",
       "    <tr>\n",
       "      <th>1</th>\n",
       "      <td>AAAAAGCTTCCGCCTGATGG</td>\n",
       "      <td>A375_tracrV2</td>\n",
       "      <td>1.358684</td>\n",
       "      <td>3</td>\n",
       "      <td>NO_SITE_1</td>\n",
       "      <td>NO_SITE_1</td>\n",
       "    </tr>\n",
       "    <tr>\n",
       "      <th>2</th>\n",
       "      <td>AAAACAGGACGATGTGCGGC</td>\n",
       "      <td>A375_HsuTracr</td>\n",
       "      <td>0.562531</td>\n",
       "      <td>2</td>\n",
       "      <td>NO_SITE_2</td>\n",
       "      <td>NO_SITE_2</td>\n",
       "    </tr>\n",
       "    <tr>\n",
       "      <th>3</th>\n",
       "      <td>AAAACAGGACGATGTGCGGC</td>\n",
       "      <td>A375_tracrV2</td>\n",
       "      <td>0.525780</td>\n",
       "      <td>3</td>\n",
       "      <td>NO_SITE_2</td>\n",
       "      <td>NO_SITE_2</td>\n",
       "    </tr>\n",
       "    <tr>\n",
       "      <th>4</th>\n",
       "      <td>AAAACATCGACCGAAAGCGT</td>\n",
       "      <td>A375_HsuTracr</td>\n",
       "      <td>0.208693</td>\n",
       "      <td>2</td>\n",
       "      <td>NO_SITE_3</td>\n",
       "      <td>NO_SITE_3</td>\n",
       "    </tr>\n",
       "    <tr>\n",
       "      <th>...</th>\n",
       "      <td>...</td>\n",
       "      <td>...</td>\n",
       "      <td>...</td>\n",
       "      <td>...</td>\n",
       "      <td>...</td>\n",
       "      <td>...</td>\n",
       "    </tr>\n",
       "    <tr>\n",
       "      <th>1855</th>\n",
       "      <td>TTTTGACTCTAATCACCGGT</td>\n",
       "      <td>A375_tracrV2</td>\n",
       "      <td>1.340342</td>\n",
       "      <td>3</td>\n",
       "      <td>NO_SITE_939</td>\n",
       "      <td>NO_SITE_939</td>\n",
       "    </tr>\n",
       "    <tr>\n",
       "      <th>1856</th>\n",
       "      <td>TTTTTAATACAAGGTAATCT</td>\n",
       "      <td>A375_HsuTracr</td>\n",
       "      <td>0.623388</td>\n",
       "      <td>2</td>\n",
       "      <td>NO_SITE_940</td>\n",
       "      <td>NO_SITE_940</td>\n",
       "    </tr>\n",
       "    <tr>\n",
       "      <th>1857</th>\n",
       "      <td>TTTTTAATACAAGGTAATCT</td>\n",
       "      <td>A375_tracrV2</td>\n",
       "      <td>-0.872765</td>\n",
       "      <td>3</td>\n",
       "      <td>NO_SITE_940</td>\n",
       "      <td>NO_SITE_940</td>\n",
       "    </tr>\n",
       "    <tr>\n",
       "      <th>1858</th>\n",
       "      <td>TTTTTCTCACCCGATGAATC</td>\n",
       "      <td>A375_HsuTracr</td>\n",
       "      <td>0.914082</td>\n",
       "      <td>2</td>\n",
       "      <td>NO_SITE_941</td>\n",
       "      <td>NO_SITE_941</td>\n",
       "    </tr>\n",
       "    <tr>\n",
       "      <th>1859</th>\n",
       "      <td>TTTTTCTCACCCGATGAATC</td>\n",
       "      <td>A375_tracrV2</td>\n",
       "      <td>-0.019545</td>\n",
       "      <td>3</td>\n",
       "      <td>NO_SITE_941</td>\n",
       "      <td>NO_SITE_941</td>\n",
       "    </tr>\n",
       "  </tbody>\n",
       "</table>\n",
       "<p>1860 rows × 6 columns</p>\n",
       "</div>"
      ],
      "text/plain": [
       "            sgRNA Sequence      condition   avg_lfc  n_obs  Gene Symbol  \\\n",
       "0     AAAAAGCTTCCGCCTGATGG  A375_HsuTracr  0.717411      2    NO_SITE_1   \n",
       "1     AAAAAGCTTCCGCCTGATGG   A375_tracrV2  1.358684      3    NO_SITE_1   \n",
       "2     AAAACAGGACGATGTGCGGC  A375_HsuTracr  0.562531      2    NO_SITE_2   \n",
       "3     AAAACAGGACGATGTGCGGC   A375_tracrV2  0.525780      3    NO_SITE_2   \n",
       "4     AAAACATCGACCGAAAGCGT  A375_HsuTracr  0.208693      2    NO_SITE_3   \n",
       "...                    ...            ...       ...    ...          ...   \n",
       "1855  TTTTGACTCTAATCACCGGT   A375_tracrV2  1.340342      3  NO_SITE_939   \n",
       "1856  TTTTTAATACAAGGTAATCT  A375_HsuTracr  0.623388      2  NO_SITE_940   \n",
       "1857  TTTTTAATACAAGGTAATCT   A375_tracrV2 -0.872765      3  NO_SITE_940   \n",
       "1858  TTTTTCTCACCCGATGAATC  A375_HsuTracr  0.914082      2  NO_SITE_941   \n",
       "1859  TTTTTCTCACCCGATGAATC   A375_tracrV2 -0.019545      3  NO_SITE_941   \n",
       "\n",
       "          Gene ID  \n",
       "0       NO_SITE_1  \n",
       "1       NO_SITE_1  \n",
       "2       NO_SITE_2  \n",
       "3       NO_SITE_2  \n",
       "4       NO_SITE_3  \n",
       "...           ...  \n",
       "1855  NO_SITE_939  \n",
       "1856  NO_SITE_940  \n",
       "1857  NO_SITE_940  \n",
       "1858  NO_SITE_941  \n",
       "1859  NO_SITE_941  \n",
       "\n",
       "[1860 rows x 6 columns]"
      ]
     },
     "execution_count": 18,
     "metadata": {},
     "output_type": "execute_result"
    }
   ],
   "source": [
    "control_sgrna_lfcs = (annotated_sgrna_lfcs[(annotated_sgrna_lfcs['Gene Symbol']\n",
    "                                            .str.contains('NO_SITE'))]\n",
    "                      .reset_index(drop=True))\n",
    "control_sgrna_lfcs"
   ]
  },
  {
   "cell_type": "markdown",
   "metadata": {},
   "source": [
    "We caluclate the mean and standard deviation of these controls to get z-scores."
   ]
  },
  {
   "cell_type": "code",
   "execution_count": 21,
   "metadata": {
    "collapsed": false,
    "jupyter": {
     "outputs_hidden": false
    },
    "pycharm": {
     "name": "#%%\n"
    }
   },
   "outputs": [
    {
     "data": {
      "text/html": [
       "<div>\n",
       "<style scoped>\n",
       "    .dataframe tbody tr th:only-of-type {\n",
       "        vertical-align: middle;\n",
       "    }\n",
       "\n",
       "    .dataframe tbody tr th {\n",
       "        vertical-align: top;\n",
       "    }\n",
       "\n",
       "    .dataframe thead th {\n",
       "        text-align: right;\n",
       "    }\n",
       "</style>\n",
       "<table border=\"1\" class=\"dataframe\">\n",
       "  <thead>\n",
       "    <tr style=\"text-align: right;\">\n",
       "      <th></th>\n",
       "      <th>condition</th>\n",
       "      <th>neg_ctl_mean</th>\n",
       "      <th>neg_ctl_sd</th>\n",
       "    </tr>\n",
       "  </thead>\n",
       "  <tbody>\n",
       "    <tr>\n",
       "      <th>0</th>\n",
       "      <td>A375_HsuTracr</td>\n",
       "      <td>0.685959</td>\n",
       "      <td>0.259441</td>\n",
       "    </tr>\n",
       "    <tr>\n",
       "      <th>1</th>\n",
       "      <td>A375_tracrV2</td>\n",
       "      <td>0.793282</td>\n",
       "      <td>0.605216</td>\n",
       "    </tr>\n",
       "  </tbody>\n",
       "</table>\n",
       "</div>"
      ],
      "text/plain": [
       "       condition  neg_ctl_mean  neg_ctl_sd\n",
       "0  A375_HsuTracr      0.685959    0.259441\n",
       "1   A375_tracrV2      0.793282    0.605216"
      ]
     },
     "execution_count": 21,
     "metadata": {},
     "output_type": "execute_result"
    }
   ],
   "source": [
    "control_sgrna_stats = (control_sgrna_lfcs.groupby('condition')\n",
    "                       .agg(neg_ctl_mean = ('avg_lfc', 'mean'),\n",
    "                            neg_ctl_sd = ('avg_lfc', 'std'))\n",
    "                       .reset_index())\n",
    "control_sgrna_stats"
   ]
  },
  {
   "cell_type": "code",
   "execution_count": 22,
   "metadata": {
    "collapsed": false,
    "jupyter": {
     "outputs_hidden": false
    },
    "pycharm": {
     "name": "#%%\n"
    }
   },
   "outputs": [
    {
     "data": {
      "text/html": [
       "<div>\n",
       "<style scoped>\n",
       "    .dataframe tbody tr th:only-of-type {\n",
       "        vertical-align: middle;\n",
       "    }\n",
       "\n",
       "    .dataframe tbody tr th {\n",
       "        vertical-align: top;\n",
       "    }\n",
       "\n",
       "    .dataframe thead th {\n",
       "        text-align: right;\n",
       "    }\n",
       "</style>\n",
       "<table border=\"1\" class=\"dataframe\">\n",
       "  <thead>\n",
       "    <tr style=\"text-align: right;\">\n",
       "      <th></th>\n",
       "      <th>sgRNA Sequence</th>\n",
       "      <th>condition</th>\n",
       "      <th>avg_lfc</th>\n",
       "      <th>n_obs</th>\n",
       "      <th>Gene Symbol</th>\n",
       "      <th>Gene ID</th>\n",
       "      <th>z_scored_avg_lfc</th>\n",
       "    </tr>\n",
       "  </thead>\n",
       "  <tbody>\n",
       "    <tr>\n",
       "      <th>0</th>\n",
       "      <td>AAAAAAAATCCGGACAATGG</td>\n",
       "      <td>A375_HsuTracr</td>\n",
       "      <td>-0.744916</td>\n",
       "      <td>2</td>\n",
       "      <td>SLC25A24</td>\n",
       "      <td>29957</td>\n",
       "      <td>-5.515215</td>\n",
       "    </tr>\n",
       "    <tr>\n",
       "      <th>1</th>\n",
       "      <td>AAAAAAAGGATGGTGATCAA</td>\n",
       "      <td>A375_HsuTracr</td>\n",
       "      <td>0.155998</td>\n",
       "      <td>2</td>\n",
       "      <td>FASTKD3</td>\n",
       "      <td>79072</td>\n",
       "      <td>-2.042700</td>\n",
       "    </tr>\n",
       "    <tr>\n",
       "      <th>2</th>\n",
       "      <td>AAAAAAATGACATTACTGCA</td>\n",
       "      <td>A375_HsuTracr</td>\n",
       "      <td>-1.172694</td>\n",
       "      <td>2</td>\n",
       "      <td>BCAS2</td>\n",
       "      <td>10286</td>\n",
       "      <td>-7.164058</td>\n",
       "    </tr>\n",
       "    <tr>\n",
       "      <th>3</th>\n",
       "      <td>AAAAAAATGTCAGTCGAGTG</td>\n",
       "      <td>A375_HsuTracr</td>\n",
       "      <td>0.250441</td>\n",
       "      <td>2</td>\n",
       "      <td>GPR18</td>\n",
       "      <td>2841</td>\n",
       "      <td>-1.678674</td>\n",
       "    </tr>\n",
       "    <tr>\n",
       "      <th>4</th>\n",
       "      <td>AAAAAACACAAGCAAGACCG</td>\n",
       "      <td>A375_HsuTracr</td>\n",
       "      <td>-0.490166</td>\n",
       "      <td>2</td>\n",
       "      <td>ZNF470</td>\n",
       "      <td>388566</td>\n",
       "      <td>-4.533298</td>\n",
       "    </tr>\n",
       "    <tr>\n",
       "      <th>...</th>\n",
       "      <td>...</td>\n",
       "      <td>...</td>\n",
       "      <td>...</td>\n",
       "      <td>...</td>\n",
       "      <td>...</td>\n",
       "      <td>...</td>\n",
       "      <td>...</td>\n",
       "    </tr>\n",
       "    <tr>\n",
       "      <th>172567</th>\n",
       "      <td>TTTTGACTCTAATCACCGGT</td>\n",
       "      <td>A375_tracrV2</td>\n",
       "      <td>1.340342</td>\n",
       "      <td>3</td>\n",
       "      <td>INACTIVE_4T_54</td>\n",
       "      <td>INACTIVE_4T_54</td>\n",
       "      <td>0.903908</td>\n",
       "    </tr>\n",
       "    <tr>\n",
       "      <th>172568</th>\n",
       "      <td>TTTTTAATACAAGGTAATCT</td>\n",
       "      <td>A375_tracrV2</td>\n",
       "      <td>-0.872765</td>\n",
       "      <td>3</td>\n",
       "      <td>NO_SITE_940</td>\n",
       "      <td>NO_SITE_940</td>\n",
       "      <td>-2.752813</td>\n",
       "    </tr>\n",
       "    <tr>\n",
       "      <th>172569</th>\n",
       "      <td>TTTTTAATACAAGGTAATCT</td>\n",
       "      <td>A375_tracrV2</td>\n",
       "      <td>-0.872765</td>\n",
       "      <td>3</td>\n",
       "      <td>INACTIVE_5T_55</td>\n",
       "      <td>INACTIVE_5T_55</td>\n",
       "      <td>-2.752813</td>\n",
       "    </tr>\n",
       "    <tr>\n",
       "      <th>172570</th>\n",
       "      <td>TTTTTCTCACCCGATGAATC</td>\n",
       "      <td>A375_tracrV2</td>\n",
       "      <td>-0.019545</td>\n",
       "      <td>3</td>\n",
       "      <td>NO_SITE_941</td>\n",
       "      <td>NO_SITE_941</td>\n",
       "      <td>-1.343035</td>\n",
       "    </tr>\n",
       "    <tr>\n",
       "      <th>172571</th>\n",
       "      <td>TTTTTCTCACCCGATGAATC</td>\n",
       "      <td>A375_tracrV2</td>\n",
       "      <td>-0.019545</td>\n",
       "      <td>3</td>\n",
       "      <td>INACTIVE_5T_56</td>\n",
       "      <td>INACTIVE_5T_56</td>\n",
       "      <td>-1.343035</td>\n",
       "    </tr>\n",
       "  </tbody>\n",
       "</table>\n",
       "<p>172572 rows × 7 columns</p>\n",
       "</div>"
      ],
      "text/plain": [
       "              sgRNA Sequence      condition   avg_lfc  n_obs     Gene Symbol  \\\n",
       "0       AAAAAAAATCCGGACAATGG  A375_HsuTracr -0.744916      2        SLC25A24   \n",
       "1       AAAAAAAGGATGGTGATCAA  A375_HsuTracr  0.155998      2         FASTKD3   \n",
       "2       AAAAAAATGACATTACTGCA  A375_HsuTracr -1.172694      2           BCAS2   \n",
       "3       AAAAAAATGTCAGTCGAGTG  A375_HsuTracr  0.250441      2           GPR18   \n",
       "4       AAAAAACACAAGCAAGACCG  A375_HsuTracr -0.490166      2          ZNF470   \n",
       "...                      ...            ...       ...    ...             ...   \n",
       "172567  TTTTGACTCTAATCACCGGT   A375_tracrV2  1.340342      3  INACTIVE_4T_54   \n",
       "172568  TTTTTAATACAAGGTAATCT   A375_tracrV2 -0.872765      3     NO_SITE_940   \n",
       "172569  TTTTTAATACAAGGTAATCT   A375_tracrV2 -0.872765      3  INACTIVE_5T_55   \n",
       "172570  TTTTTCTCACCCGATGAATC   A375_tracrV2 -0.019545      3     NO_SITE_941   \n",
       "172571  TTTTTCTCACCCGATGAATC   A375_tracrV2 -0.019545      3  INACTIVE_5T_56   \n",
       "\n",
       "               Gene ID  z_scored_avg_lfc  \n",
       "0                29957         -5.515215  \n",
       "1                79072         -2.042700  \n",
       "2                10286         -7.164058  \n",
       "3                 2841         -1.678674  \n",
       "4               388566         -4.533298  \n",
       "...                ...               ...  \n",
       "172567  INACTIVE_4T_54          0.903908  \n",
       "172568     NO_SITE_940         -2.752813  \n",
       "172569  INACTIVE_5T_55         -2.752813  \n",
       "172570     NO_SITE_941         -1.343035  \n",
       "172571  INACTIVE_5T_56         -1.343035  \n",
       "\n",
       "[172572 rows x 7 columns]"
      ]
     },
     "execution_count": 22,
     "metadata": {},
     "output_type": "execute_result"
    }
   ],
   "source": [
    "zscored_sgrna_lfcs = annotated_sgrna_lfcs.copy()\n",
    "zscored_sgrna_lfcs = (zscored_sgrna_lfcs.merge(control_sgrna_stats,\n",
    "                                               how='inner', on='condition'))\n",
    "zscored_sgrna_lfcs['z_scored_avg_lfc'] = ((zscored_sgrna_lfcs['avg_lfc'] - zscored_sgrna_lfcs['neg_ctl_mean'])/\n",
    "                                          zscored_sgrna_lfcs['neg_ctl_sd'])\n",
    "zscored_sgrna_lfcs = zscored_sgrna_lfcs.drop(['neg_ctl_sd', 'neg_ctl_mean'], axis=1)\n",
    "zscored_sgrna_lfcs"
   ]
  },
  {
   "cell_type": "markdown",
   "metadata": {
    "pycharm": {
     "name": "#%% md\n"
    }
   },
   "source": [
    "## Calculating gene-level z-scores and statistics\n",
    "\n",
    "To combine z-scores at the gene level, we sum the sgRNA z-scores and divide by the\n",
    "standard deviation of the number of sgRNAs"
   ]
  },
  {
   "cell_type": "code",
   "execution_count": 23,
   "metadata": {
    "collapsed": false,
    "jupyter": {
     "outputs_hidden": false
    },
    "pycharm": {
     "name": "#%%\n"
    }
   },
   "outputs": [
    {
     "data": {
      "text/html": [
       "<div>\n",
       "<style scoped>\n",
       "    .dataframe tbody tr th:only-of-type {\n",
       "        vertical-align: middle;\n",
       "    }\n",
       "\n",
       "    .dataframe tbody tr th {\n",
       "        vertical-align: top;\n",
       "    }\n",
       "\n",
       "    .dataframe thead th {\n",
       "        text-align: right;\n",
       "    }\n",
       "</style>\n",
       "<table border=\"1\" class=\"dataframe\">\n",
       "  <thead>\n",
       "    <tr style=\"text-align: right;\">\n",
       "      <th></th>\n",
       "      <th>Gene Symbol</th>\n",
       "      <th>condition</th>\n",
       "      <th>n_sgrnas</th>\n",
       "      <th>z_scored_avg_lfc</th>\n",
       "    </tr>\n",
       "  </thead>\n",
       "  <tbody>\n",
       "    <tr>\n",
       "      <th>0</th>\n",
       "      <td>A1BG</td>\n",
       "      <td>A375_HsuTracr</td>\n",
       "      <td>3</td>\n",
       "      <td>-5.144452</td>\n",
       "    </tr>\n",
       "    <tr>\n",
       "      <th>1</th>\n",
       "      <td>A1BG</td>\n",
       "      <td>A375_tracrV2</td>\n",
       "      <td>3</td>\n",
       "      <td>-1.640905</td>\n",
       "    </tr>\n",
       "    <tr>\n",
       "      <th>2</th>\n",
       "      <td>A1CF</td>\n",
       "      <td>A375_HsuTracr</td>\n",
       "      <td>4</td>\n",
       "      <td>-1.431112</td>\n",
       "    </tr>\n",
       "    <tr>\n",
       "      <th>3</th>\n",
       "      <td>A1CF</td>\n",
       "      <td>A375_tracrV2</td>\n",
       "      <td>4</td>\n",
       "      <td>-2.083231</td>\n",
       "    </tr>\n",
       "    <tr>\n",
       "      <th>4</th>\n",
       "      <td>A2M</td>\n",
       "      <td>A375_HsuTracr</td>\n",
       "      <td>4</td>\n",
       "      <td>-3.062964</td>\n",
       "    </tr>\n",
       "    <tr>\n",
       "      <th>...</th>\n",
       "      <td>...</td>\n",
       "      <td>...</td>\n",
       "      <td>...</td>\n",
       "      <td>...</td>\n",
       "    </tr>\n",
       "    <tr>\n",
       "      <th>43247</th>\n",
       "      <td>ZYX</td>\n",
       "      <td>A375_tracrV2</td>\n",
       "      <td>4</td>\n",
       "      <td>-1.200102</td>\n",
       "    </tr>\n",
       "    <tr>\n",
       "      <th>43248</th>\n",
       "      <td>ZZEF1</td>\n",
       "      <td>A375_HsuTracr</td>\n",
       "      <td>4</td>\n",
       "      <td>-4.484510</td>\n",
       "    </tr>\n",
       "    <tr>\n",
       "      <th>43249</th>\n",
       "      <td>ZZEF1</td>\n",
       "      <td>A375_tracrV2</td>\n",
       "      <td>4</td>\n",
       "      <td>-1.772401</td>\n",
       "    </tr>\n",
       "    <tr>\n",
       "      <th>43250</th>\n",
       "      <td>ZZZ3</td>\n",
       "      <td>A375_HsuTracr</td>\n",
       "      <td>4</td>\n",
       "      <td>-11.016867</td>\n",
       "    </tr>\n",
       "    <tr>\n",
       "      <th>43251</th>\n",
       "      <td>ZZZ3</td>\n",
       "      <td>A375_tracrV2</td>\n",
       "      <td>4</td>\n",
       "      <td>-6.289624</td>\n",
       "    </tr>\n",
       "  </tbody>\n",
       "</table>\n",
       "<p>43252 rows × 4 columns</p>\n",
       "</div>"
      ],
      "text/plain": [
       "      Gene Symbol      condition  n_sgrnas  z_scored_avg_lfc\n",
       "0            A1BG  A375_HsuTracr         3         -5.144452\n",
       "1            A1BG   A375_tracrV2         3         -1.640905\n",
       "2            A1CF  A375_HsuTracr         4         -1.431112\n",
       "3            A1CF   A375_tracrV2         4         -2.083231\n",
       "4             A2M  A375_HsuTracr         4         -3.062964\n",
       "...           ...            ...       ...               ...\n",
       "43247         ZYX   A375_tracrV2         4         -1.200102\n",
       "43248       ZZEF1  A375_HsuTracr         4         -4.484510\n",
       "43249       ZZEF1   A375_tracrV2         4         -1.772401\n",
       "43250        ZZZ3  A375_HsuTracr         4        -11.016867\n",
       "43251        ZZZ3   A375_tracrV2         4         -6.289624\n",
       "\n",
       "[43252 rows x 4 columns]"
      ]
     },
     "execution_count": 23,
     "metadata": {},
     "output_type": "execute_result"
    }
   ],
   "source": [
    "zscored_gene_lfcs = (zscored_sgrna_lfcs.groupby(['Gene Symbol', 'condition'])\n",
    "                     .agg(z_scored_lfc_sum = ('z_scored_avg_lfc', 'sum'),\n",
    "                          n_sgrnas = ('avg_lfc', 'count'))\n",
    "                     .reset_index())\n",
    "zscored_gene_lfcs['z_scored_avg_lfc'] = (zscored_gene_lfcs['z_scored_lfc_sum']/np.sqrt(zscored_gene_lfcs['n_sgrnas']))\n",
    "zscored_gene_lfcs = zscored_gene_lfcs.drop('z_scored_lfc_sum', axis=1)\n",
    "zscored_gene_lfcs"
   ]
  },
  {
   "cell_type": "markdown",
   "metadata": {
    "pycharm": {
     "name": "#%% md\n"
    }
   },
   "source": [
    "We calculate p-values from the z-score by using a reference normal distribution from `scipy`."
   ]
  },
  {
   "cell_type": "code",
   "execution_count": 24,
   "metadata": {
    "collapsed": false,
    "jupyter": {
     "outputs_hidden": false
    },
    "pycharm": {
     "name": "#%%\n"
    }
   },
   "outputs": [
    {
     "data": {
      "text/html": [
       "<div>\n",
       "<style scoped>\n",
       "    .dataframe tbody tr th:only-of-type {\n",
       "        vertical-align: middle;\n",
       "    }\n",
       "\n",
       "    .dataframe tbody tr th {\n",
       "        vertical-align: top;\n",
       "    }\n",
       "\n",
       "    .dataframe thead th {\n",
       "        text-align: right;\n",
       "    }\n",
       "</style>\n",
       "<table border=\"1\" class=\"dataframe\">\n",
       "  <thead>\n",
       "    <tr style=\"text-align: right;\">\n",
       "      <th></th>\n",
       "      <th>Gene Symbol</th>\n",
       "      <th>condition</th>\n",
       "      <th>n_sgrnas</th>\n",
       "      <th>z_scored_avg_lfc</th>\n",
       "      <th>p_value</th>\n",
       "    </tr>\n",
       "  </thead>\n",
       "  <tbody>\n",
       "    <tr>\n",
       "      <th>0</th>\n",
       "      <td>A1BG</td>\n",
       "      <td>A375_HsuTracr</td>\n",
       "      <td>3</td>\n",
       "      <td>-5.144452</td>\n",
       "      <td>2.683029e-07</td>\n",
       "    </tr>\n",
       "    <tr>\n",
       "      <th>1</th>\n",
       "      <td>A1BG</td>\n",
       "      <td>A375_tracrV2</td>\n",
       "      <td>3</td>\n",
       "      <td>-1.640905</td>\n",
       "      <td>1.008171e-01</td>\n",
       "    </tr>\n",
       "    <tr>\n",
       "      <th>2</th>\n",
       "      <td>A1CF</td>\n",
       "      <td>A375_HsuTracr</td>\n",
       "      <td>4</td>\n",
       "      <td>-1.431112</td>\n",
       "      <td>1.523982e-01</td>\n",
       "    </tr>\n",
       "    <tr>\n",
       "      <th>3</th>\n",
       "      <td>A1CF</td>\n",
       "      <td>A375_tracrV2</td>\n",
       "      <td>4</td>\n",
       "      <td>-2.083231</td>\n",
       "      <td>3.723021e-02</td>\n",
       "    </tr>\n",
       "    <tr>\n",
       "      <th>4</th>\n",
       "      <td>A2M</td>\n",
       "      <td>A375_HsuTracr</td>\n",
       "      <td>4</td>\n",
       "      <td>-3.062964</td>\n",
       "      <td>2.191568e-03</td>\n",
       "    </tr>\n",
       "    <tr>\n",
       "      <th>...</th>\n",
       "      <td>...</td>\n",
       "      <td>...</td>\n",
       "      <td>...</td>\n",
       "      <td>...</td>\n",
       "      <td>...</td>\n",
       "    </tr>\n",
       "    <tr>\n",
       "      <th>43247</th>\n",
       "      <td>ZYX</td>\n",
       "      <td>A375_tracrV2</td>\n",
       "      <td>4</td>\n",
       "      <td>-1.200102</td>\n",
       "      <td>2.300997e-01</td>\n",
       "    </tr>\n",
       "    <tr>\n",
       "      <th>43248</th>\n",
       "      <td>ZZEF1</td>\n",
       "      <td>A375_HsuTracr</td>\n",
       "      <td>4</td>\n",
       "      <td>-4.484510</td>\n",
       "      <td>7.308168e-06</td>\n",
       "    </tr>\n",
       "    <tr>\n",
       "      <th>43249</th>\n",
       "      <td>ZZEF1</td>\n",
       "      <td>A375_tracrV2</td>\n",
       "      <td>4</td>\n",
       "      <td>-1.772401</td>\n",
       "      <td>7.632802e-02</td>\n",
       "    </tr>\n",
       "    <tr>\n",
       "      <th>43250</th>\n",
       "      <td>ZZZ3</td>\n",
       "      <td>A375_HsuTracr</td>\n",
       "      <td>4</td>\n",
       "      <td>-11.016867</td>\n",
       "      <td>3.168960e-28</td>\n",
       "    </tr>\n",
       "    <tr>\n",
       "      <th>43251</th>\n",
       "      <td>ZZZ3</td>\n",
       "      <td>A375_tracrV2</td>\n",
       "      <td>4</td>\n",
       "      <td>-6.289624</td>\n",
       "      <td>3.182366e-10</td>\n",
       "    </tr>\n",
       "  </tbody>\n",
       "</table>\n",
       "<p>43252 rows × 5 columns</p>\n",
       "</div>"
      ],
      "text/plain": [
       "      Gene Symbol      condition  n_sgrnas  z_scored_avg_lfc       p_value\n",
       "0            A1BG  A375_HsuTracr         3         -5.144452  2.683029e-07\n",
       "1            A1BG   A375_tracrV2         3         -1.640905  1.008171e-01\n",
       "2            A1CF  A375_HsuTracr         4         -1.431112  1.523982e-01\n",
       "3            A1CF   A375_tracrV2         4         -2.083231  3.723021e-02\n",
       "4             A2M  A375_HsuTracr         4         -3.062964  2.191568e-03\n",
       "...           ...            ...       ...               ...           ...\n",
       "43247         ZYX   A375_tracrV2         4         -1.200102  2.300997e-01\n",
       "43248       ZZEF1  A375_HsuTracr         4         -4.484510  7.308168e-06\n",
       "43249       ZZEF1   A375_tracrV2         4         -1.772401  7.632802e-02\n",
       "43250        ZZZ3  A375_HsuTracr         4        -11.016867  3.168960e-28\n",
       "43251        ZZZ3   A375_tracrV2         4         -6.289624  3.182366e-10\n",
       "\n",
       "[43252 rows x 5 columns]"
      ]
     },
     "execution_count": 24,
     "metadata": {},
     "output_type": "execute_result"
    }
   ],
   "source": [
    "zscored_gene_lfcs['p_value'] = (zscored_gene_lfcs.groupby('condition')\n",
    "                                ['z_scored_avg_lfc']\n",
    "                                .transform(lambda x: scipy.stats.norm.sf(abs(x))*2))\n",
    "zscored_gene_lfcs"
   ]
  },
  {
   "cell_type": "markdown",
   "metadata": {
    "pycharm": {
     "name": "#%% md\n"
    }
   },
   "source": [
    "We then correct for multiple hypothesis testing using the [Benjamini-Hochberg](http://www.biostathandbook.com/multiplecomparisons.html) procedure."
   ]
  },
  {
   "cell_type": "code",
   "execution_count": 25,
   "metadata": {
    "collapsed": false,
    "jupyter": {
     "outputs_hidden": false
    },
    "pycharm": {
     "name": "#%%\n"
    }
   },
   "outputs": [
    {
     "data": {
      "text/html": [
       "<div>\n",
       "<style scoped>\n",
       "    .dataframe tbody tr th:only-of-type {\n",
       "        vertical-align: middle;\n",
       "    }\n",
       "\n",
       "    .dataframe tbody tr th {\n",
       "        vertical-align: top;\n",
       "    }\n",
       "\n",
       "    .dataframe thead th {\n",
       "        text-align: right;\n",
       "    }\n",
       "</style>\n",
       "<table border=\"1\" class=\"dataframe\">\n",
       "  <thead>\n",
       "    <tr style=\"text-align: right;\">\n",
       "      <th></th>\n",
       "      <th>Gene Symbol</th>\n",
       "      <th>condition</th>\n",
       "      <th>n_sgrnas</th>\n",
       "      <th>z_scored_avg_lfc</th>\n",
       "      <th>p_value</th>\n",
       "      <th>FDR</th>\n",
       "    </tr>\n",
       "  </thead>\n",
       "  <tbody>\n",
       "    <tr>\n",
       "      <th>0</th>\n",
       "      <td>A1BG</td>\n",
       "      <td>A375_HsuTracr</td>\n",
       "      <td>3</td>\n",
       "      <td>-5.144452</td>\n",
       "      <td>2.683029e-07</td>\n",
       "      <td>5.043740e-07</td>\n",
       "    </tr>\n",
       "    <tr>\n",
       "      <th>1</th>\n",
       "      <td>A1BG</td>\n",
       "      <td>A375_tracrV2</td>\n",
       "      <td>3</td>\n",
       "      <td>-1.640905</td>\n",
       "      <td>1.008171e-01</td>\n",
       "      <td>1.268189e-01</td>\n",
       "    </tr>\n",
       "    <tr>\n",
       "      <th>2</th>\n",
       "      <td>A1CF</td>\n",
       "      <td>A375_HsuTracr</td>\n",
       "      <td>4</td>\n",
       "      <td>-1.431112</td>\n",
       "      <td>1.523982e-01</td>\n",
       "      <td>1.629549e-01</td>\n",
       "    </tr>\n",
       "    <tr>\n",
       "      <th>3</th>\n",
       "      <td>A1CF</td>\n",
       "      <td>A375_tracrV2</td>\n",
       "      <td>4</td>\n",
       "      <td>-2.083231</td>\n",
       "      <td>3.723021e-02</td>\n",
       "      <td>5.312355e-02</td>\n",
       "    </tr>\n",
       "    <tr>\n",
       "      <th>4</th>\n",
       "      <td>A2M</td>\n",
       "      <td>A375_HsuTracr</td>\n",
       "      <td>4</td>\n",
       "      <td>-3.062964</td>\n",
       "      <td>2.191568e-03</td>\n",
       "      <td>2.672390e-03</td>\n",
       "    </tr>\n",
       "    <tr>\n",
       "      <th>...</th>\n",
       "      <td>...</td>\n",
       "      <td>...</td>\n",
       "      <td>...</td>\n",
       "      <td>...</td>\n",
       "      <td>...</td>\n",
       "      <td>...</td>\n",
       "    </tr>\n",
       "    <tr>\n",
       "      <th>43247</th>\n",
       "      <td>ZYX</td>\n",
       "      <td>A375_tracrV2</td>\n",
       "      <td>4</td>\n",
       "      <td>-1.200102</td>\n",
       "      <td>2.300997e-01</td>\n",
       "      <td>2.642524e-01</td>\n",
       "    </tr>\n",
       "    <tr>\n",
       "      <th>43248</th>\n",
       "      <td>ZZEF1</td>\n",
       "      <td>A375_HsuTracr</td>\n",
       "      <td>4</td>\n",
       "      <td>-4.484510</td>\n",
       "      <td>7.308168e-06</td>\n",
       "      <td>1.161679e-05</td>\n",
       "    </tr>\n",
       "    <tr>\n",
       "      <th>43249</th>\n",
       "      <td>ZZEF1</td>\n",
       "      <td>A375_tracrV2</td>\n",
       "      <td>4</td>\n",
       "      <td>-1.772401</td>\n",
       "      <td>7.632802e-02</td>\n",
       "      <td>9.919890e-02</td>\n",
       "    </tr>\n",
       "    <tr>\n",
       "      <th>43250</th>\n",
       "      <td>ZZZ3</td>\n",
       "      <td>A375_HsuTracr</td>\n",
       "      <td>4</td>\n",
       "      <td>-11.016867</td>\n",
       "      <td>3.168960e-28</td>\n",
       "      <td>1.982411e-27</td>\n",
       "    </tr>\n",
       "    <tr>\n",
       "      <th>43251</th>\n",
       "      <td>ZZZ3</td>\n",
       "      <td>A375_tracrV2</td>\n",
       "      <td>4</td>\n",
       "      <td>-6.289624</td>\n",
       "      <td>3.182366e-10</td>\n",
       "      <td>2.182928e-09</td>\n",
       "    </tr>\n",
       "  </tbody>\n",
       "</table>\n",
       "<p>43252 rows × 6 columns</p>\n",
       "</div>"
      ],
      "text/plain": [
       "      Gene Symbol      condition  n_sgrnas  z_scored_avg_lfc       p_value  \\\n",
       "0            A1BG  A375_HsuTracr         3         -5.144452  2.683029e-07   \n",
       "1            A1BG   A375_tracrV2         3         -1.640905  1.008171e-01   \n",
       "2            A1CF  A375_HsuTracr         4         -1.431112  1.523982e-01   \n",
       "3            A1CF   A375_tracrV2         4         -2.083231  3.723021e-02   \n",
       "4             A2M  A375_HsuTracr         4         -3.062964  2.191568e-03   \n",
       "...           ...            ...       ...               ...           ...   \n",
       "43247         ZYX   A375_tracrV2         4         -1.200102  2.300997e-01   \n",
       "43248       ZZEF1  A375_HsuTracr         4         -4.484510  7.308168e-06   \n",
       "43249       ZZEF1   A375_tracrV2         4         -1.772401  7.632802e-02   \n",
       "43250        ZZZ3  A375_HsuTracr         4        -11.016867  3.168960e-28   \n",
       "43251        ZZZ3   A375_tracrV2         4         -6.289624  3.182366e-10   \n",
       "\n",
       "                FDR  \n",
       "0      5.043740e-07  \n",
       "1      1.268189e-01  \n",
       "2      1.629549e-01  \n",
       "3      5.312355e-02  \n",
       "4      2.672390e-03  \n",
       "...             ...  \n",
       "43247  2.642524e-01  \n",
       "43248  1.161679e-05  \n",
       "43249  9.919890e-02  \n",
       "43250  1.982411e-27  \n",
       "43251  2.182928e-09  \n",
       "\n",
       "[43252 rows x 6 columns]"
      ]
     },
     "execution_count": 25,
     "metadata": {},
     "output_type": "execute_result"
    }
   ],
   "source": [
    "zscored_gene_lfcs['FDR'] = (zscored_gene_lfcs.groupby('condition')\n",
    "                            ['p_value']\n",
    "                            .transform(lambda x: multipletests(x, method='fdr_bh')[1]))\n",
    "zscored_gene_lfcs"
   ]
  },
  {
   "cell_type": "markdown",
   "metadata": {
    "pycharm": {
     "name": "#%% md\n"
    }
   },
   "source": [
    "Now we can generate a volcano plot from the z-scores and FDR values"
   ]
  },
  {
   "cell_type": "code",
   "execution_count": 26,
   "metadata": {
    "collapsed": false,
    "jupyter": {
     "outputs_hidden": false
    },
    "pycharm": {
     "name": "#%%\n"
    }
   },
   "outputs": [
    {
     "name": "stderr",
     "output_type": "stream",
     "text": [
      "/Users/pdeweird/.conda/envs/computational-resources/lib/python3.6/site-packages/pandas/core/series.py:726: RuntimeWarning: divide by zero encountered in log10\n",
      "  result = getattr(ufunc, method)(*inputs, **kwargs)\n"
     ]
    },
    {
     "data": {
      "text/plain": [
       "<seaborn.axisgrid.FacetGrid at 0x7f82e82ab0b8>"
      ]
     },
     "execution_count": 26,
     "metadata": {},
     "output_type": "execute_result"
    },
    {
     "data": {
      "image/png": "[encoded data removed]",
      "text/plain": [
       "<Figure size 432x216 with 2 Axes>"
      ]
     },
     "metadata": {
      "needs_background": "light"
     },
     "output_type": "display_data"
    }
   ],
   "source": [
    "zscored_gene_lfcs['-log(FDR)'] = -np.log10(zscored_gene_lfcs['FDR'])\n",
    "g = sns.FacetGrid(data=zscored_gene_lfcs,\n",
    "                  col='condition')\n",
    "g.map_dataframe(sns.scatterplot, x='z_scored_avg_lfc', y='-log(FDR)',\n",
    "                alpha=0.3)\n",
    "sns.despine()\n",
    "g.set_axis_labels(x_var='Z-score',\n",
    "                  y_var='-log10 p-value')"
   ]
  },
  {
   "cell_type": "markdown",
   "metadata": {
    "pycharm": {
     "name": "#%% md\n"
    }
   },
   "source": [
    "## ROC between essential and nonessential genes\n",
    "\n",
    "To compare the two tracrRNAs we calculate [ROC curves](https://en.wikipedia.org/wiki/Receiver_operating_characteristic)\n",
    "using sgRNAs targeting essential genes as positive controls and\n",
    "sgRNAs targeting nonessential genes as negative controls. Here we calculate\n",
    "ROCs at the sgRNA level, but they can also be calculated at the gene level."
   ]
  },
  {
   "cell_type": "code",
   "execution_count": 27,
   "metadata": {
    "collapsed": false,
    "jupyter": {
     "outputs_hidden": false
    },
    "pycharm": {
     "name": "#%%\n"
    }
   },
   "outputs": [
    {
     "data": {
      "text/html": [
       "<div>\n",
       "<style scoped>\n",
       "    .dataframe tbody tr th:only-of-type {\n",
       "        vertical-align: middle;\n",
       "    }\n",
       "\n",
       "    .dataframe tbody tr th {\n",
       "        vertical-align: top;\n",
       "    }\n",
       "\n",
       "    .dataframe thead th {\n",
       "        text-align: right;\n",
       "    }\n",
       "</style>\n",
       "<table border=\"1\" class=\"dataframe\">\n",
       "  <thead>\n",
       "    <tr style=\"text-align: right;\">\n",
       "      <th></th>\n",
       "      <th>condition</th>\n",
       "      <th>ROC-AUC</th>\n",
       "    </tr>\n",
       "  </thead>\n",
       "  <tbody>\n",
       "    <tr>\n",
       "      <th>0</th>\n",
       "      <td>A375_HsuTracr</td>\n",
       "      <td>0.913521</td>\n",
       "    </tr>\n",
       "    <tr>\n",
       "      <th>1</th>\n",
       "      <td>A375_tracrV2</td>\n",
       "      <td>0.898707</td>\n",
       "    </tr>\n",
       "  </tbody>\n",
       "</table>\n",
       "</div>"
      ],
      "text/plain": [
       "       condition   ROC-AUC\n",
       "0  A375_HsuTracr  0.913521\n",
       "1   A375_tracrV2  0.898707"
      ]
     },
     "execution_count": 27,
     "metadata": {},
     "output_type": "execute_result"
    }
   ],
   "source": [
    "roc_df =  zscored_sgrna_lfcs.copy()\n",
    "roc_df['pos_ctl'] = roc_df['Gene Symbol'].isin(essential_genes)\n",
    "roc_df['neg_ctl'] = roc_df['Gene Symbol'].isin(nonessential_genes)\n",
    "roc_df = (roc_df[roc_df['pos_ctl'] | roc_df['neg_ctl']]\n",
    "          .reset_index(drop=True))\n",
    "tpr_fpr_df_list = []\n",
    "roc_auc_list = []\n",
    "for group, df in roc_df.groupby('condition'):\n",
    "    fpr, tpr, treshold = roc_curve(df['pos_ctl'], -df['z_scored_avg_lfc'])\n",
    "    group_tpr_fpr_df = pd.DataFrame({'tpr': tpr, 'fpr': fpr, 'threshold': treshold})\n",
    "    group_tpr_fpr_df['condition'] = group\n",
    "    tpr_fpr_df_list.append(group_tpr_fpr_df)\n",
    "    roc_auc = auc(fpr, tpr)\n",
    "    roc_auc_list.append({'condition': group, 'ROC-AUC': roc_auc})\n",
    "sgrna_roc_aucs = pd.DataFrame(roc_auc_list)\n",
    "sgrna_tpr_fpr_df = (pd.concat(tpr_fpr_df_list).reset_index(drop=True))\n",
    "sgrna_roc_aucs"
   ]
  },
  {
   "cell_type": "code",
   "execution_count": 28,
   "metadata": {
    "collapsed": false,
    "jupyter": {
     "outputs_hidden": false
    },
    "pycharm": {
     "name": "#%%\n"
    }
   },
   "outputs": [
    {
     "data": {
      "image/png": "[encoded data removed]",
      "text/plain": [
       "<Figure size 288x288 with 1 Axes>"
      ]
     },
     "metadata": {
      "needs_background": "light"
     },
     "output_type": "display_data"
    }
   ],
   "source": [
    "plt.subplots(figsize=(4, 4))\n",
    "sns.lineplot(data=sgrna_tpr_fpr_df, x='fpr',\n",
    "             y='tpr', hue='condition', ci=None)\n",
    "sns.despine()"
   ]
  },
  {
   "cell_type": "markdown",
   "metadata": {
    "pycharm": {
     "name": "#%% md\n"
    }
   },
   "source": [
    "We can see from the ROC curves that Brunello with the Hsu tracr\n",
    "is better than Brunello with tracr-v2."
   ]
  },
  {
   "cell_type": "markdown",
   "metadata": {
    "pycharm": {
     "name": "#%% md\n"
    }
   },
   "source": [
    "## Next steps\n",
    "\n",
    "All of the analyses\n",
    "written here are included as functions in the\n",
    "python package [poola](https://github.com/gpp-rnd/poola). We recommend\n",
    "that you use poola once you understand the code in this notebook.\n"
   ]
  },
  {
   "cell_type": "code",
   "execution_count": null,
   "metadata": {},
   "outputs": [],
   "source": []
  }
 ],
 "metadata": {
  "kernelspec": {
   "display_name": "Python 3",
   "language": "python",
   "name": "python3"
  },
  "language_info": {
   "codemirror_mode": {
    "name": "ipython",
    "version": 3
   },
   "file_extension": ".py",
   "mimetype": "text/x-python",
   "name": "python",
   "nbconvert_exporter": "python",
   "pygments_lexer": "ipython3",
   "version": "3.6.13"
  }
 },
 "nbformat": 4,
 "nbformat_minor": 4
}
