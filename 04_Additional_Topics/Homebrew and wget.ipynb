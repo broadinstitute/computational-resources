{
 "cells": [
  {
   "cell_type": "markdown",
   "id": "18505438",
   "metadata": {},
   "source": [
    "# Homebrew"
   ]
  },
  {
   "cell_type": "markdown",
   "id": "25e5c149",
   "metadata": {},
   "source": [
    "## What is Homebrew?"
   ]
  },
  {
   "cell_type": "markdown",
   "id": "8c43b64a",
   "metadata": {},
   "source": [
    "Homebrew is an alternative and simplified way of installing software through command line. It is needed to install wget, the software for downloading sequencing data delivered by GP.  \n",
    "\n",
    "Further information on Homebrew is available  [here](https://brew.sh/)"
   ]
  },
  {
   "cell_type": "markdown",
   "id": "e734599a",
   "metadata": {},
   "source": [
    "## Installing Homebrew"
   ]
  },
  {
   "cell_type": "markdown",
   "id": "e893383e",
   "metadata": {},
   "source": [
    "Paste the following into Terminal and run:\n",
    "\n",
    "`/bin/bash -c \"$(curl -fsSL https://raw.githubusercontent.com/Homebrew/install/HEAD/install.sh)\"`\n",
    "    \n",
    "The script will take you through the installation process. "
   ]
  },
  {
   "cell_type": "markdown",
   "id": "80c15cc9",
   "metadata": {},
   "source": [
    "## Using Homebrew to install wget"
   ]
  },
  {
   "cell_type": "markdown",
   "id": "1d9307ff",
   "metadata": {},
   "source": [
    "Similarly to using `pip` to install packages, you can instead use `brew`\n",
    "\n",
    "For example, to install wget:  \n",
    "\n",
    "`$ brew install wget`"
   ]
  },
  {
   "cell_type": "markdown",
   "id": "d5d060a1",
   "metadata": {},
   "source": [
    "## wget \n",
    "wget is a software for downloading files from a web server. \n",
    "\n",
    "One common application of wget is to download .fastq files from GP."
   ]
  },
  {
   "cell_type": "markdown",
   "id": "37db9063",
   "metadata": {},
   "source": [
    "## Using wget to download sequencing data from Walkup sequencing\n",
    "Once sequencing is complete, GP usually sends an email from zamboni@broadinstitute.org containing the names of the samples and information for downloading the corresponding sequencing data. \n",
    "\n",
    "To download:\n",
    "\n",
    "1. Open terminal and cd to the folder that you want to download the .fastq files into  \n",
    "\n",
    "\n",
    "2. At the bottom of Walkup sequencing emails there will be a line of code that can be copy/pasted into terminal    \n",
    "\n",
    "    For Example:  \n",
    " `wget --tries=10 --continue --mirror --user SN0262532 --password 2hizXdqsSHyl --no-check-certificate https://get.broadinstitute.org/pkgs/SN0262532/`\n",
    "        \n",
    "        \n",
    "3. This will create a folder containing all the files available in linked directory  "
   ]
  },
  {
   "cell_type": "code",
   "execution_count": null,
   "id": "6aa94937",
   "metadata": {},
   "outputs": [],
   "source": []
  }
 ],
 "metadata": {
  "kernelspec": {
   "display_name": "real_env",
   "language": "python",
   "name": "real_env"
  },
  "language_info": {
   "codemirror_mode": {
    "name": "ipython",
    "version": 3
   },
   "file_extension": ".py",
   "mimetype": "text/x-python",
   "name": "python",
   "nbconvert_exporter": "python",
   "pygments_lexer": "ipython3",
   "version": "3.9.1"
  },
  "toc": {
   "base_numbering": 1,
   "nav_menu": {},
   "number_sections": true,
   "sideBar": true,
   "skip_h1_title": false,
   "title_cell": "Table of Contents",
   "title_sidebar": "Contents",
   "toc_cell": false,
   "toc_position": {},
   "toc_section_display": true,
   "toc_window_display": true
  }
 },
 "nbformat": 4,
 "nbformat_minor": 5
}
