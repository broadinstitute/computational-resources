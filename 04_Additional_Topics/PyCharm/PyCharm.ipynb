{
 "cells": [
  {
   "cell_type": "markdown",
   "id": "2f768b16",
   "metadata": {},
   "source": [
    "<h1>PyCharm</h1>"
   ]
  },
  {
   "cell_type": "markdown",
   "id": "0ce91ac4",
   "metadata": {},
   "source": [
    "[PyCharm](https://www.jetbrains.com/pycharm/) is an IDE, which stands for **I**ntegrative **D**evelopment **E**nvironment, which is essentially a text editor with additional features, such as code completion, error highlighting, and GitHub compatibility. We primarily use PyCharm for its GitHub compatibility"
   ]
  },
  {
   "cell_type": "markdown",
   "id": "21be3451",
   "metadata": {},
   "source": [
    "<img src =\"images/PyCharm_icon.png\" width= 50 align='left'> <h2>Installing PyCharm Professional</h3>"
   ]
  },
  {
   "cell_type": "markdown",
   "id": "841271ec",
   "metadata": {},
   "source": [
    "Visit [this page](https://broad.service-now.com/sp?sys_kb_id=091247b213f3c340449fb86f3244b008&id=kb_article_view&sysparm_rank=1&sysparm_tsqueryId=dec46bf747459d90136902f3846d430e) on the BITS Service Portal to install the full version of PyCharm. "
   ]
  },
  {
   "cell_type": "markdown",
   "id": "9a7e0985",
   "metadata": {},
   "source": [
    "### GitHub compatibility"
   ]
  },
  {
   "cell_type": "markdown",
   "id": "ac282c1e",
   "metadata": {},
   "source": [
    "#### Open a GitHub repository in PyCharm"
   ]
  },
  {
   "cell_type": "markdown",
   "id": "3e32ff5b",
   "metadata": {},
   "source": [
    "1. Open PyCharm and click on \"Get from VCS.\" VCS stands for \"version control software.\"\n",
    "![PyCharm_getfromvcs](images/PyCharm_getfromvcs.png?)"
   ]
  },
  {
   "cell_type": "markdown",
   "id": "fa430b8e",
   "metadata": {},
   "source": [
    "2. Enter the URL of the GitHub repository you'd like to work in and click \"Clone.\"\n",
    "<img src =\"images/PyCharm_vcs_GitHub_clone.png?\" width = 600>"
   ]
  },
  {
   "cell_type": "markdown",
   "id": "7519551a",
   "metadata": {},
   "source": [
    "3. PyCharm should automatically configure a virtual environment for the repository. If the repository includes a requirements.txt file, then PyCharm should automatically install any required packages. To modify this virtual environment or the packages installed in the virtual environment, go to \"PyCharm\" in the menu bar at the top of the screen and select \"Preferences.\"\n",
    "<img src =\"images/PyCharm_Preferences.png\" width = 200>\n",
    "Then select \"Python Interpreter\" under \"Project.\" \n",
    "<img src =\"images/PyCharm_PythonInterpreter.png\" width = 200>\n"
   ]
  },
  {
   "cell_type": "markdown",
   "id": "726c2524",
   "metadata": {},
   "source": [
    "Now you're ready to work with your GitHub repository in PyCharm!"
   ]
  }
 ],
 "metadata": {
  "kernelspec": {
   "display_name": "Python 3 (ipykernel)",
   "language": "python",
   "name": "python3"
  },
  "language_info": {
   "codemirror_mode": {
    "name": "ipython",
    "version": 3
   },
   "file_extension": ".py",
   "mimetype": "text/x-python",
   "name": "python",
   "nbconvert_exporter": "python",
   "pygments_lexer": "ipython3",
   "version": "3.7.6"
  },
  "toc": {
   "base_numbering": 1,
   "nav_menu": {},
   "number_sections": true,
   "sideBar": true,
   "skip_h1_title": false,
   "title_cell": "Table of Contents",
   "title_sidebar": "Contents",
   "toc_cell": false,
   "toc_position": {},
   "toc_section_display": true,
   "toc_window_display": false
  }
 },
 "nbformat": 4,
 "nbformat_minor": 5
}
