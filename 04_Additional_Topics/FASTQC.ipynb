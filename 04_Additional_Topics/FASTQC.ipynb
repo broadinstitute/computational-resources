{
 "cells": [
  {
   "cell_type": "markdown",
   "id": "5d78f912",
   "metadata": {},
   "source": [
    "# FASTQC"
   ]
  },
  {
   "cell_type": "markdown",
   "id": "38c8473f",
   "metadata": {},
   "source": [
    "## What is FASTQC?"
   ]
  },
  {
   "cell_type": "markdown",
   "id": "6fde44a1",
   "metadata": {},
   "source": [
    "FASTQC is an application that checks sequencing quality of FASTQ files from [Babraham Bioinformatics](https://www.bioinformatics.babraham.ac.uk/projects/fastqc/). "
   ]
  },
  {
   "cell_type": "markdown",
   "id": "fcbf4620",
   "metadata": {},
   "source": [
    "## How do I run FASTQC?"
   ]
  },
  {
   "cell_type": "markdown",
   "id": "90e6cd6b",
   "metadata": {},
   "source": [
    "FASTQC is a part of the PoolQ and BEV pipeline, so it will be run any time you run a job on either of those tools. In the rare instances where you need to run FASTQC separately on your local machine without using one of those tools, follow the steps below."
   ]
  },
  {
   "cell_type": "markdown",
   "id": "1453232e",
   "metadata": {},
   "source": [
    "## Installing FASTQC on your local machine"
   ]
  },
  {
   "cell_type": "markdown",
   "id": "44558fb9",
   "metadata": {},
   "source": [
    "Go to [Babraham Bioinformatics installation page](https://www.bioinformatics.babraham.ac.uk/projects/download.html#fastqc) download the appropriate version:\n",
    "\n",
    "* If planning to run FASTQC from **command line** (case where you'll be running FASTQC on **many** files): \n",
    "\n",
    "    * download the **Windows/Linux file** (even if you have a Mac machine; the Linux version is required to run FASTQC from terminal)\n",
    "\n",
    "**NOTE: Make sure the folder that this file is saved in is named such that there are no spaces or special characters** \n",
    "\n",
    "* If you'll be running FASTQC using the **interactive** application (for a **few** samples): \n",
    "    * download the **Mac DMG version**\n",
    "    \n"
   ]
  },
  {
   "cell_type": "markdown",
   "id": "424c1ac9",
   "metadata": {},
   "source": [
    "## Running FASTQC from command line"
   ]
  },
  {
   "cell_type": "markdown",
   "id": "1a081267",
   "metadata": {},
   "source": [
    "1. Open terminal and cd to the the Windows/Linux FASTQC folder that you downloaded.\n",
    "\n",
    "2. Run the following command\n",
    "```bash\n",
    "chmod 755 fastqc\n",
    "```\n",
    "3. Then run the following to be able to run fastqc from any location, replacing the first parameter with the filepath where the fastqc wrapper script in the FASTQC folder is stored.\n",
    "```bash\n",
    "sudo ln -s /path/to/FastQC/fastqc /usr/local/bin/fastqc\n",
    "```\n",
    "For example:\n",
    "```bash\n",
    "sudo ln -s /Applications/FastQC/fastqc /usr/local/bin/fastqc\n",
    "```\n",
    "4. Terminal will then prompt you to enter the password to your machine. You will not see what is being typed but trust that it is being registered. "
   ]
  },
  {
   "cell_type": "markdown",
   "id": "ebb8fa63",
   "metadata": {},
   "source": [
    "### Running FASTQC on all the fastq.gz files in a folder"
   ]
  },
  {
   "cell_type": "markdown",
   "id": "7ed47f34",
   "metadata": {},
   "source": [
    "Usually, all of your fastq.gz files will be stored in the same directory. To run FASTQC on all of these files, follow these steps after following the steps above:\n",
    "\n",
    "1. Navigate (i.e., cd) to the folder where the sequencing files are stored in terminal.\n",
    "2. (optional but recommended) Create a folder that will store the outputs from running FASTQC using mkdir. For example:\n",
    "```bash\n",
    "mkdir FASTQC_outputs\n",
    "```\n",
    "3. Run the following command (the -o parameter is again optional but recommended; this parameter saves the outputs to the folder you just created. The \\*.fastq.gz says to run| FASTQC on all files ending in fastq.gz. \n",
    "```bash\n",
    "fastqc -o FASTQC_outputs/ *.fastq.gz \n",
    "```"
   ]
  },
  {
   "cell_type": "markdown",
   "id": "5f981d68",
   "metadata": {},
   "source": [
    "For further documentation on how to run FASTQC locally, visit the documentation [here](https://raw.githubusercontent.com/s-andrews/FastQC/master/INSTALL.txt)."
   ]
  }
 ],
 "metadata": {
  "kernelspec": {
   "display_name": "Python 3 (ipykernel)",
   "language": "python",
   "name": "python3"
  },
  "language_info": {
   "codemirror_mode": {
    "name": "ipython",
    "version": 3
   },
   "file_extension": ".py",
   "mimetype": "text/x-python",
   "name": "python",
   "nbconvert_exporter": "python",
   "pygments_lexer": "ipython3",
   "version": "3.7.6"
  }
 },
 "nbformat": 4,
 "nbformat_minor": 5
}
