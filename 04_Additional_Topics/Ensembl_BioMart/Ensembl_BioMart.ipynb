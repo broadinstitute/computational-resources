{
 "cells": [
  {
   "cell_type": "markdown",
   "id": "1dd84d70",
   "metadata": {},
   "source": [
    "# BioMart"
   ]
  },
  {
   "cell_type": "markdown",
   "id": "9d2646e6",
   "metadata": {},
   "source": [
    "## What is BioMart?"
   ]
  },
  {
   "cell_type": "markdown",
   "id": "46a0041d",
   "metadata": {},
   "source": [
    "[BioMart](http://useast.ensembl.org/biomart/martview/180192de636a075b7add9d266a1307c8) is a web-based tool from Ensembl that extracts data across databases."
   ]
  },
  {
   "cell_type": "markdown",
   "id": "03bedd94",
   "metadata": {},
   "source": [
    "## How is it useful?"
   ]
  },
  {
   "cell_type": "markdown",
   "id": "21267fff",
   "metadata": {},
   "source": [
    "BioMart can give you any information that you can get from an individual page for a gene or transcript on Ensembl in a tabular format that you can download as a text file. BioMart is especially useful for getting transcripts and annotation information for a list of genes. It can also be used to download FASTA sequence files that you can view in Snapgene."
   ]
  },
  {
   "cell_type": "markdown",
   "id": "3899070d",
   "metadata": {},
   "source": [
    "## How do I use it?"
   ]
  },
  {
   "cell_type": "markdown",
   "id": "0eb8cb98",
   "metadata": {},
   "source": [
    "Ensembl has a step-by-step documentation on their website, but below is an example of some common input parameters we have used in GPP in the past. "
   ]
  },
  {
   "cell_type": "markdown",
   "id": "633b8cc0",
   "metadata": {},
   "source": [
    "You can access BioMart by first going to ensembl.org and selecting \"BioMart\" from the top toolbar.\n",
    "\n",
    "![access_BioMart](images/BioMart_00_AccessBioMart.png)"
   ]
  },
  {
   "cell_type": "markdown",
   "id": "c8466157",
   "metadata": {},
   "source": [
    "This link will take you to the page shown below.\n",
    "\n",
    "![BioMart_start](images/BioMart_01_StartingPoint.png?)"
   ]
  },
  {
   "cell_type": "markdown",
   "id": "809c6cc9",
   "metadata": {},
   "source": [
    "For our transcript purposes, we generally use the Ensembl Genes Database and the human genes dataset.\n",
    "\n",
    "![BioMart_select_database](images/BioMart_02_SelectDatabase.png)\n",
    "![BioMart_select_dataset](images/BioMart_03_SelectDataset.png)"
   ]
  },
  {
   "cell_type": "markdown",
   "id": "5f3ae795",
   "metadata": {},
   "source": [
    "After you select a dataset, you will see a \"Filters\" option on the sidebar. Click on \"Filters\", then the + next to \"GENE\" to be able to restrict your results to a specific set of genes.\n",
    "![BioMart_select_database](images/BioMart_04_Filters.png?)"
   ]
  },
  {
   "cell_type": "markdown",
   "id": "73a81cff",
   "metadata": {},
   "source": [
    "Select \"Input external references ID list \\[Max 500 advised\\].\" You can select \"Gene names\" from the annotations list. If your gene list is coming from an external database, such as UniProt, you can select the corresponding option from the list accordingly. \n",
    "\n",
    "![BioMart_select_gene_annotations](images/BioMart_05_SelectGeneInputAnnotations.png)"
   ]
  },
  {
   "cell_type": "markdown",
   "id": "d5477855",
   "metadata": {},
   "source": [
    "You can either (1) manually enter a set of genes in the space provided,\n",
    "\n",
    "![BioMart_attributes](images/BioMart_06a_InputGenesManually.png)\n",
    "or (2) upload a .txt file containing a list of genes. \n",
    "![BioMart_attributes](images/BioMart_06b_UploadGeneList.png?)"
   ]
  },
  {
   "cell_type": "markdown",
   "id": "eb95011c",
   "metadata": {},
   "source": [
    "Next, click on \"Attributes\" on the left sidebar."
   ]
  },
  {
   "cell_type": "markdown",
   "id": "80613e93",
   "metadata": {},
   "source": [
    "### Generating a table with gene and transcript information"
   ]
  },
  {
   "cell_type": "markdown",
   "id": "d0629b79",
   "metadata": {},
   "source": [
    "Click on the + next to \"GENE\" under \"Features\" (default) to select what information related to the gene list you want to output.\n",
    "\n",
    "![BioMart_attributes](images/BioMart_07_Attributes.png)"
   ]
  },
  {
   "cell_type": "markdown",
   "id": "277680d0",
   "metadata": {},
   "source": [
    "The attributes that you want to select depends on what you're looking for in the BioMart run, but here are a few recommendations with their descriptions:\n",
    "\n",
    "* **Gene stable ID**: Ensembl gene ID (e.g. ENSG00000276876)\n",
    "* **Gene stable ID version**: Ensembl gene ID with version (e.g. ENSG00000276876.4)\n",
    "* **Transcript stable ID**: Ensembl transcript ID (e.g. ENST00000616597)\n",
    "* **Transcript stable ID version**: Ensembl transcript ID with version (e.g. ENST00000616597.4)\n",
    "* **RefSeq match transcript (MANE Select)**: If a transcript has a corresponding NCBI ID in this column, it is a preferred transcript for that gene. Matched Annotation from NCBI and EMBL-EBI (MANE) means that the exons for that transcript sequence match between NCBI and Ensembl (for more information, visit the [NCBI page](https://www.ncbi.nlm.nih.gov/refseq/MANE/))\n",
    "* **Transcript length (including UTRs and CDS)**: useful info to have; if none of the transcript flag filters help to select a transcript for a gene, we can pick the longest transcript for a particular gene\n",
    "* **Gene name**\n",
    "* **UniProtKB/Swiss-Prot ID**: (if applicable) UniProt gene ID, if your input gene list comes from this database, e.g., when designing a phosphosite base editor library\n",
    "\n",
    "The following attributes refer to transcript quality flags. For a full breakdown of these annotations and their hierarchy of transcripts, visit the Ensembl documentation [here]\n",
    "(https://www.ensembl.org/info/genome/genebuild/transcript_quality_tags.html)\n",
    "\n",
    "* **APPRIS annotation**: APPRIS is a transcript annotation database that we used before MANE Select, which can be useful for picking the best transcript (indicated as principal1) for a particular gene in the absence of a MANE Select transcript. \n",
    "* **Transcript support level (TSL)**: a database that assigns how well-supported a transcript is\n",
    "* **GENCODE basic annotation**: If no transcript passes the above transcript flag filters, we can use the GENCODE transcript annotations system\n",
    "\n",
    "![BioMart_select_attributes](images/BioMart_08_SelectAttributes.png)\n"
   ]
  },
  {
   "cell_type": "markdown",
   "id": "3f4fcdd7",
   "metadata": {},
   "source": [
    "After you've selected attributes, select the \"Results\" button in the top left corner.\n",
    "![BioMart_go_to_results](images/BioMart_09_GoToResults.png???)"
   ]
  },
  {
   "cell_type": "markdown",
   "id": "057cf167",
   "metadata": {},
   "source": [
    "To avoid duplicate rows, select \"Unique results only\" and click \"Go\" to download the full table. \n",
    "![BioMart_results](images/BioMart_10_DownloadResults.png)"
   ]
  },
  {
   "cell_type": "markdown",
   "id": "2e4d75db",
   "metadata": {},
   "source": [
    "### Downloading FASTA files to view in Snapgene"
   ]
  },
  {
   "cell_type": "markdown",
   "id": "fbbbf1e5",
   "metadata": {},
   "source": [
    "Select \"Sequences\" to select which sequences you want to download.\n",
    "\n",
    "![BioMart_seq_attributes](images/BioMart_07_SequenceAttributes.png?)"
   ]
  },
  {
   "cell_type": "markdown",
   "id": "c1e45d7d",
   "metadata": {},
   "source": [
    "To avoid generating too many sequence files, you can go back to \"Filters\" and check the \"MANE Select\" only box, to only generate sequences for the MANE Select transcripts for your gene. \n",
    "\n",
    "![BioMart_MANE_Select_Filter](images/BioMart_08_AddMANESelectFilter.png?)"
   ]
  },
  {
   "cell_type": "markdown",
   "id": "fce754b4",
   "metadata": {},
   "source": [
    "Going back to \"Attributes\", select the desired sequence that you'd like to generate from the options shown. In this example, we select \"Coding Sequence.\"\n",
    "\n",
    "![BioMart_attributes](images/BioMart_09_SelectSequenceAttributes.png)"
   ]
  },
  {
   "cell_type": "markdown",
   "id": "847790ad",
   "metadata": {},
   "source": [
    "After you've selected attributes, select the \"Results\" button in the top left corner.\n",
    "\n",
    "![BioMart_attributes](images/BioMart_10_DownloadSequenceResults.png)"
   ]
  },
  {
   "cell_type": "markdown",
   "id": "fe22c704",
   "metadata": {},
   "source": [
    "To avoid duplicate rows, select \"Unique results only\" and click \"Go\" to download the sequence files.\n",
    "\n",
    "![BioMart_results](images/BioMart_10_DownloadSequenceResults.png?)"
   ]
  },
  {
   "cell_type": "markdown",
   "id": "59cda068",
   "metadata": {},
   "source": [
    "The file will be downloaded as a text file, but it will need to be renamed to a fasta file.\n",
    "<table><tr>\n",
    "<td> <img src=\"images/BioMart_11_RenameTxtFile_1.png\" alt=\"BioMart_rename_txt_file_1\"/> </td>\n",
    "<td> <img src=\"images/BioMart_11_RenameTxtFile_2.png\" alt=\"BioMart_rename_txt_file_2\"/> </td>\n",
    "<td> <img src=\"images/BioMart_11_RenameTxtFile_3.png?\" alt=\"BioMart_rename_txt_file_3\"/> </td>\n",
    "</tr></table>\n"
   ]
  },
  {
   "cell_type": "markdown",
   "id": "844b5ec9",
   "metadata": {},
   "source": [
    "Now you are free to move this file if necessary and open this file in Snapgene."
   ]
  }
 ],
 "metadata": {
  "kernelspec": {
   "display_name": "Python 3 (ipykernel)",
   "language": "python",
   "name": "python3"
  },
  "language_info": {
   "codemirror_mode": {
    "name": "ipython",
    "version": 3
   },
   "file_extension": ".py",
   "mimetype": "text/x-python",
   "name": "python",
   "nbconvert_exporter": "python",
   "pygments_lexer": "ipython3",
   "version": "3.7.6"
  },
  "toc": {
   "base_numbering": 1,
   "nav_menu": {},
   "number_sections": true,
   "sideBar": true,
   "skip_h1_title": false,
   "title_cell": "Table of Contents",
   "title_sidebar": "Contents",
   "toc_cell": false,
   "toc_position": {},
   "toc_section_display": true,
   "toc_window_display": false
  }
 },
 "nbformat": 4,
 "nbformat_minor": 5
}
