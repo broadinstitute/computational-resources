{
 "cells": [
  {
   "cell_type": "markdown",
   "id": "8fd27084",
   "metadata": {},
   "source": [
    "# Requirements files\n",
    "\n",
    "Useful resource: https://learnpython.com/blog/python-requirements-file/"
   ]
  },
  {
   "cell_type": "markdown",
   "id": "01bbd8d6",
   "metadata": {},
   "source": [
    "## What is a requirements file?\n",
    "\n",
    "A .txt file that lists the packages and modules and associated versions required to run a project.\n",
    "\n",
    "<img src=\"images/apron_requirements_file.png\"  width=\"600\">"
   ]
  },
  {
   "cell_type": "markdown",
   "id": "634f3b5b",
   "metadata": {},
   "source": [
    "## Why is a requirements file important?\n",
    "* Makes installation of packages and modules easier\n",
    "* Makes it easier for other people to run your code in a virtual environment without worrying about version mismatches"
   ]
  },
  {
   "cell_type": "markdown",
   "id": "fa2eb5d4",
   "metadata": {},
   "source": [
    "## How to create a requirements.txt file"
   ]
  },
  {
   "cell_type": "markdown",
   "id": "6494b534",
   "metadata": {},
   "source": [
    "Say your code uses the following packages:"
   ]
  },
  {
   "cell_type": "code",
   "execution_count": 1,
   "id": "0f9dd150",
   "metadata": {},
   "outputs": [],
   "source": [
    "import pandas as pd\n",
    "import numpy as np\n",
    "import matplotlib.pyplot as plt\n",
    "import seaborn as sns\n",
    "import gpplot as gpp\n",
    "from poola import core as pool\n"
   ]
  },
  {
   "cell_type": "markdown",
   "id": "067ef9be",
   "metadata": {},
   "source": [
    "There are a few ways to write the package and their versions to a requirements.txt file."
   ]
  },
  {
   "cell_type": "markdown",
   "id": "51786225",
   "metadata": {},
   "source": [
    "1. If you're working in a virtual environment, you can simply run the following command in a cell in your notebook and it should write the packages in your environment to a `requirements.txt` file:\n",
    "\n",
    "`!pip freeze -l > requirements.txt`"
   ]
  },
  {
   "cell_type": "code",
   "execution_count": 13,
   "id": "2e2ee566",
   "metadata": {},
   "outputs": [],
   "source": [
    "!pip freeze -l > requirements_v2.txt"
   ]
  },
  {
   "cell_type": "markdown",
   "id": "83711a64",
   "metadata": {},
   "source": [
    "Sometimes this method leads to many associated but unnecessary modules being added, so you may need to go back and delete some."
   ]
  },
  {
   "cell_type": "markdown",
   "id": "5de06000",
   "metadata": {},
   "source": [
    "2. Alternatively, you can manually store the list of Python packages in a list, import the `sys` Python package, and use the `__version__` attribute to get the versions imported modules which you can write to a `requirements.txt` file."
   ]
  },
  {
   "cell_type": "code",
   "execution_count": 12,
   "id": "1f1bb2e6",
   "metadata": {},
   "outputs": [
    {
     "name": "stdout",
     "output_type": "stream",
     "text": [
      "pandas==1.2.1\n",
      "\n",
      "numpy==1.19.5\n",
      "\n",
      "matplotlib==3.4.2\n",
      "\n",
      "seaborn==0.11.2\n",
      "\n",
      "gpplot==0.5.0\n",
      "\n",
      "poola==0.0.15\n",
      "\n"
     ]
    }
   ],
   "source": [
    "import sys\n",
    "\n",
    "modules = ['pandas', 'numpy', 'matplotlib', 'seaborn', 'gpplot', 'poola']\n",
    "req_file = open('requirements.txt', 'w')\n",
    "\n",
    "for module in modules:\n",
    "    try:\n",
    "        req_line = module + '==' + sys.modules[module].__version__ + '\\n'\n",
    "        req_file.write(req_line)\n",
    "        print(req_line)\n",
    "    except:\n",
    "        print(module + ' has no __version__ attribute') \n",
    "        \n",
    "req_file.close()"
   ]
  },
  {
   "cell_type": "markdown",
   "id": "70803371",
   "metadata": {},
   "source": [
    "## How to install packages using a requirements file"
   ]
  },
  {
   "cell_type": "markdown",
   "id": "e95a0848",
   "metadata": {},
   "source": [
    "You can create a new virtual environment and run the following command:\n",
    "`pip install -r requirements.txt`\n",
    "\n",
    "If you're opening a GitHub repo in PyCharm which contains a requirements.txt file, PyCharm should automatically install those packages in the project virtual environment."
   ]
  }
 ],
 "metadata": {
  "kernelspec": {
   "display_name": "Python 3 (ipykernel)",
   "language": "python",
   "name": "python3"
  },
  "language_info": {
   "codemirror_mode": {
    "name": "ipython",
    "version": 3
   },
   "file_extension": ".py",
   "mimetype": "text/x-python",
   "name": "python",
   "nbconvert_exporter": "python",
   "pygments_lexer": "ipython3",
   "version": "3.7.6"
  },
  "toc": {
   "base_numbering": 1,
   "nav_menu": {},
   "number_sections": true,
   "sideBar": true,
   "skip_h1_title": false,
   "title_cell": "Table of Contents",
   "title_sidebar": "Contents",
   "toc_cell": false,
   "toc_position": {},
   "toc_section_display": true,
   "toc_window_display": false
  }
 },
 "nbformat": 4,
 "nbformat_minor": 5
}
