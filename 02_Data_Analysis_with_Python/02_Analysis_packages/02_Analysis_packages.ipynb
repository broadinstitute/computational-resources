{
 "cells": [
  {
   "cell_type": "markdown",
   "metadata": {},
   "source": [
    "This notebook will help you learn about 3 main packages used for data analysis in Python, <a\n",
    "href='https://pandas.pydata.org/'>pandas</a>, <a href='https://www.scipy.org/'>scipy</a> and <a href='https://numpy.org/'>\n",
    "numpy </a>. pandas is the most popular Python library for data analysis and manipulation whereas numpy and scipy are\n",
    "packages for scientific computing.\n",
    "\n",
    "To use these packages in your notebook, import them as shown below:"
   ]
  },
  {
   "cell_type": "code",
   "execution_count": 2,
   "metadata": {},
   "outputs": [],
   "source": [
    "import pandas as pd\n",
    "import numpy as np\n",
    "import scipy"
   ]
  },
  {
   "cell_type": "markdown",
   "metadata": {},
   "source": [
    "To understand the functionality of these packages we will use the sample dataset in the \"Data\" folder.\n",
    "\n",
    "## Reading files using pandas\n",
    "\n",
    "The pandas <a href='https://pandas.pydata.org/pandas-docs/stable/user_guide/index.html'>User Guide</a> is a useful and highly\n",
    "recommended resource. Please refer to that for additional details on the commands used in this notebook.\n",
    "\n",
    "First, the sample data can be read into a table (dataframe) using the read_csv command from pandas.\n",
    "The documentation for this command can be found <a href=\"https://pandas.pydata.org/pandas-docs/stable/user_guide/io.html#io-read-csv-table\">here</a>."
   ]
  },
  {
   "cell_type": "code",
   "execution_count": 3,
   "metadata": {},
   "outputs": [],
   "source": [
    "guide_annotations = pd.read_csv('../Data/sample_dataset_gene_annotations.csv')"
   ]
  },
  {
   "cell_type": "markdown",
   "metadata": {},
   "source": [
    "To view the table that was just read, we use the head() command. It displays the top 5 rows of the table by default. "
   ]
  },
  {
   "cell_type": "code",
   "execution_count": 4,
   "metadata": {},
   "outputs": [
    {
     "data": {
      "text/plain": "         sgRNA Sequence Annotated Gene Symbol Annotated Gene ID\n0  AAAAAAAATCCGGACAATGG              SLC25A24             29957\n1  AAAAAAAGGATGGTGATCAA               FASTKD3             79072\n2  AAAAAAATGACATTACTGCA                 BCAS2             10286\n3  AAAAAAATGTCAGTCGAGTG                 GPR18              2841\n4  AAAAAACACAAGCAAGACCG                ZNF470            388566",
      "text/html": "<div>\n<style scoped>\n    .dataframe tbody tr th:only-of-type {\n        vertical-align: middle;\n    }\n\n    .dataframe tbody tr th {\n        vertical-align: top;\n    }\n\n    .dataframe thead th {\n        text-align: right;\n    }\n</style>\n<table border=\"1\" class=\"dataframe\">\n  <thead>\n    <tr style=\"text-align: right;\">\n      <th></th>\n      <th>sgRNA Sequence</th>\n      <th>Annotated Gene Symbol</th>\n      <th>Annotated Gene ID</th>\n    </tr>\n  </thead>\n  <tbody>\n    <tr>\n      <th>0</th>\n      <td>AAAAAAAATCCGGACAATGG</td>\n      <td>SLC25A24</td>\n      <td>29957</td>\n    </tr>\n    <tr>\n      <th>1</th>\n      <td>AAAAAAAGGATGGTGATCAA</td>\n      <td>FASTKD3</td>\n      <td>79072</td>\n    </tr>\n    <tr>\n      <th>2</th>\n      <td>AAAAAAATGACATTACTGCA</td>\n      <td>BCAS2</td>\n      <td>10286</td>\n    </tr>\n    <tr>\n      <th>3</th>\n      <td>AAAAAAATGTCAGTCGAGTG</td>\n      <td>GPR18</td>\n      <td>2841</td>\n    </tr>\n    <tr>\n      <th>4</th>\n      <td>AAAAAACACAAGCAAGACCG</td>\n      <td>ZNF470</td>\n      <td>388566</td>\n    </tr>\n  </tbody>\n</table>\n</div>"
     },
     "execution_count": 4,
     "metadata": {},
     "output_type": "execute_result"
    }
   ],
   "source": [
    "guide_annotations.head()"
   ]
  },
  {
   "cell_type": "markdown",
   "metadata": {},
   "source": [
    "We can then view the size of the read dataframe using the <i>shape</i> attribute."
   ]
  },
  {
   "cell_type": "code",
   "execution_count": 5,
   "metadata": {},
   "outputs": [
    {
     "data": {
      "text/plain": [
       "(77441, 3)"
      ]
     },
     "execution_count": 5,
     "metadata": {},
     "output_type": "execute_result"
    }
   ],
   "source": [
    "guide_annotations.shape"
   ]
  },
  {
   "cell_type": "markdown",
   "metadata": {},
   "source": [
    "This indicates that there are 77,441 rows and 3 columns in this table. "
   ]
  },
  {
   "cell_type": "markdown",
   "metadata": {},
   "source": [
    "## Indexing, Slicing\n",
    "\n",
    "The following code blocks demonstrate subsetting rows and columns that satisfy a particular condition."
   ]
  },
  {
   "cell_type": "code",
   "execution_count": 11,
   "metadata": {},
   "outputs": [
    {
     "data": {
      "text/html": [
       "<div>\n",
       "<style scoped>\n",
       "    .dataframe tbody tr th:only-of-type {\n",
       "        vertical-align: middle;\n",
       "    }\n",
       "\n",
       "    .dataframe tbody tr th {\n",
       "        vertical-align: top;\n",
       "    }\n",
       "\n",
       "    .dataframe thead th {\n",
       "        text-align: right;\n",
       "    }\n",
       "</style>\n",
       "<table border=\"1\" class=\"dataframe\">\n",
       "  <thead>\n",
       "    <tr style=\"text-align: right;\">\n",
       "      <th></th>\n",
       "      <th>sgRNA Sequence</th>\n",
       "      <th>Annotated Gene Symbol</th>\n",
       "      <th>Annotated Gene ID</th>\n",
       "    </tr>\n",
       "  </thead>\n",
       "  <tbody>\n",
       "    <tr>\n",
       "      <th>0</th>\n",
       "      <td>AAAAAAAATCCGGACAATGG</td>\n",
       "      <td>SLC25A24</td>\n",
       "      <td>29957</td>\n",
       "    </tr>\n",
       "    <tr>\n",
       "      <th>27139</th>\n",
       "      <td>CCAGGCACTGGACCGCAATG</td>\n",
       "      <td>SLC25A24</td>\n",
       "      <td>29957</td>\n",
       "    </tr>\n",
       "    <tr>\n",
       "      <th>29333</th>\n",
       "      <td>CCGTCTGAAAATCATGATGC</td>\n",
       "      <td>SLC25A24</td>\n",
       "      <td>29957</td>\n",
       "    </tr>\n",
       "    <tr>\n",
       "      <th>54696</th>\n",
       "      <td>GGTATCCGCTCGCTTTGGAG</td>\n",
       "      <td>SLC25A24</td>\n",
       "      <td>29957</td>\n",
       "    </tr>\n",
       "  </tbody>\n",
       "</table>\n",
       "</div>"
      ],
      "text/plain": [
       "             sgRNA Sequence Annotated Gene Symbol Annotated Gene ID\n",
       "0      AAAAAAAATCCGGACAATGG              SLC25A24             29957\n",
       "27139  CCAGGCACTGGACCGCAATG              SLC25A24             29957\n",
       "29333  CCGTCTGAAAATCATGATGC              SLC25A24             29957\n",
       "54696  GGTATCCGCTCGCTTTGGAG              SLC25A24             29957"
      ]
     },
     "execution_count": 11,
     "metadata": {},
     "output_type": "execute_result"
    }
   ],
   "source": [
    "#To retrieve the rows for SLC25A24\n",
    "gene_rows = guide_annotations[guide_annotations['Annotated Gene Symbol'] == 'SLC25A24']\n",
    "\n",
    "gene_rows"
   ]
  },
  {
   "cell_type": "code",
   "execution_count": 12,
   "metadata": {},
   "outputs": [
    {
     "data": {
      "text/plain": [
       "0        AAAAAAAATCCGGACAATGG\n",
       "27139    CCAGGCACTGGACCGCAATG\n",
       "29333    CCGTCTGAAAATCATGATGC\n",
       "54696    GGTATCCGCTCGCTTTGGAG\n",
       "Name: sgRNA Sequence, dtype: object"
      ]
     },
     "execution_count": 12,
     "metadata": {},
     "output_type": "execute_result"
    }
   ],
   "source": [
    "#Retrieve only the guides sequences for SLC25A24\n",
    "guide_seqs = gene_rows['sgRNA Sequence']\n",
    "\n",
    "guide_seqs"
   ]
  },
  {
   "cell_type": "code",
   "execution_count": 19,
   "metadata": {},
   "outputs": [
    {
     "data": {
      "text/plain": [
       "0        AAAAAAAATCCGGACAATGG\n",
       "27139    CCAGGCACTGGACCGCAATG\n",
       "29333    CCGTCTGAAAATCATGATGC\n",
       "54696    GGTATCCGCTCGCTTTGGAG\n",
       "Name: sgRNA Sequence, dtype: object"
      ]
     },
     "execution_count": 19,
     "metadata": {},
     "output_type": "execute_result"
    }
   ],
   "source": [
    "#Subsetting rows and getting a specific column in a single command\n",
    "#Label-based selection\n",
    "guides = guide_annotations.loc[guide_annotations['Annotated Gene Symbol'] == 'SLC25A24','sgRNA Sequence']\n",
    "\n",
    "guides"
   ]
  },
  {
   "cell_type": "code",
   "execution_count": 18,
   "metadata": {},
   "outputs": [
    {
     "data": {
      "text/plain": [
       "0     AAAAAAAATCCGGACAATGG\n",
       "1     AAAAAAAGGATGGTGATCAA\n",
       "2     AAAAAAATGACATTACTGCA\n",
       "3     AAAAAAATGTCAGTCGAGTG\n",
       "4     AAAAAACACAAGCAAGACCG\n",
       "5     AAAAAACAGATGCCACCTGT\n",
       "6     AAAAAACCAAACTTTGAAGT\n",
       "7     AAAAAACCCGTAGATAGCCT\n",
       "8     AAAAAACCTGGGCAAAACAG\n",
       "9     AAAAAACCTTCAAAGTACAA\n",
       "10    AAAAAACGAACGGATTAACA\n",
       "11    AAAAAACTCTACCACCCAGT\n",
       "12    AAAAAACTGGAGTACGACAG\n",
       "13    AAAAAACTTACAAGTCCAGG\n",
       "14    AAAAAACTTATGTCCATGGA\n",
       "15    AAAAAACTTGTATCAGCTGT\n",
       "16    AAAAAAGAATGCCCCAAAGG\n",
       "17    AAAAAAGACCCCATCCGAGA\n",
       "18    AAAAAAGCATTGCCTGACAG\n",
       "19    AAAAAAGCCCTCACCAACTG\n",
       "Name: sgRNA Sequence, dtype: object"
      ]
     },
     "execution_count": 18,
     "metadata": {},
     "output_type": "execute_result"
    }
   ],
   "source": [
    "#Subsetting rows and getting a specific column\n",
    "#Index-based selection\n",
    "#Get first 20 guide sequences\n",
    "first_20_guides = guide_annotations.iloc[0:20,0]\n",
    "\n",
    "first_20_guides"
   ]
  },
  {
   "cell_type": "code",
   "execution_count": 20,
   "metadata": {},
   "outputs": [
    {
     "data": {
      "text/html": [
       "<div>\n",
       "<style scoped>\n",
       "    .dataframe tbody tr th:only-of-type {\n",
       "        vertical-align: middle;\n",
       "    }\n",
       "\n",
       "    .dataframe tbody tr th {\n",
       "        vertical-align: top;\n",
       "    }\n",
       "\n",
       "    .dataframe thead th {\n",
       "        text-align: right;\n",
       "    }\n",
       "</style>\n",
       "<table border=\"1\" class=\"dataframe\">\n",
       "  <thead>\n",
       "    <tr style=\"text-align: right;\">\n",
       "      <th></th>\n",
       "      <th>sgRNA Sequence</th>\n",
       "      <th>Annotated Gene Symbol</th>\n",
       "    </tr>\n",
       "  </thead>\n",
       "  <tbody>\n",
       "    <tr>\n",
       "      <th>0</th>\n",
       "      <td>AAAAAAAATCCGGACAATGG</td>\n",
       "      <td>SLC25A24</td>\n",
       "    </tr>\n",
       "    <tr>\n",
       "      <th>1</th>\n",
       "      <td>AAAAAAAGGATGGTGATCAA</td>\n",
       "      <td>FASTKD3</td>\n",
       "    </tr>\n",
       "    <tr>\n",
       "      <th>2</th>\n",
       "      <td>AAAAAAATGACATTACTGCA</td>\n",
       "      <td>BCAS2</td>\n",
       "    </tr>\n",
       "    <tr>\n",
       "      <th>3</th>\n",
       "      <td>AAAAAAATGTCAGTCGAGTG</td>\n",
       "      <td>GPR18</td>\n",
       "    </tr>\n",
       "    <tr>\n",
       "      <th>4</th>\n",
       "      <td>AAAAAACACAAGCAAGACCG</td>\n",
       "      <td>ZNF470</td>\n",
       "    </tr>\n",
       "    <tr>\n",
       "      <th>...</th>\n",
       "      <td>...</td>\n",
       "      <td>...</td>\n",
       "    </tr>\n",
       "    <tr>\n",
       "      <th>77436</th>\n",
       "      <td>TTTGTTTGGATTGCTTCAAG</td>\n",
       "      <td>NEPRO</td>\n",
       "    </tr>\n",
       "    <tr>\n",
       "      <th>77437</th>\n",
       "      <td>TTTTACCTTGTTCACATGGA</td>\n",
       "      <td>NO_CURRENT_997</td>\n",
       "    </tr>\n",
       "    <tr>\n",
       "      <th>77438</th>\n",
       "      <td>TTTTGACTCTAATCACCGGT</td>\n",
       "      <td>NO_CURRENT_998</td>\n",
       "    </tr>\n",
       "    <tr>\n",
       "      <th>77439</th>\n",
       "      <td>TTTTTAATACAAGGTAATCT</td>\n",
       "      <td>NO_CURRENT_999</td>\n",
       "    </tr>\n",
       "    <tr>\n",
       "      <th>77440</th>\n",
       "      <td>TTTTTCTCACCCGATGAATC</td>\n",
       "      <td>NO_CURRENT_1000</td>\n",
       "    </tr>\n",
       "  </tbody>\n",
       "</table>\n",
       "<p>77441 rows × 2 columns</p>\n",
       "</div>"
      ],
      "text/plain": [
       "             sgRNA Sequence Annotated Gene Symbol\n",
       "0      AAAAAAAATCCGGACAATGG              SLC25A24\n",
       "1      AAAAAAAGGATGGTGATCAA               FASTKD3\n",
       "2      AAAAAAATGACATTACTGCA                 BCAS2\n",
       "3      AAAAAAATGTCAGTCGAGTG                 GPR18\n",
       "4      AAAAAACACAAGCAAGACCG                ZNF470\n",
       "...                     ...                   ...\n",
       "77436  TTTGTTTGGATTGCTTCAAG                 NEPRO\n",
       "77437  TTTTACCTTGTTCACATGGA        NO_CURRENT_997\n",
       "77438  TTTTGACTCTAATCACCGGT        NO_CURRENT_998\n",
       "77439  TTTTTAATACAAGGTAATCT        NO_CURRENT_999\n",
       "77440  TTTTTCTCACCCGATGAATC       NO_CURRENT_1000\n",
       "\n",
       "[77441 rows x 2 columns]"
      ]
     },
     "execution_count": 20,
     "metadata": {},
     "output_type": "execute_result"
    }
   ],
   "source": [
    "# Subset columns\n",
    "subset_columns = guide_annotations[['sgRNA Sequence','Annotated Gene Symbol']]\n",
    "\n",
    "subset_columns"
   ]
  },
  {
   "cell_type": "markdown",
   "metadata": {},
   "source": [
    "## Merging\n",
    "\n",
    "We often handle files that need to be combined at some stage of the analysis pipeline. The merge command in pandas is very useful for this purpose. \n",
    "\n",
    "Here, we will first read the tab with the read counts from Supplementary Data 1 and then merge it with the gene annotations we have. "
   ]
  },
  {
   "cell_type": "code",
   "execution_count": null,
   "metadata": {},
   "outputs": [],
   "source": []
  }
 ],
 "metadata": {
  "hide_input": false,
  "kernelspec": {
   "display_name": "Python 3",
   "language": "python",
   "name": "python3"
  },
  "language_info": {
   "codemirror_mode": {
    "name": "ipython",
    "version": 3
   },
   "file_extension": ".py",
   "mimetype": "text/x-python",
   "name": "python",
   "nbconvert_exporter": "python",
   "pygments_lexer": "ipython3",
   "version": "3.8.3"
  },
  "toc": {
   "base_numbering": 1,
   "nav_menu": {},
   "number_sections": true,
   "sideBar": true,
   "skip_h1_title": false,
   "title_cell": "Table of Contents",
   "title_sidebar": "Contents",
   "toc_cell": false,
   "toc_position": {},
   "toc_section_display": true,
   "toc_window_display": true
  },
  "varInspector": {
   "cols": {
    "lenName": 16,
    "lenType": 16,
    "lenVar": 40
   },
   "kernels_config": {
    "python": {
     "delete_cmd_postfix": "",
     "delete_cmd_prefix": "del ",
     "library": "var_list.py",
     "varRefreshCmd": "print(var_dic_list())"
    },
    "r": {
     "delete_cmd_postfix": ") ",
     "delete_cmd_prefix": "rm(",
     "library": "var_list.r",
     "varRefreshCmd": "cat(var_dic_list()) "
    }
   },
   "types_to_exclude": [
    "module",
    "function",
    "builtin_function_or_method",
    "instance",
    "_Feature"
   ],
   "window_display": false
  }
 },
 "nbformat": 4,
 "nbformat_minor": 4
}