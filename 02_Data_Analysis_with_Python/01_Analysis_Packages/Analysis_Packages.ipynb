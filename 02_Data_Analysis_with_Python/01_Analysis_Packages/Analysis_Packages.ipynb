{
 "cells": [
  {
   "cell_type": "markdown",
   "metadata": {},
   "source": [
    "This notebook will help you learn about 3 main packages used for data analysis in Python: [pandas](https://pandas.pydata.org/),\n",
    "[scipy](https://www.scipy.org/) and [numpy](https://numpy.org/). pandas is the most popular Python library for data\n",
    "analysis and manipulation whereas numpy and scipy are packages for scientific computing.\n",
    "\n",
    "To use any package in your notebook, import them as shown below:"
   ]
  },
  {
   "cell_type": "code",
   "execution_count": 1,
   "metadata": {},
   "outputs": [],
   "source": [
    "import pandas as pd\n",
    "import numpy as np\n",
    "import scipy.stats"
   ]
  },
  {
   "cell_type": "markdown",
   "metadata": {},
   "source": [
    "These packages should import without errors since they are listed in the requirements.txt that you installed to the base_analysis virtual environment.\n",
    "If you get an error that the "Module" does not exist, simply open a new terminal window, activate the base_analysis virtual environment, \n",
    "and install the package with the ```pip install packagename``` command. \n",
    "To understand the functionality of these packages we will use the sample dataset in the \"Data\" folder.\n",
    "\n",
    "## Reading files using pandas\n",
    "\n",
    "The pandas [User Guide](https://pandas.pydata.org/pandas-docs/stable/user_guide/index.html) is a useful and highly\n",
    "recommended resource. Please refer to that for additional details on the commands used in this notebook.\n",
    "\n",
    "The pandas [Cheat Sheet](http://datacamp-community-prod.s3.amazonaws.com/dbed353d-2757-4617-8206-8767ab379ab3) by Datacamp\n",
    "is also a good quick resource.\n",
    "\n",
    "First, the sample data can be read into a table (dataframe) using the read_csv command from pandas.\n",
    "The documentation for this command can be found [here](https://pandas.pydata.org/pandas-docs/stable/user_guide/io.html#io-read-csv-table)."
   ]
  },
  {
   "cell_type": "code",
   "execution_count": 13,
   "metadata": {},
   "outputs": [],
   "source": [
    "guide_annotations = pd.read_csv('Data/sample_dataset_gene_annotations.csv')"
   ]
  },
  {
   "cell_type": "markdown",
   "metadata": {},
   "source": [
    "To view the table that was just read, we use the `head()` command. It displays the top 5 rows of the table by default."
   ]
  },
  {
   "cell_type": "code",
   "execution_count": 14,
   "metadata": {},
   "outputs": [
    {
     "data": {
      "text/plain": "         sgRNA Sequence Gene Symbol Gene ID\n0  AAAAAAAATCCGGACAATGG    SLC25A24   29957\n1  AAAAAAAGGATGGTGATCAA     FASTKD3   79072\n2  AAAAAAATGACATTACTGCA       BCAS2   10286\n3  AAAAAAATGTCAGTCGAGTG       GPR18    2841\n4  AAAAAACACAAGCAAGACCG      ZNF470  388566",
      "text/html": "<div>\n<style scoped>\n    .dataframe tbody tr th:only-of-type {\n        vertical-align: middle;\n    }\n\n    .dataframe tbody tr th {\n        vertical-align: top;\n    }\n\n    .dataframe thead th {\n        text-align: right;\n    }\n</style>\n<table border=\"1\" class=\"dataframe\">\n  <thead>\n    <tr style=\"text-align: right;\">\n      <th></th>\n      <th>sgRNA Sequence</th>\n      <th>Gene Symbol</th>\n      <th>Gene ID</th>\n    </tr>\n  </thead>\n  <tbody>\n    <tr>\n      <th>0</th>\n      <td>AAAAAAAATCCGGACAATGG</td>\n      <td>SLC25A24</td>\n      <td>29957</td>\n    </tr>\n    <tr>\n      <th>1</th>\n      <td>AAAAAAAGGATGGTGATCAA</td>\n      <td>FASTKD3</td>\n      <td>79072</td>\n    </tr>\n    <tr>\n      <th>2</th>\n      <td>AAAAAAATGACATTACTGCA</td>\n      <td>BCAS2</td>\n      <td>10286</td>\n    </tr>\n    <tr>\n      <th>3</th>\n      <td>AAAAAAATGTCAGTCGAGTG</td>\n      <td>GPR18</td>\n      <td>2841</td>\n    </tr>\n    <tr>\n      <th>4</th>\n      <td>AAAAAACACAAGCAAGACCG</td>\n      <td>ZNF470</td>\n      <td>388566</td>\n    </tr>\n  </tbody>\n</table>\n</div>"
     },
     "execution_count": 14,
     "metadata": {},
     "output_type": "execute_result"
    }
   ],
   "source": [
    "guide_annotations.head()"
   ]
  },
  {
   "cell_type": "markdown",
   "metadata": {},
   "source": [
    "We can then view the size of the read dataframe using the `shape` attribute."
   ]
  },
  {
   "cell_type": "code",
   "execution_count": 4,
   "metadata": {},
   "outputs": [
    {
     "data": {
      "text/plain": "(86983, 3)"
     },
     "execution_count": 4,
     "metadata": {},
     "output_type": "execute_result"
    }
   ],
   "source": [
    "guide_annotations.shape"
   ]
  },
  {
   "cell_type": "markdown",
   "metadata": {},
   "source": [
    "This indicates that there are 86,983 rows and 3 columns in this table."
   ]
  },
  {
   "cell_type": "markdown",
   "metadata": {},
   "source": [
    "## Subsetting data\n",
    "\n",
    "The following code blocks demonstrate subsetting rows and columns that satisfy a particular condition.\n",
    "To retrieve the rows for SLC25A24, we use the following command."
   ]
  },
  {
   "cell_type": "code",
   "execution_count": 16,
   "metadata": {},
   "outputs": [
    {
     "data": {
      "text/plain": "             sgRNA Sequence Gene Symbol Gene ID\n0      AAAAAAAATCCGGACAATGG    SLC25A24   29957\n30214  CCAGGCACTGGACCGCAATG    SLC25A24   29957\n32733  CCGTCTGAAAATCATGATGC    SLC25A24   29957\n61238  GGTATCCGCTCGCTTTGGAG    SLC25A24   29957",
      "text/html": "<div>\n<style scoped>\n    .dataframe tbody tr th:only-of-type {\n        vertical-align: middle;\n    }\n\n    .dataframe tbody tr th {\n        vertical-align: top;\n    }\n\n    .dataframe thead th {\n        text-align: right;\n    }\n</style>\n<table border=\"1\" class=\"dataframe\">\n  <thead>\n    <tr style=\"text-align: right;\">\n      <th></th>\n      <th>sgRNA Sequence</th>\n      <th>Gene Symbol</th>\n      <th>Gene ID</th>\n    </tr>\n  </thead>\n  <tbody>\n    <tr>\n      <th>0</th>\n      <td>AAAAAAAATCCGGACAATGG</td>\n      <td>SLC25A24</td>\n      <td>29957</td>\n    </tr>\n    <tr>\n      <th>30214</th>\n      <td>CCAGGCACTGGACCGCAATG</td>\n      <td>SLC25A24</td>\n      <td>29957</td>\n    </tr>\n    <tr>\n      <th>32733</th>\n      <td>CCGTCTGAAAATCATGATGC</td>\n      <td>SLC25A24</td>\n      <td>29957</td>\n    </tr>\n    <tr>\n      <th>61238</th>\n      <td>GGTATCCGCTCGCTTTGGAG</td>\n      <td>SLC25A24</td>\n      <td>29957</td>\n    </tr>\n  </tbody>\n</table>\n</div>"
     },
     "execution_count": 16,
     "metadata": {},
     "output_type": "execute_result"
    }
   ],
   "source": [
    "gene_rows = guide_annotations[guide_annotations['Gene Symbol'] == 'SLC25A24']\n",
    "\n",
    "gene_rows"
   ]
  },
  {
   "cell_type": "markdown",
   "source": [
    "To retrieve only the guide sequences for SLC25A24:"
   ],
   "metadata": {
    "collapsed": false,
    "pycharm": {
     "name": "#%% md\n"
    }
   }
  },
  {
   "cell_type": "code",
   "execution_count": 17,
   "metadata": {},
   "outputs": [
    {
     "data": {
      "text/plain": "0        AAAAAAAATCCGGACAATGG\n30214    CCAGGCACTGGACCGCAATG\n32733    CCGTCTGAAAATCATGATGC\n61238    GGTATCCGCTCGCTTTGGAG\nName: sgRNA Sequence, dtype: object"
     },
     "execution_count": 17,
     "metadata": {},
     "output_type": "execute_result"
    }
   ],
   "source": [
    "guide_seqs = gene_rows['sgRNA Sequence']\n",
    "\n",
    "guide_seqs"
   ]
  },
  {
   "cell_type": "markdown",
   "source": [
    "We can subset rows and extract a specific column in a single command as follows:"
   ],
   "metadata": {
    "collapsed": false,
    "pycharm": {
     "name": "#%% md\n"
    }
   }
  },
  {
   "cell_type": "code",
   "execution_count": 18,
   "metadata": {},
   "outputs": [
    {
     "data": {
      "text/plain": "0        AAAAAAAATCCGGACAATGG\n30214    CCAGGCACTGGACCGCAATG\n32733    CCGTCTGAAAATCATGATGC\n61238    GGTATCCGCTCGCTTTGGAG\nName: sgRNA Sequence, dtype: object"
     },
     "execution_count": 18,
     "metadata": {},
     "output_type": "execute_result"
    }
   ],
   "source": [
    "#Label-based selection\n",
    "guides = guide_annotations.loc[guide_annotations['Gene Symbol'] == 'SLC25A24','sgRNA Sequence']\n",
    "\n",
    "guides"
   ]
  },
  {
   "cell_type": "code",
   "execution_count": 19,
   "metadata": {},
   "outputs": [
    {
     "data": {
      "text/plain": "0     AAAAAAAATCCGGACAATGG\n1     AAAAAAAGGATGGTGATCAA\n2     AAAAAAATGACATTACTGCA\n3     AAAAAAATGTCAGTCGAGTG\n4     AAAAAACACAAGCAAGACCG\n5     AAAAAACAGATGCCACCTGT\n6     AAAAAACCAAACTTTGAAGT\n7     AAAAAACCCGTAGATAGCCT\n8     AAAAAACCTGGGCAAAACAG\n9     AAAAAACCTTCAAAGTACAA\n10    AAAAAACGAACGGATTAACA\n11    AAAAAACTCTACCACCCAGT\n12    AAAAAACTGGAGTACGACAG\n13    AAAAAACTTACAAGTCCAGG\n14    AAAAAACTTATGTCCATGGA\n15    AAAAAACTTGTATCAGCTGT\n16    AAAAAAGAATGCCCCAAAGG\n17    AAAAAAGAATGCCCCAAAGG\n18    AAAAAAGACCCCATCCGAGA\n19    AAAAAAGCATTGCCTGACAG\nName: sgRNA Sequence, dtype: object"
     },
     "execution_count": 19,
     "metadata": {},
     "output_type": "execute_result"
    }
   ],
   "source": [
    "#Index-based selection\n",
    "#Get first 20 guide sequences\n",
    "first_20_guides = guide_annotations.iloc[0:20,0]\n",
    "\n",
    "first_20_guides"
   ]
  },
  {
   "cell_type": "code",
   "execution_count": 20,
   "metadata": {},
   "outputs": [
    {
     "data": {
      "text/plain": "             sgRNA Sequence     Gene Symbol\n0      AAAAAAAATCCGGACAATGG        SLC25A24\n1      AAAAAAAGGATGGTGATCAA         FASTKD3\n2      AAAAAAATGACATTACTGCA           BCAS2\n3      AAAAAAATGTCAGTCGAGTG           GPR18\n4      AAAAAACACAAGCAAGACCG          ZNF470\n...                     ...             ...\n86978  TTTTGACTCTAATCACCGGT  INACTIVE_4T_54\n86979  TTTTTAATACAAGGTAATCT     NO_SITE_940\n86980  TTTTTAATACAAGGTAATCT  INACTIVE_5T_55\n86981  TTTTTCTCACCCGATGAATC     NO_SITE_941\n86982  TTTTTCTCACCCGATGAATC  INACTIVE_5T_56\n\n[86983 rows x 2 columns]",
      "text/html": "<div>\n<style scoped>\n    .dataframe tbody tr th:only-of-type {\n        vertical-align: middle;\n    }\n\n    .dataframe tbody tr th {\n        vertical-align: top;\n    }\n\n    .dataframe thead th {\n        text-align: right;\n    }\n</style>\n<table border=\"1\" class=\"dataframe\">\n  <thead>\n    <tr style=\"text-align: right;\">\n      <th></th>\n      <th>sgRNA Sequence</th>\n      <th>Gene Symbol</th>\n    </tr>\n  </thead>\n  <tbody>\n    <tr>\n      <th>0</th>\n      <td>AAAAAAAATCCGGACAATGG</td>\n      <td>SLC25A24</td>\n    </tr>\n    <tr>\n      <th>1</th>\n      <td>AAAAAAAGGATGGTGATCAA</td>\n      <td>FASTKD3</td>\n    </tr>\n    <tr>\n      <th>2</th>\n      <td>AAAAAAATGACATTACTGCA</td>\n      <td>BCAS2</td>\n    </tr>\n    <tr>\n      <th>3</th>\n      <td>AAAAAAATGTCAGTCGAGTG</td>\n      <td>GPR18</td>\n    </tr>\n    <tr>\n      <th>4</th>\n      <td>AAAAAACACAAGCAAGACCG</td>\n      <td>ZNF470</td>\n    </tr>\n    <tr>\n      <th>...</th>\n      <td>...</td>\n      <td>...</td>\n    </tr>\n    <tr>\n      <th>86978</th>\n      <td>TTTTGACTCTAATCACCGGT</td>\n      <td>INACTIVE_4T_54</td>\n    </tr>\n    <tr>\n      <th>86979</th>\n      <td>TTTTTAATACAAGGTAATCT</td>\n      <td>NO_SITE_940</td>\n    </tr>\n    <tr>\n      <th>86980</th>\n      <td>TTTTTAATACAAGGTAATCT</td>\n      <td>INACTIVE_5T_55</td>\n    </tr>\n    <tr>\n      <th>86981</th>\n      <td>TTTTTCTCACCCGATGAATC</td>\n      <td>NO_SITE_941</td>\n    </tr>\n    <tr>\n      <th>86982</th>\n      <td>TTTTTCTCACCCGATGAATC</td>\n      <td>INACTIVE_5T_56</td>\n    </tr>\n  </tbody>\n</table>\n<p>86983 rows × 2 columns</p>\n</div>"
     },
     "execution_count": 20,
     "metadata": {},
     "output_type": "execute_result"
    }
   ],
   "source": [
    "# Subset columns\n",
    "subset_columns = guide_annotations[['sgRNA Sequence','Gene Symbol']]\n",
    "\n",
    "subset_columns"
   ]
  },
  {
   "cell_type": "markdown",
   "metadata": {},
   "source": [
    "## Merging data\n",
    "\n",
    "We often handle files that need to be combined at some stage of the analysis pipeline. The merge command in pandas is\n",
    "very useful for this purpose.\n",
    "\n",
    "In the following example, we will merge the read counts and the guide annotation file."
   ]
  },
  {
   "cell_type": "code",
   "execution_count": 21,
   "outputs": [
    {
     "data": {
      "text/plain": "         sgRNA Sequence  pDNA  A375_RepA  A375_RepB\n0  AAAAAAAATCCGGACAATGG   522        729        774\n1  AAAAAAAGGATGGTGATCAA   511       1484       1393\n2  AAAAAAATGACATTACTGCA   467        375        603\n3  AAAAAAATGTCAGTCGAGTG   200        737        506\n4  AAAAAACACAAGCAAGACCG   286        672        352",
      "text/html": "<div>\n<style scoped>\n    .dataframe tbody tr th:only-of-type {\n        vertical-align: middle;\n    }\n\n    .dataframe tbody tr th {\n        vertical-align: top;\n    }\n\n    .dataframe thead th {\n        text-align: right;\n    }\n</style>\n<table border=\"1\" class=\"dataframe\">\n  <thead>\n    <tr style=\"text-align: right;\">\n      <th></th>\n      <th>sgRNA Sequence</th>\n      <th>pDNA</th>\n      <th>A375_RepA</th>\n      <th>A375_RepB</th>\n    </tr>\n  </thead>\n  <tbody>\n    <tr>\n      <th>0</th>\n      <td>AAAAAAAATCCGGACAATGG</td>\n      <td>522</td>\n      <td>729</td>\n      <td>774</td>\n    </tr>\n    <tr>\n      <th>1</th>\n      <td>AAAAAAAGGATGGTGATCAA</td>\n      <td>511</td>\n      <td>1484</td>\n      <td>1393</td>\n    </tr>\n    <tr>\n      <th>2</th>\n      <td>AAAAAAATGACATTACTGCA</td>\n      <td>467</td>\n      <td>375</td>\n      <td>603</td>\n    </tr>\n    <tr>\n      <th>3</th>\n      <td>AAAAAAATGTCAGTCGAGTG</td>\n      <td>200</td>\n      <td>737</td>\n      <td>506</td>\n    </tr>\n    <tr>\n      <th>4</th>\n      <td>AAAAAACACAAGCAAGACCG</td>\n      <td>286</td>\n      <td>672</td>\n      <td>352</td>\n    </tr>\n  </tbody>\n</table>\n</div>"
     },
     "execution_count": 21,
     "metadata": {},
     "output_type": "execute_result"
    }
   ],
   "source": [
    "read_counts = pd.read_csv('Data/sample_dataset_read_counts.csv')\n",
    "\n",
    "read_counts.head()"
   ],
   "metadata": {
    "collapsed": false,
    "pycharm": {
     "name": "#%%\n"
    }
   }
  },
  {
   "cell_type": "markdown",
   "source": [
    "We can now merge dataframes on the guide sequence column which is common to both the `guide_annotations` and `read_counts`\n",
    "dataframes."
   ],
   "metadata": {
    "collapsed": false,
    "pycharm": {
     "name": "#%% md\n"
    }
   }
  },
  {
   "cell_type": "code",
   "execution_count": 22,
   "outputs": [
    {
     "data": {
      "text/plain": "         sgRNA Sequence Gene Symbol Gene ID  pDNA  A375_RepA  A375_RepB\n0  AAAAAAAATCCGGACAATGG    SLC25A24   29957   522        729        774\n1  AAAAAAAGGATGGTGATCAA     FASTKD3   79072   511       1484       1393\n2  AAAAAAATGACATTACTGCA       BCAS2   10286   467        375        603\n3  AAAAAAATGTCAGTCGAGTG       GPR18    2841   200        737        506\n4  AAAAAACACAAGCAAGACCG      ZNF470  388566   286        672        352",
      "text/html": "<div>\n<style scoped>\n    .dataframe tbody tr th:only-of-type {\n        vertical-align: middle;\n    }\n\n    .dataframe tbody tr th {\n        vertical-align: top;\n    }\n\n    .dataframe thead th {\n        text-align: right;\n    }\n</style>\n<table border=\"1\" class=\"dataframe\">\n  <thead>\n    <tr style=\"text-align: right;\">\n      <th></th>\n      <th>sgRNA Sequence</th>\n      <th>Gene Symbol</th>\n      <th>Gene ID</th>\n      <th>pDNA</th>\n      <th>A375_RepA</th>\n      <th>A375_RepB</th>\n    </tr>\n  </thead>\n  <tbody>\n    <tr>\n      <th>0</th>\n      <td>AAAAAAAATCCGGACAATGG</td>\n      <td>SLC25A24</td>\n      <td>29957</td>\n      <td>522</td>\n      <td>729</td>\n      <td>774</td>\n    </tr>\n    <tr>\n      <th>1</th>\n      <td>AAAAAAAGGATGGTGATCAA</td>\n      <td>FASTKD3</td>\n      <td>79072</td>\n      <td>511</td>\n      <td>1484</td>\n      <td>1393</td>\n    </tr>\n    <tr>\n      <th>2</th>\n      <td>AAAAAAATGACATTACTGCA</td>\n      <td>BCAS2</td>\n      <td>10286</td>\n      <td>467</td>\n      <td>375</td>\n      <td>603</td>\n    </tr>\n    <tr>\n      <th>3</th>\n      <td>AAAAAAATGTCAGTCGAGTG</td>\n      <td>GPR18</td>\n      <td>2841</td>\n      <td>200</td>\n      <td>737</td>\n      <td>506</td>\n    </tr>\n    <tr>\n      <th>4</th>\n      <td>AAAAAACACAAGCAAGACCG</td>\n      <td>ZNF470</td>\n      <td>388566</td>\n      <td>286</td>\n      <td>672</td>\n      <td>352</td>\n    </tr>\n  </tbody>\n</table>\n</div>"
     },
     "execution_count": 22,
     "metadata": {},
     "output_type": "execute_result"
    }
   ],
   "source": [
    "merged_df = pd.merge(guide_annotations, read_counts, on='sgRNA Sequence')\n",
    "\n",
    "merged_df.head()"
   ],
   "metadata": {
    "collapsed": false,
    "pycharm": {
     "name": "#%%\n"
    }
   }
  },
  {
   "cell_type": "markdown",
   "source": [
    "This dataframe now has columns from both the `guide_annotations` and the `read_counts` dataframes. This resulting `merged_df`\n",
    "dataframe can be used to perform gene-level analyses.\n",
    "\n",
    "To demonstrate the use of [numpy](https://numpy.org/) and [scipy](https://www.scipy.org/), we will read the sample\n",
    "log-fold changes data from the \"Data\" folder and calculate a few statistics."
   ],
   "metadata": {
    "collapsed": false
   }
  },
  {
   "cell_type": "code",
   "execution_count": 23,
   "outputs": [
    {
     "data": {
      "text/plain": "         sgRNA Sequence  A375_RepA  A375_RepB\n0  AAAAAAAATCCGGACAATGG  -0.818831  -0.671000\n1  AAAAAAAGGATGGTGATCAA   0.163102   0.148894\n2  AAAAAAATGACATTACTGCA  -1.500766  -0.844622\n3  AAAAAAATGTCAGTCGAGTG   0.457721   0.043161\n4  AAAAAACACAAGCAAGACCG  -0.120172  -0.860161",
      "text/html": "<div>\n<style scoped>\n    .dataframe tbody tr th:only-of-type {\n        vertical-align: middle;\n    }\n\n    .dataframe tbody tr th {\n        vertical-align: top;\n    }\n\n    .dataframe thead th {\n        text-align: right;\n    }\n</style>\n<table border=\"1\" class=\"dataframe\">\n  <thead>\n    <tr style=\"text-align: right;\">\n      <th></th>\n      <th>sgRNA Sequence</th>\n      <th>A375_RepA</th>\n      <th>A375_RepB</th>\n    </tr>\n  </thead>\n  <tbody>\n    <tr>\n      <th>0</th>\n      <td>AAAAAAAATCCGGACAATGG</td>\n      <td>-0.818831</td>\n      <td>-0.671000</td>\n    </tr>\n    <tr>\n      <th>1</th>\n      <td>AAAAAAAGGATGGTGATCAA</td>\n      <td>0.163102</td>\n      <td>0.148894</td>\n    </tr>\n    <tr>\n      <th>2</th>\n      <td>AAAAAAATGACATTACTGCA</td>\n      <td>-1.500766</td>\n      <td>-0.844622</td>\n    </tr>\n    <tr>\n      <th>3</th>\n      <td>AAAAAAATGTCAGTCGAGTG</td>\n      <td>0.457721</td>\n      <td>0.043161</td>\n    </tr>\n    <tr>\n      <th>4</th>\n      <td>AAAAAACACAAGCAAGACCG</td>\n      <td>-0.120172</td>\n      <td>-0.860161</td>\n    </tr>\n  </tbody>\n</table>\n</div>"
     },
     "execution_count": 23,
     "metadata": {},
     "output_type": "execute_result"
    }
   ],
   "source": [
    "lfc = pd.read_csv('Data/sample_data_log_fold_changes.csv')\n",
    "\n",
    "lfc.head()"
   ],
   "metadata": {
    "collapsed": false,
    "pycharm": {
     "name": "#%%\n"
    }
   }
  },
  {
   "cell_type": "markdown",
   "source": [
    "We will now calculate the Pearson correlation between the two replicates in the `lfc` dataframe using the *pearsonr* command."
   ],
   "metadata": {
    "collapsed": false
   }
  },
  {
   "cell_type": "code",
   "execution_count": 24,
   "outputs": [
    {
     "data": {
      "text/plain": "(0.7869377335565522, 0.0)"
     },
     "execution_count": 24,
     "metadata": {},
     "output_type": "execute_result"
    }
   ],
   "source": [
    "correlation = scipy.stats.pearsonr(lfc['A375_RepA'], lfc['A375_RepB'])\n",
    "\n",
    "correlation"
   ],
   "metadata": {
    "collapsed": false,
    "pycharm": {
     "name": "#%%\n"
    }
   }
  },
  {
   "cell_type": "markdown",
   "source": [
    "These replicates have a Pearson correlation coefficient of 0.79 with a p-value of 0.0."
   ],
   "metadata": {
    "collapsed": false,
    "pycharm": {
     "name": "#%% md\n"
    }
   }
  },
  {
   "cell_type": "markdown",
   "source": [
    "We can also find the mean and median of each replicate using the `mean` and `median` commands from numpy."
   ],
   "metadata": {
    "collapsed": false,
    "pycharm": {
     "name": "#%% md\n"
    }
   }
  },
  {
   "cell_type": "code",
   "execution_count": 25,
   "outputs": [
    {
     "name": "stdout",
     "output_type": "stream",
     "text": [
      "RepA Mean: -0.17\n",
      "RepA Median: -0.02\n"
     ]
    }
   ],
   "source": [
    "repa_mean = np.mean(lfc['A375_RepA'])\n",
    "repa_median = np.median(lfc['A375_RepA'])\n",
    "\n",
    "print(\"RepA Mean:\",'%.2f'%repa_mean)\n",
    "print(\"RepA Median:\",'%.2f'%repa_median)\n",
    "\n"
   ],
   "metadata": {
    "collapsed": false,
    "pycharm": {
     "name": "#%%\n"
    }
   }
  }
 ],
 "metadata": {
  "hide_input": false,
  "kernelspec": {
   "display_name": "Python 3",
   "language": "python",
   "name": "python3"
  },
  "language_info": {
   "codemirror_mode": {
    "name": "ipython",
    "version": 3
   },
   "file_extension": ".py",
   "mimetype": "text/x-python",
   "name": "python",
   "nbconvert_exporter": "python",
   "pygments_lexer": "ipython3",
   "version": "3.8.3"
  },
  "toc": {
   "base_numbering": 1,
   "nav_menu": {},
   "number_sections": true,
   "sideBar": true,
   "skip_h1_title": false,
   "title_cell": "Table of Contents",
   "title_sidebar": "Contents",
   "toc_cell": false,
   "toc_position": {},
   "toc_section_display": true,
   "toc_window_display": true
  },
  "varInspector": {
   "cols": {
    "lenName": 16,
    "lenType": 16,
    "lenVar": 40
   },
   "kernels_config": {
    "python": {
     "delete_cmd_postfix": "",
     "delete_cmd_prefix": "del ",
     "library": "var_list.py",
     "varRefreshCmd": "print(var_dic_list())"
    },
    "r": {
     "delete_cmd_postfix": ") ",
     "delete_cmd_prefix": "rm(",
     "library": "var_list.r",
     "varRefreshCmd": "cat(var_dic_list()) "
    }
   },
   "types_to_exclude": [
    "module",
    "function",
    "builtin_function_or_method",
    "instance",
    "_Feature"
   ],
   "window_display": false
  }
 },
 "nbformat": 4,
 "nbformat_minor": 4
}
